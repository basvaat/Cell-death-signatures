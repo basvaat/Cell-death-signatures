{
 "cells": [
  {
   "cell_type": "code",
   "execution_count": 2,
   "metadata": {
    "collapsed": true,
    "deletable": true,
    "editable": true
   },
   "outputs": [],
   "source": [
    "import pandas as pd\n",
    "import numpy as np\n",
    "\n",
    "from subprocess import call\n",
    "\n",
    "from matplotlib import pyplot as plt\n",
    "import seaborn as sns\n",
    "\n",
    "from scipy.stats import pearsonr as pcor\n",
    "\n",
    "%matplotlib inline\n",
    "sns.set_style('whitegrid')"
   ]
  },
  {
   "cell_type": "markdown",
   "metadata": {
    "deletable": true,
    "editable": true
   },
   "source": [
    "## Functional genomic analysis\n",
    "Here we will analyse the cell death associated signature from functional genomic aspect.\n",
    "\n",
    "At first we will calculate gene expression - cell viability correlation coefficients form Achilles-L1000-96h (and also CTRP-L1000-24h) datasets."
   ]
  },
  {
   "cell_type": "code",
   "execution_count": 38,
   "metadata": {
    "collapsed": false,
    "deletable": true,
    "editable": true
   },
   "outputs": [],
   "source": [
    "#achilles data\n",
    "sig_info=pd.read_table('../results/Achilles/sig_info_merged_lm.csv',\n",
    "                      sep=',',header=0,index_col=[0])\n",
    "signatures=pd.read_table('../results/Achilles/signatures_merged_lm.csv',\n",
    "                        sep=',',header=0,index_col=[0])\n",
    "fil=sig_info['pert_itime']=='96 h'\n",
    "sig_info=sig_info[fil]\n",
    "signatures=signatures.loc[sig_info.index]"
   ]
  },
  {
   "cell_type": "code",
   "execution_count": 39,
   "metadata": {
    "collapsed": true,
    "deletable": true,
    "editable": true
   },
   "outputs": [],
   "source": [
    "#prepare a dataframe to store correlations\n",
    "gene_info=pd.read_table('../data/LINCS/GSE92742/GSE92742_Broad_LINCS_gene_info.txt',\n",
    "                       sep='\\t',index_col=[0],header=0)\n",
    "fil=gene_info['pr_is_lm']==1\n",
    "gene_info=gene_info[fil]\n",
    "gene_info.index=gene_info.index.astype(str)\n",
    "correlations=pd.DataFrame(index=gene_info.index,\n",
    "                           columns=['pr_gene_symbol','Pearson_r','p_val'])\n",
    "correlations['pr_gene_symbol']=gene_info['pr_gene_symbol']"
   ]
  },
  {
   "cell_type": "code",
   "execution_count": 40,
   "metadata": {
    "collapsed": false,
    "deletable": true,
    "editable": true
   },
   "outputs": [],
   "source": [
    "for gene_id in correlations.index:\n",
    "    r,p=pcor(signatures[gene_id],sig_info['shRNA_abundance'])\n",
    "    correlations.loc[gene_id,['Pearson_r','p_val']]=r,p\n",
    "correlations.to_csv('../results/functional/achilles_cors_lm.csv')"
   ]
  },
  {
   "cell_type": "code",
   "execution_count": 41,
   "metadata": {
    "collapsed": false,
    "deletable": true,
    "editable": true
   },
   "outputs": [
    {
     "data": {
      "text/html": [
       "<div>\n",
       "<style>\n",
       "    .dataframe thead tr:only-child th {\n",
       "        text-align: right;\n",
       "    }\n",
       "\n",
       "    .dataframe thead th {\n",
       "        text-align: left;\n",
       "    }\n",
       "\n",
       "    .dataframe tbody tr th {\n",
       "        vertical-align: top;\n",
       "    }\n",
       "</style>\n",
       "<table border=\"1\" class=\"dataframe\">\n",
       "  <thead>\n",
       "    <tr style=\"text-align: right;\">\n",
       "      <th></th>\n",
       "      <th>pr_gene_symbol</th>\n",
       "      <th>Pearson_r</th>\n",
       "      <th>p_val</th>\n",
       "    </tr>\n",
       "    <tr>\n",
       "      <th>pr_gene_id</th>\n",
       "      <th></th>\n",
       "      <th></th>\n",
       "      <th></th>\n",
       "    </tr>\n",
       "  </thead>\n",
       "  <tbody>\n",
       "    <tr>\n",
       "      <th>890</th>\n",
       "      <td>CCNA2</td>\n",
       "      <td>0.342784</td>\n",
       "      <td>0</td>\n",
       "    </tr>\n",
       "    <tr>\n",
       "      <th>332</th>\n",
       "      <td>BIRC5</td>\n",
       "      <td>0.328564</td>\n",
       "      <td>0</td>\n",
       "    </tr>\n",
       "    <tr>\n",
       "      <th>7153</th>\n",
       "      <td>TOP2A</td>\n",
       "      <td>0.306413</td>\n",
       "      <td>0</td>\n",
       "    </tr>\n",
       "    <tr>\n",
       "      <th>11065</th>\n",
       "      <td>UBE2C</td>\n",
       "      <td>0.306173</td>\n",
       "      <td>0</td>\n",
       "    </tr>\n",
       "    <tr>\n",
       "      <th>983</th>\n",
       "      <td>CDK1</td>\n",
       "      <td>0.300557</td>\n",
       "      <td>0</td>\n",
       "    </tr>\n",
       "  </tbody>\n",
       "</table>\n",
       "</div>"
      ],
      "text/plain": [
       "           pr_gene_symbol Pearson_r p_val\n",
       "pr_gene_id                               \n",
       "890                 CCNA2  0.342784     0\n",
       "332                 BIRC5  0.328564     0\n",
       "7153                TOP2A  0.306413     0\n",
       "11065               UBE2C  0.306173     0\n",
       "983                  CDK1  0.300557     0"
      ]
     },
     "execution_count": 41,
     "metadata": {},
     "output_type": "execute_result"
    }
   ],
   "source": [
    "#just looking into the gene - viaiblity correlations\n",
    "correlations.sort_values('Pearson_r',ascending=False).head()"
   ]
  },
  {
   "cell_type": "code",
   "execution_count": 42,
   "metadata": {
    "collapsed": true,
    "deletable": true,
    "editable": true
   },
   "outputs": [],
   "source": [
    "# do the same analysis with ctrp\n",
    "sig_info=pd.read_table('../results/CTRP/sig_info_merged_lm.csv',\n",
    "                      sep=',',header=0,index_col=[0])\n",
    "signatures=pd.read_table('../results/CTRP/signatures_merged_lm.csv',\n",
    "                        sep=',',header=0,index_col=[0])\n",
    "fil=sig_info['pert_itime']=='24 h'\n",
    "sig_info=sig_info[fil]\n",
    "signatures=signatures.loc[sig_info.index]\n",
    "correlations=pd.DataFrame(index=gene_info.index,\n",
    "                           columns=['pr_gene_symbol','Pearson_r','p_val'])\n",
    "correlations['pr_gene_symbol']=gene_info['pr_gene_symbol']\n",
    "for gene_id in correlations.index:\n",
    "    r,p=pcor(signatures[gene_id],sig_info['cpd_avg_pv'])\n",
    "    correlations.loc[gene_id,['Pearson_r','p_val']]=r,p\n",
    "correlations.to_csv('../results/functional/ctrp_cors_lm.csv')"
   ]
  },
  {
   "cell_type": "markdown",
   "metadata": {
    "deletable": true,
    "editable": true
   },
   "source": [
    "## Gene Ontology Enrichment\n",
    "We perform Gene Ontology (Biological Process) enrichment with piano R package (*fgsea* method) using correlation values as gene level statistics. The enriched GO terms are related to cell death / prolifeation and inflamation process."
   ]
  },
  {
   "cell_type": "code",
   "execution_count": 14,
   "metadata": {
    "collapsed": false,
    "deletable": true,
    "editable": true
   },
   "outputs": [
    {
     "data": {
      "text/plain": [
       "0"
      ]
     },
     "execution_count": 14,
     "metadata": {},
     "output_type": "execute_result"
    }
   ],
   "source": [
    "# Gene Ontology Enrichments\n",
    "call(['Rscript','GO_BP_enrichments.R'])"
   ]
  },
  {
   "cell_type": "code",
   "execution_count": 18,
   "metadata": {
    "collapsed": false,
    "deletable": true,
    "editable": true
   },
   "outputs": [
    {
     "data": {
      "text/html": [
       "<div>\n",
       "<style>\n",
       "    .dataframe thead tr:only-child th {\n",
       "        text-align: right;\n",
       "    }\n",
       "\n",
       "    .dataframe thead th {\n",
       "        text-align: left;\n",
       "    }\n",
       "\n",
       "    .dataframe tbody tr th {\n",
       "        vertical-align: top;\n",
       "    }\n",
       "</style>\n",
       "<table border=\"1\" class=\"dataframe\">\n",
       "  <thead>\n",
       "    <tr style=\"text-align: right;\">\n",
       "      <th></th>\n",
       "      <th>Name</th>\n",
       "      <th>Genes (tot)</th>\n",
       "      <th>Stat (dist.dir)</th>\n",
       "      <th>p (dist.dir.up)</th>\n",
       "      <th>p adj (dist.dir.up)</th>\n",
       "      <th>p (dist.dir.dn)</th>\n",
       "      <th>p adj (dist.dir.dn)</th>\n",
       "      <th>Genes (up)</th>\n",
       "      <th>Genes (down)</th>\n",
       "    </tr>\n",
       "  </thead>\n",
       "  <tbody>\n",
       "    <tr>\n",
       "      <th>1732</th>\n",
       "      <td>GO_REGULATION_OF_SECRETION</td>\n",
       "      <td>56</td>\n",
       "      <td>-0.48515</td>\n",
       "      <td>NaN</td>\n",
       "      <td>NaN</td>\n",
       "      <td>0.000192</td>\n",
       "      <td>0.02028</td>\n",
       "      <td>16</td>\n",
       "      <td>40</td>\n",
       "    </tr>\n",
       "    <tr>\n",
       "      <th>2054</th>\n",
       "      <td>GO_VASCULATURE_DEVELOPMENT</td>\n",
       "      <td>51</td>\n",
       "      <td>-0.50775</td>\n",
       "      <td>NaN</td>\n",
       "      <td>NaN</td>\n",
       "      <td>0.000194</td>\n",
       "      <td>0.02028</td>\n",
       "      <td>12</td>\n",
       "      <td>39</td>\n",
       "    </tr>\n",
       "    <tr>\n",
       "      <th>1880</th>\n",
       "      <td>GO_RESPONSE_TO_OXYGEN_CONTAINING_COMPOUND</td>\n",
       "      <td>162</td>\n",
       "      <td>-0.36686</td>\n",
       "      <td>NaN</td>\n",
       "      <td>NaN</td>\n",
       "      <td>0.000183</td>\n",
       "      <td>0.02028</td>\n",
       "      <td>58</td>\n",
       "      <td>104</td>\n",
       "    </tr>\n",
       "    <tr>\n",
       "      <th>184</th>\n",
       "      <td>GO_CELLULAR_RESPONSE_TO_ORGANIC_SUBSTANCE</td>\n",
       "      <td>193</td>\n",
       "      <td>-0.34273</td>\n",
       "      <td>NaN</td>\n",
       "      <td>NaN</td>\n",
       "      <td>0.000181</td>\n",
       "      <td>0.02028</td>\n",
       "      <td>66</td>\n",
       "      <td>127</td>\n",
       "    </tr>\n",
       "    <tr>\n",
       "      <th>1819</th>\n",
       "      <td>GO_RESPONSE_TO_BACTERIUM</td>\n",
       "      <td>55</td>\n",
       "      <td>-0.51211</td>\n",
       "      <td>NaN</td>\n",
       "      <td>NaN</td>\n",
       "      <td>0.000192</td>\n",
       "      <td>0.02028</td>\n",
       "      <td>15</td>\n",
       "      <td>40</td>\n",
       "    </tr>\n",
       "    <tr>\n",
       "      <th>497</th>\n",
       "      <td>GO_INFLAMMATORY_RESPONSE</td>\n",
       "      <td>41</td>\n",
       "      <td>-0.59845</td>\n",
       "      <td>NaN</td>\n",
       "      <td>NaN</td>\n",
       "      <td>0.000190</td>\n",
       "      <td>0.02028</td>\n",
       "      <td>6</td>\n",
       "      <td>35</td>\n",
       "    </tr>\n",
       "    <tr>\n",
       "      <th>1612</th>\n",
       "      <td>GO_REGULATION_OF_MULTICELLULAR_ORGANISMAL_DEVE...</td>\n",
       "      <td>160</td>\n",
       "      <td>-0.35962</td>\n",
       "      <td>NaN</td>\n",
       "      <td>NaN</td>\n",
       "      <td>0.000183</td>\n",
       "      <td>0.02028</td>\n",
       "      <td>57</td>\n",
       "      <td>103</td>\n",
       "    </tr>\n",
       "    <tr>\n",
       "      <th>287</th>\n",
       "      <td>GO_DEFENSE_RESPONSE</td>\n",
       "      <td>93</td>\n",
       "      <td>-0.47241</td>\n",
       "      <td>NaN</td>\n",
       "      <td>NaN</td>\n",
       "      <td>0.000188</td>\n",
       "      <td>0.02028</td>\n",
       "      <td>27</td>\n",
       "      <td>66</td>\n",
       "    </tr>\n",
       "    <tr>\n",
       "      <th>40</th>\n",
       "      <td>GO_ANATOMICAL_STRUCTURE_FORMATION_INVOLVED_IN_...</td>\n",
       "      <td>75</td>\n",
       "      <td>-0.50289</td>\n",
       "      <td>NaN</td>\n",
       "      <td>NaN</td>\n",
       "      <td>0.000189</td>\n",
       "      <td>0.02028</td>\n",
       "      <td>20</td>\n",
       "      <td>55</td>\n",
       "    </tr>\n",
       "    <tr>\n",
       "      <th>1840</th>\n",
       "      <td>GO_RESPONSE_TO_EXTERNAL_STIMULUS</td>\n",
       "      <td>159</td>\n",
       "      <td>-0.37962</td>\n",
       "      <td>NaN</td>\n",
       "      <td>NaN</td>\n",
       "      <td>0.000183</td>\n",
       "      <td>0.02028</td>\n",
       "      <td>60</td>\n",
       "      <td>99</td>\n",
       "    </tr>\n",
       "  </tbody>\n",
       "</table>\n",
       "</div>"
      ],
      "text/plain": [
       "                                                   Name  Genes (tot)  \\\n",
       "1732                         GO_REGULATION_OF_SECRETION           56   \n",
       "2054                         GO_VASCULATURE_DEVELOPMENT           51   \n",
       "1880          GO_RESPONSE_TO_OXYGEN_CONTAINING_COMPOUND          162   \n",
       "184           GO_CELLULAR_RESPONSE_TO_ORGANIC_SUBSTANCE          193   \n",
       "1819                           GO_RESPONSE_TO_BACTERIUM           55   \n",
       "497                            GO_INFLAMMATORY_RESPONSE           41   \n",
       "1612  GO_REGULATION_OF_MULTICELLULAR_ORGANISMAL_DEVE...          160   \n",
       "287                                 GO_DEFENSE_RESPONSE           93   \n",
       "40    GO_ANATOMICAL_STRUCTURE_FORMATION_INVOLVED_IN_...           75   \n",
       "1840                   GO_RESPONSE_TO_EXTERNAL_STIMULUS          159   \n",
       "\n",
       "      Stat (dist.dir)  p (dist.dir.up)  p adj (dist.dir.up)  p (dist.dir.dn)  \\\n",
       "1732         -0.48515              NaN                  NaN         0.000192   \n",
       "2054         -0.50775              NaN                  NaN         0.000194   \n",
       "1880         -0.36686              NaN                  NaN         0.000183   \n",
       "184          -0.34273              NaN                  NaN         0.000181   \n",
       "1819         -0.51211              NaN                  NaN         0.000192   \n",
       "497          -0.59845              NaN                  NaN         0.000190   \n",
       "1612         -0.35962              NaN                  NaN         0.000183   \n",
       "287          -0.47241              NaN                  NaN         0.000188   \n",
       "40           -0.50289              NaN                  NaN         0.000189   \n",
       "1840         -0.37962              NaN                  NaN         0.000183   \n",
       "\n",
       "      p adj (dist.dir.dn)  Genes (up)  Genes (down)  \n",
       "1732              0.02028          16            40  \n",
       "2054              0.02028          12            39  \n",
       "1880              0.02028          58           104  \n",
       "184               0.02028          66           127  \n",
       "1819              0.02028          15            40  \n",
       "497               0.02028           6            35  \n",
       "1612              0.02028          57           103  \n",
       "287               0.02028          27            66  \n",
       "40                0.02028          20            55  \n",
       "1840              0.02028          60            99  "
      ]
     },
     "execution_count": 18,
     "metadata": {},
     "output_type": "execute_result"
    }
   ],
   "source": [
    "#just look into GO results\n",
    "data=pd.read_table('../results/functional/enrichments/GOBP_achilles.tsv',\n",
    "                   sep='\\t',header=0,index_col=[0])\n",
    "data.sort_values('p adj (dist.dir.dn)').head(10)"
   ]
  },
  {
   "cell_type": "markdown",
   "metadata": {
    "deletable": true,
    "editable": true
   },
   "source": [
    "## KEGG pathway enrichment\n",
    "We also performed KEGG pathway enrichment analisis, similary to GO enrichment."
   ]
  },
  {
   "cell_type": "code",
   "execution_count": 19,
   "metadata": {
    "collapsed": false,
    "deletable": true,
    "editable": true
   },
   "outputs": [
    {
     "data": {
      "text/plain": [
       "0"
      ]
     },
     "execution_count": 19,
     "metadata": {},
     "output_type": "execute_result"
    }
   ],
   "source": [
    "# KEGG pathway Enrichments\n",
    "call(['Rscript','KEGG_enrichments.R'])"
   ]
  },
  {
   "cell_type": "code",
   "execution_count": 21,
   "metadata": {
    "collapsed": false,
    "deletable": true,
    "editable": true
   },
   "outputs": [
    {
     "data": {
      "text/html": [
       "<div>\n",
       "<style>\n",
       "    .dataframe thead tr:only-child th {\n",
       "        text-align: right;\n",
       "    }\n",
       "\n",
       "    .dataframe thead th {\n",
       "        text-align: left;\n",
       "    }\n",
       "\n",
       "    .dataframe tbody tr th {\n",
       "        vertical-align: top;\n",
       "    }\n",
       "</style>\n",
       "<table border=\"1\" class=\"dataframe\">\n",
       "  <thead>\n",
       "    <tr style=\"text-align: right;\">\n",
       "      <th></th>\n",
       "      <th>Name</th>\n",
       "      <th>Genes (tot)</th>\n",
       "      <th>Stat (dist.dir)</th>\n",
       "      <th>p (dist.dir.up)</th>\n",
       "      <th>p adj (dist.dir.up)</th>\n",
       "      <th>p (dist.dir.dn)</th>\n",
       "      <th>p adj (dist.dir.dn)</th>\n",
       "      <th>Genes (up)</th>\n",
       "      <th>Genes (down)</th>\n",
       "    </tr>\n",
       "  </thead>\n",
       "  <tbody>\n",
       "    <tr>\n",
       "      <th>23</th>\n",
       "      <td>KEGG_CYTOKINE_CYTOKINE_RECEPTOR_INTERACTION</td>\n",
       "      <td>17</td>\n",
       "      <td>-0.73142</td>\n",
       "      <td>NaN</td>\n",
       "      <td>NaN</td>\n",
       "      <td>0.000193</td>\n",
       "      <td>0.006919</td>\n",
       "      <td>2</td>\n",
       "      <td>15</td>\n",
       "    </tr>\n",
       "    <tr>\n",
       "      <th>62</th>\n",
       "      <td>KEGG_NATURAL_KILLER_CELL_MEDIATED_CYTOTOXICITY</td>\n",
       "      <td>18</td>\n",
       "      <td>-0.67053</td>\n",
       "      <td>NaN</td>\n",
       "      <td>NaN</td>\n",
       "      <td>0.000195</td>\n",
       "      <td>0.006919</td>\n",
       "      <td>1</td>\n",
       "      <td>17</td>\n",
       "    </tr>\n",
       "    <tr>\n",
       "      <th>97</th>\n",
       "      <td>KEGG_TOLL_LIKE_RECEPTOR_SIGNALING_PATHWAY</td>\n",
       "      <td>17</td>\n",
       "      <td>-0.62931</td>\n",
       "      <td>NaN</td>\n",
       "      <td>NaN</td>\n",
       "      <td>0.001741</td>\n",
       "      <td>0.041199</td>\n",
       "      <td>3</td>\n",
       "      <td>14</td>\n",
       "    </tr>\n",
       "    <tr>\n",
       "      <th>49</th>\n",
       "      <td>KEGG_INSULIN_SIGNALING_PATHWAY</td>\n",
       "      <td>28</td>\n",
       "      <td>-0.52477</td>\n",
       "      <td>NaN</td>\n",
       "      <td>NaN</td>\n",
       "      <td>0.002896</td>\n",
       "      <td>0.051400</td>\n",
       "      <td>9</td>\n",
       "      <td>19</td>\n",
       "    </tr>\n",
       "    <tr>\n",
       "      <th>8</th>\n",
       "      <td>KEGG_APOPTOSIS</td>\n",
       "      <td>23</td>\n",
       "      <td>-0.54688</td>\n",
       "      <td>NaN</td>\n",
       "      <td>NaN</td>\n",
       "      <td>0.003684</td>\n",
       "      <td>0.052317</td>\n",
       "      <td>7</td>\n",
       "      <td>16</td>\n",
       "    </tr>\n",
       "    <tr>\n",
       "      <th>16</th>\n",
       "      <td>KEGG_CALCIUM_SIGNALING_PATHWAY</td>\n",
       "      <td>20</td>\n",
       "      <td>-0.56626</td>\n",
       "      <td>NaN</td>\n",
       "      <td>NaN</td>\n",
       "      <td>0.004650</td>\n",
       "      <td>0.055028</td>\n",
       "      <td>6</td>\n",
       "      <td>14</td>\n",
       "    </tr>\n",
       "    <tr>\n",
       "      <th>43</th>\n",
       "      <td>KEGG_HEDGEHOG_SIGNALING_PATHWAY</td>\n",
       "      <td>6</td>\n",
       "      <td>-0.79044</td>\n",
       "      <td>NaN</td>\n",
       "      <td>NaN</td>\n",
       "      <td>0.007429</td>\n",
       "      <td>0.058608</td>\n",
       "      <td>0</td>\n",
       "      <td>6</td>\n",
       "    </tr>\n",
       "    <tr>\n",
       "      <th>73</th>\n",
       "      <td>KEGG_PATHWAYS_IN_CANCER</td>\n",
       "      <td>75</td>\n",
       "      <td>-0.36908</td>\n",
       "      <td>NaN</td>\n",
       "      <td>NaN</td>\n",
       "      <td>0.006781</td>\n",
       "      <td>0.058608</td>\n",
       "      <td>27</td>\n",
       "      <td>48</td>\n",
       "    </tr>\n",
       "    <tr>\n",
       "      <th>79</th>\n",
       "      <td>KEGG_PRION_DISEASES</td>\n",
       "      <td>9</td>\n",
       "      <td>-0.69820</td>\n",
       "      <td>NaN</td>\n",
       "      <td>NaN</td>\n",
       "      <td>0.006868</td>\n",
       "      <td>0.058608</td>\n",
       "      <td>1</td>\n",
       "      <td>8</td>\n",
       "    </tr>\n",
       "    <tr>\n",
       "      <th>15</th>\n",
       "      <td>KEGG_B_CELL_RECEPTOR_SIGNALING_PATHWAY</td>\n",
       "      <td>19</td>\n",
       "      <td>-0.54774</td>\n",
       "      <td>NaN</td>\n",
       "      <td>NaN</td>\n",
       "      <td>0.009340</td>\n",
       "      <td>0.066316</td>\n",
       "      <td>3</td>\n",
       "      <td>16</td>\n",
       "    </tr>\n",
       "  </tbody>\n",
       "</table>\n",
       "</div>"
      ],
      "text/plain": [
       "                                              Name  Genes (tot)  \\\n",
       "23     KEGG_CYTOKINE_CYTOKINE_RECEPTOR_INTERACTION           17   \n",
       "62  KEGG_NATURAL_KILLER_CELL_MEDIATED_CYTOTOXICITY           18   \n",
       "97       KEGG_TOLL_LIKE_RECEPTOR_SIGNALING_PATHWAY           17   \n",
       "49                  KEGG_INSULIN_SIGNALING_PATHWAY           28   \n",
       "8                                   KEGG_APOPTOSIS           23   \n",
       "16                  KEGG_CALCIUM_SIGNALING_PATHWAY           20   \n",
       "43                 KEGG_HEDGEHOG_SIGNALING_PATHWAY            6   \n",
       "73                         KEGG_PATHWAYS_IN_CANCER           75   \n",
       "79                             KEGG_PRION_DISEASES            9   \n",
       "15          KEGG_B_CELL_RECEPTOR_SIGNALING_PATHWAY           19   \n",
       "\n",
       "    Stat (dist.dir)  p (dist.dir.up)  p adj (dist.dir.up)  p (dist.dir.dn)  \\\n",
       "23         -0.73142              NaN                  NaN         0.000193   \n",
       "62         -0.67053              NaN                  NaN         0.000195   \n",
       "97         -0.62931              NaN                  NaN         0.001741   \n",
       "49         -0.52477              NaN                  NaN         0.002896   \n",
       "8          -0.54688              NaN                  NaN         0.003684   \n",
       "16         -0.56626              NaN                  NaN         0.004650   \n",
       "43         -0.79044              NaN                  NaN         0.007429   \n",
       "73         -0.36908              NaN                  NaN         0.006781   \n",
       "79         -0.69820              NaN                  NaN         0.006868   \n",
       "15         -0.54774              NaN                  NaN         0.009340   \n",
       "\n",
       "    p adj (dist.dir.dn)  Genes (up)  Genes (down)  \n",
       "23             0.006919           2            15  \n",
       "62             0.006919           1            17  \n",
       "97             0.041199           3            14  \n",
       "49             0.051400           9            19  \n",
       "8              0.052317           7            16  \n",
       "16             0.055028           6            14  \n",
       "43             0.058608           0             6  \n",
       "73             0.058608          27            48  \n",
       "79             0.058608           1             8  \n",
       "15             0.066316           3            16  "
      ]
     },
     "execution_count": 21,
     "metadata": {},
     "output_type": "execute_result"
    }
   ],
   "source": [
    "data=pd.read_table('../results/functional/enrichments/KEGG_achilles.tsv',\n",
    "                   sep='\\t',header=0,index_col=[0])\n",
    "data.sort_values('p adj (dist.dir.dn)').head(10)"
   ]
  },
  {
   "cell_type": "markdown",
   "metadata": {
    "deletable": true,
    "editable": true
   },
   "source": [
    "## Transcription factor regulon enrichment\n",
    "To infer Transcription Factors (TFs) activities - potentially having causal role in the observered gene expression changes - we performed TF regulon enrichment analysis. Regulons for TFs are already included in the repository, but can manually dowloaded from [DoRothEA repository](https://github.com/saezlab/DoRothEA)."
   ]
  },
  {
   "cell_type": "code",
   "execution_count": 44,
   "metadata": {
    "collapsed": false,
    "deletable": true,
    "editable": true
   },
   "outputs": [
    {
     "data": {
      "text/plain": [
       "0"
      ]
     },
     "execution_count": 44,
     "metadata": {},
     "output_type": "execute_result"
    }
   ],
   "source": [
    "# Transcription Factor regulon enrichment using DoRothEA and viper\n",
    "call(['Rscript','TF_regulon_enrichments.R'])"
   ]
  },
  {
   "cell_type": "code",
   "execution_count": 45,
   "metadata": {
    "collapsed": false,
    "deletable": true,
    "editable": true
   },
   "outputs": [],
   "source": [
    "# we remove low confidence level TFs from enrichment results (C,D and E)\n",
    "data=pd.read_table('../results/functional/enrichments/DoRothEA.csv',\n",
    "                  sep=',',header=0,index_col=[0])\n",
    "tf_names=pd.Series(data.index).apply(lambda x:x.split('_')[0]).values\n",
    "good_msk=pd.Series(data.index).apply(lambda x:x.split('_')[1][0] in ['A','B']).values\n",
    "data.index=tf_names\n",
    "data=data[good_msk]\n",
    "data.columns=['NES']"
   ]
  },
  {
   "cell_type": "code",
   "execution_count": 46,
   "metadata": {
    "collapsed": false,
    "deletable": true,
    "editable": true
   },
   "outputs": [
    {
     "name": "stdout",
     "output_type": "stream",
     "text": [
      "             NES\n",
      "FOXO3  -3.816854\n",
      "PRDM14 -3.440174\n",
      "ESR2   -2.888764\n",
      "POU2F1 -2.772940\n",
      "TP53   -2.701049\n",
      "USF2   -2.554411\n",
      "STAT1  -2.442873\n",
      "FOS    -2.313918\n",
      "ETS1   -2.248835\n",
      "JUN    -2.153735\n",
      "ESR1   -1.969761\n",
      "SPI1   -1.950526\n",
      "SMAD4  -1.942263\n",
      "TWIST1 -1.937114\n",
      "FOXO1  -1.922666\n",
      "SMAD3  -1.901023\n",
      "FOXO4  -1.836478\n",
      "TFAP2A -1.746101\n",
      "ETV4   -1.743225\n",
      "FLI1   -1.582792\n",
      "SOX2   -1.581124\n",
      "ATF2   -1.571681\n",
      "AR     -1.498928\n",
      "KLF4   -1.479860\n",
      "USF1   -1.413601\n",
      "VDR    -1.411384\n",
      "HIF1A  -1.381960\n",
      "PAX8   -1.331544\n",
      "CTCF   -1.326600\n",
      "ATF4   -1.325524\n",
      "...          ...\n",
      "CREB1  -0.429856\n",
      "MYB    -0.287150\n",
      "FOXL2  -0.286375\n",
      "SREBF1 -0.276869\n",
      "RELA   -0.213521\n",
      "STAT3  -0.149852\n",
      "WT1    -0.081892\n",
      "RARA   -0.008986\n",
      "FOXP1   0.014709\n",
      "ELK1    0.103107\n",
      "SP1     0.127504\n",
      "CEBPD   0.134245\n",
      "HNF4A   0.218703\n",
      "ZNF263  0.450042\n",
      "STAT5A  0.451467\n",
      "TFAP2C  0.461781\n",
      "ETS2    0.795876\n",
      "E2F3    1.058977\n",
      "TCF7L2  1.080351\n",
      "FOXA1   1.217310\n",
      "YY1     1.519722\n",
      "SREBF2  1.527549\n",
      "BACH1   1.759120\n",
      "MYC     1.821395\n",
      "ATF1    1.863959\n",
      "FOXM1   2.468741\n",
      "TFDP1   3.068941\n",
      "LEF1    3.292321\n",
      "E2F4    4.136086\n",
      "E2F1    4.280263\n",
      "\n",
      "[74 rows x 1 columns]\n"
     ]
    }
   ],
   "source": [
    "data.to_csv('../results/functional/enrichments/DoRothEA.csv')\n",
    "print(data.sort_values('NES'))"
   ]
  },
  {
   "cell_type": "markdown",
   "metadata": {
    "deletable": true,
    "editable": true
   },
   "source": [
    "We also compared these results with average gene essentialities of TF genes (from project Achilles). Our hypotesis was that as TFs can be the causal factors behind cell death / proliferation related gene expression changes, so TF activity changes and gene essentialities should correlate."
   ]
  },
  {
   "cell_type": "code",
   "execution_count": 55,
   "metadata": {
    "collapsed": true,
    "deletable": true,
    "editable": true
   },
   "outputs": [],
   "source": [
    "gene_dep=pd.read_table('../data/Achilles/D2_combined_gene_dep_scores.csv',sep=',',\n",
    "                      header=0,index_col=[0])\n",
    "genes=pd.Series(gene_dep.index).apply(lambda x :x.split(' (')[0])\n",
    "gene_dep.index=genes\n",
    "gene_dep=pd.DataFrame(np.mean(gene_dep,1),columns=['Mean gene essentiality'])"
   ]
  },
  {
   "cell_type": "code",
   "execution_count": 59,
   "metadata": {
    "collapsed": false,
    "deletable": true,
    "editable": true
   },
   "outputs": [
    {
     "name": "stdout",
     "output_type": "stream",
     "text": [
      "Correlation between activity and essentiality of transcription factors: r=-0.322410 p=0.005087\n"
     ]
    }
   ],
   "source": [
    "tfs=list(set(gene_dep.index) & set(data.index))\n",
    "\n",
    "print('Correlation between activity and essentiality of transcription factors: r=%f p=%f' %\n",
    "      pcor(data.loc[tfs,'NES'],gene_dep.loc[tfs,'Mean gene essentiality']))"
   ]
  },
  {
   "cell_type": "markdown",
   "metadata": {
    "deletable": true,
    "editable": true
   },
   "source": [
    "## Signaling pathway footrpint analysis (PROGENy)\n",
    "We also calculated pathway activity changes associated with cell death / proliferation. For this we used PROGENy framework. Model matrix for PROGENy is already included in the repository, but can manually dowloaded from [PROGENy repository](https://github.com/saezlab/progeny)"
   ]
  },
  {
   "cell_type": "code",
   "execution_count": 30,
   "metadata": {
    "collapsed": false,
    "deletable": true,
    "editable": true
   },
   "outputs": [],
   "source": [
    "# for PROGENy we have low overlap between landmark and PROGENY genes\n",
    "# so we use bing gene - cell viability correlations\n",
    "# to calculate this, you have to re-run a first part of this\n",
    "# notebook with bing genes: replacing fil=gene_info['pr_is_lm']==1\n",
    "# to fil=gene_info['pr_is_bing']==1 in second cell (and renaming output files *_bing.*)\n",
    "correlations=pd.read_table('../results/functional/achilles_cors_bing.csv',\n",
    "                          sep=',',header=0,index_col=[0])\n",
    "progeny=pd.read_table('../data/Functional/PROGENy.csv',\n",
    "                     sep=',',header=0,index_col=[0])\n",
    "correlations.index=correlations['pr_gene_symbol']\n",
    "correlations=pd.DataFrame(correlations['Pearson_r'])"
   ]
  },
  {
   "cell_type": "code",
   "execution_count": 31,
   "metadata": {
    "collapsed": false,
    "deletable": true,
    "editable": true
   },
   "outputs": [
    {
     "name": "stdout",
     "output_type": "stream",
     "text": [
      "898\n"
     ]
    }
   ],
   "source": [
    "genes=list(set(progeny.index)&set(correlations.index))\n",
    "print(len(genes))"
   ]
  },
  {
   "cell_type": "code",
   "execution_count": 32,
   "metadata": {
    "collapsed": false,
    "deletable": true,
    "editable": true
   },
   "outputs": [],
   "source": [
    "scores=pd.DataFrame(index=range(1001),columns=progeny.columns)\n",
    "#first real pathway activity\n",
    "scores.loc[0]=np.dot(correlations.loc[genes].T,progeny.loc[genes])\n",
    "# than 1000 random permutation of genes in correlations\n",
    "np.random.seed(19890904)\n",
    "for i in range(1,1001):\n",
    "    correlations.index=np.random.choice(correlations.index,len(correlations.index),False)\n",
    "    scores.loc[i]=np.dot(correlations.loc[genes].T,progeny.loc[genes])"
   ]
  },
  {
   "cell_type": "code",
   "execution_count": 33,
   "metadata": {
    "collapsed": false,
    "deletable": true,
    "editable": true
   },
   "outputs": [],
   "source": [
    "scores=((scores-np.mean(scores.iloc[1:],0))/np.std(scores.iloc[1:],0)).loc[0]\n",
    "scores=pd.DataFrame(scores)\n",
    "scores.columns=['Pathway activity']"
   ]
  },
  {
   "cell_type": "code",
   "execution_count": 34,
   "metadata": {
    "collapsed": false,
    "deletable": true,
    "editable": true
   },
   "outputs": [
    {
     "name": "stdout",
     "output_type": "stream",
     "text": [
      "         Pathway activity\n",
      "EGFR              2.94481\n",
      "Hypoxia           2.29985\n",
      "JAK-STAT         -3.26629\n",
      "MAPK              4.33919\n",
      "NFkB             -1.26535\n",
      "PI3K               2.9206\n",
      "TGFb             -1.38173\n",
      "TNFa             -1.18426\n",
      "Trail            0.914288\n",
      "VEGF              0.33155\n",
      "p53              -1.99774\n",
      "Androgen          1.53871\n",
      "Estrogen          2.36513\n",
      "WNT              -1.76168\n"
     ]
    }
   ],
   "source": [
    "scores.to_csv('../results/functional/enrichments/PROGENy.csv')\n",
    "print(scores)"
   ]
  },
  {
   "cell_type": "markdown",
   "metadata": {
    "deletable": true,
    "editable": true
   },
   "source": [
    "## Association with drug sensitivity\n",
    "We will calculte the \"cell viability signature score\" for the cancer cell lines in the GDSC panel, and see that this score is associated with drug sensitivity. We calculate \"cell viaiblity signature score\" by predicting cell viaiblity (using Achilles model) from the baseline gene expression of GDSC cell lines."
   ]
  },
  {
   "cell_type": "code",
   "execution_count": 2,
   "metadata": {
    "collapsed": true,
    "deletable": true,
    "editable": true
   },
   "outputs": [],
   "source": [
    "# we use normalised gene expression, but with lowess smoothening for standard deviation\n",
    "from statsmodels.nonparametric.smoothers_lowess import lowess"
   ]
  },
  {
   "cell_type": "code",
   "execution_count": 267,
   "metadata": {
    "collapsed": false,
    "deletable": true,
    "editable": true
   },
   "outputs": [
    {
     "data": {
      "text/plain": [
       "0"
      ]
     },
     "execution_count": 267,
     "metadata": {},
     "output_type": "execute_result"
    }
   ],
   "source": [
    "# translating gene ids\n",
    "call(['Rscript','gene_translate.R'])"
   ]
  },
  {
   "cell_type": "code",
   "execution_count": 268,
   "metadata": {
    "collapsed": false,
    "deletable": true,
    "editable": true
   },
   "outputs": [],
   "source": [
    "#calculating gene expression\n",
    "expression=pd.read_table('../data/GDSC/sanger1018_brainarray_ensemblgene_rma.txt',\n",
    "                        sep='\\t',header=0,index_col=[0])\n",
    "gene_anno=pd.read_table('../data/GDSC/ensembl_hgnc.csv',sep=',',header=0,index_col=[0])\n",
    "# remove not 1on1 translations and NaNs\n",
    "gene_anno=gene_anno.drop_duplicates('ensembl_gene_id')\n",
    "gene_anno=gene_anno.drop_duplicates('hgnc_symbol')\n",
    "msk=np.sum(pd.isnull(gene_anno),1)==0\n",
    "gene_anno=gene_anno[msk]\n",
    "# translate gdsc gene ids gene symbol\n",
    "gene_anno.index=gene_anno['ensembl_gene_id']\n",
    "gene_anno=gene_anno['hgnc_symbol']\n",
    "genes=list(set(gene_anno.index)&set(expression.index))\n",
    "expression=expression.loc[genes]\n",
    "gene_anno=gene_anno[genes]\n",
    "expression.index=gene_anno.values\n",
    "expression.to_csv('../data/GDSC/gex.csv',sep=',')\n",
    "std_pred=lowess(np.std(expression,1),np.mean(expression,1),return_sorted=False)\n",
    "expression_norm=((expression.T-np.mean(expression,1))/std_pred).T\n",
    "expression_norm.to_csv('../data/GDSC/norm_gex.csv')"
   ]
  },
  {
   "cell_type": "code",
   "execution_count": 80,
   "metadata": {
    "collapsed": true,
    "deletable": true,
    "editable": true
   },
   "outputs": [],
   "source": [
    "expression_norm=pd.read_table('../data/GDSC/norm_gex.csv',sep=',',header=0,index_col=[0])\n",
    "cell_anno=pd.read_excel('../data/GDSC/Cell_Lines_Details.xlsx',skip_footer=1)\n",
    "fil=(~pd.isnull(cell_anno['Microsatellite \\ninstability Status (MSI)'])) &\\\n",
    "    (~pd.isnull(cell_anno['Cancer Type\\n(matching TCGA label)'])) &\\\n",
    "    (cell_anno['Cancer Type\\n(matching TCGA label)']!='UNABLE TO CLASSIFY')\n",
    "cell_anno=cell_anno[fil]\n",
    "cell_anno.loc[:,'COSMIC identifier']=cell_anno['COSMIC identifier'].astype(str)\n",
    "cosmics=list(set(cell_anno['COSMIC identifier'])&set(expression_norm.columns))\n",
    "expression_norm=expression_norm[cosmics]"
   ]
  },
  {
   "cell_type": "markdown",
   "metadata": {
    "deletable": true,
    "editable": true
   },
   "source": [
    "We will calculate the association between \"cell viaiblity signature score\" and drug sensitivity, and compare it with random signatures (produced by training our Achilles model on sample or gene wise normalised data) and with drug -gene expression associations."
   ]
  },
  {
   "cell_type": "code",
   "execution_count": 7,
   "metadata": {
    "collapsed": true,
    "deletable": true,
    "editable": true
   },
   "outputs": [],
   "source": [
    "from sklearn.linear_model import Ridge"
   ]
  },
  {
   "cell_type": "code",
   "execution_count": 8,
   "metadata": {
    "collapsed": false,
    "deletable": true,
    "editable": true
   },
   "outputs": [
    {
     "name": "stdout",
     "output_type": "stream",
     "text": [
      "0\n",
      "100\n",
      "200\n",
      "300\n",
      "400\n",
      "500\n",
      "600\n",
      "700\n",
      "800\n",
      "900\n",
      "0\n",
      "100\n",
      "200\n",
      "300\n",
      "400\n",
      "500\n",
      "600\n",
      "700\n",
      "800\n",
      "900\n"
     ]
    }
   ],
   "source": [
    "#creating random models\n",
    "np.random.seed(19890904)\n",
    "signature=pd.read_table('../results/Achilles/signatures_merged_lm.csv',\n",
    "                            sep=',',header=0,index_col=[0])\n",
    "sig_info=pd.read_table('../results/Achilles/sig_info_merged_lm.csv',\n",
    "                            sep=',',header=0,index_col=[0])\n",
    "fil=sig_info['pert_itime']=='96 h'\n",
    "sig_info=sig_info[fil]\n",
    "signature=signature[fil]\n",
    "randomised_genes=pd.DataFrame(index=signature.columns,columns=range(1000))\n",
    "randomised_samples=pd.DataFrame(index=signature.columns,columns=range(1000))\n",
    "#gene randomisation\n",
    "for i in range(1000):\n",
    "    if (i%100) == 0:\n",
    "        print(i,flush=True)\n",
    "    signature_rand=signature.copy()\n",
    "    sig_info_rand=sig_info.copy()\n",
    "    # here we shuffle genes #actually we do not have to recalculte the model every time...\n",
    "    signature_rand.columns=np.random.choice(signature_rand.columns,\n",
    "                                            len(signature_rand.columns),False)\n",
    "    model=Ridge()\n",
    "    model.fit(signature_rand,sig_info_rand['shRNA_abundance'])\n",
    "    randomised_genes.loc[signature_rand.columns,i]=model.coef_\n",
    "randomised_genes.to_csv('../results/functional/linear_models/random_gene_coef.csv',sep=',')\n",
    "#sample randomisation\n",
    "for i in range(1000):\n",
    "    if (i%100) == 0:\n",
    "        print(i,flush=True)\n",
    "    signature_rand=signature.copy()\n",
    "    sig_info_rand=sig_info.copy()\n",
    "    # here we shuffle samples - ie.the corresponding viability values\n",
    "    sig_info_rand['shRNA_abundance']=np.random.choice(sig_info_rand['shRNA_abundance'],\n",
    "                                                    len(sig_info_rand['shRNA_abundance']),False)\n",
    "    model=Ridge()\n",
    "    model.fit(signature_rand,sig_info_rand['shRNA_abundance'])\n",
    "    randomised_samples[i]=model.coef_\n",
    "randomised_samples.to_csv('../results/functional/linear_models/random_sample_coef.csv',sep=',')"
   ]
  },
  {
   "cell_type": "markdown",
   "metadata": {
    "deletable": true,
    "editable": true
   },
   "source": [
    "We create a matrix containing real and randomised model coefficients, and will calculate \"signature scores\" using them."
   ]
  },
  {
   "cell_type": "code",
   "execution_count": 144,
   "metadata": {
    "collapsed": false,
    "deletable": true,
    "editable": true
   },
   "outputs": [],
   "source": [
    "model_true=pd.read_table('../results/model/final_models/achilles.csv',sep=',',\n",
    "                        header=0,index_col=[0]).iloc[:-1,:]\n",
    "model_true.index=model_true.index.astype(int)\n",
    "model_random_sample=pd.read_table('../results/functional/linear_models/random_sample_coef.csv',sep=',',\n",
    "                                 header=0,index_col=[0])\n",
    "model_random_gene=pd.read_table('../results/functional/linear_models/random_gene_coef.csv',sep=',',header=0,\n",
    "                               index_col=[0])\n",
    "model_true.columns=['pr_gene_symbol','real_model']\n",
    "model_random_gene.columns=pd.Series(np.array(range(1000)).astype(str)).apply(lambda x: 'gene_'+x).values\n",
    "model_random_sample.columns=pd.Series(np.array(range(1000)).astype(str)).apply(lambda x: 'sample_'+x).values\n",
    "all_models=pd.concat([model_true,model_random_gene,model_random_sample],1)\n",
    "all_models.index=all_models['pr_gene_symbol']\n",
    "del all_models['pr_gene_symbol']"
   ]
  },
  {
   "cell_type": "code",
   "execution_count": 145,
   "metadata": {
    "collapsed": false,
    "deletable": true,
    "editable": true
   },
   "outputs": [
    {
     "name": "stdout",
     "output_type": "stream",
     "text": [
      "We have 903 common genes between cancer cell lines and LINCS models.\n"
     ]
    }
   ],
   "source": [
    "genes=list(set(expression_norm.index) & set(all_models.index))\n",
    "print('We have %i common genes between cancer cell lines and LINCS models.' % len(genes))\n",
    "all_models=all_models.loc[genes]\n",
    "all_models.to_csv('../results/functional/linear_models/all_models_coef.csv',sep=',')\n",
    "all_scores=pd.DataFrame(np.dot(expression_norm.loc[genes].T,all_models.loc[genes]),\n",
    "                        index=expression_norm.columns,columns=all_models.columns)\n",
    "all_scores=pd.concat([all_scores,expression_norm.loc[genes,all_scores.index].T],1)\n",
    "all_scores.to_csv('../results/functional/linear_models/all_scores.csv',sep=',')"
   ]
  },
  {
   "cell_type": "markdown",
   "metadata": {
    "deletable": true,
    "editable": true
   },
   "source": [
    "Now we will compare these signarture scores with drug sensitivity for the GDSC panel. We will fit linear models between drug sensitvity (LN_IC50) and signature score (using histology type and microsatelite instability as covariates). We will store the p_values, coefficients of these models, and will also calculate partial correlation between sensitivity and signature score."
   ]
  },
  {
   "cell_type": "code",
   "execution_count": 1,
   "metadata": {
    "collapsed": true,
    "deletable": true,
    "editable": true
   },
   "outputs": [],
   "source": [
    "import statsmodels.formula.api as smf\n",
    "from statsmodels.sandbox.stats.multicomp import multipletests\n",
    "from scipy.stats import pearsonr"
   ]
  },
  {
   "cell_type": "code",
   "execution_count": 3,
   "metadata": {
    "collapsed": false,
    "deletable": true,
    "editable": true
   },
   "outputs": [],
   "source": [
    "all_scores=pd.read_table('../results/functional/linear_models/all_scores.csv',sep=',',\n",
    "                         header=0,index_col=0)\n",
    "all_scores.index=all_scores.index.astype(str)\n",
    "drug_sensitivity=pd.read_excel('../data/GDSC/v17.3_fitted_dose_response.xlsx')\n",
    "drug_sensitivity['COSMIC_ID']=drug_sensitivity['COSMIC_ID'].astype(str)\n",
    "cell_anno=pd.read_excel('../data/GDSC/Cell_Lines_Details.xlsx',skip_footer=1)\n",
    "cell_anno.loc[:,'COSMIC identifier']=cell_anno['COSMIC identifier'].astype(str)\n",
    "cell_anno.index=cell_anno['COSMIC identifier']"
   ]
  },
  {
   "cell_type": "code",
   "execution_count": 4,
   "metadata": {
    "collapsed": false,
    "deletable": true,
    "editable": true
   },
   "outputs": [],
   "source": [
    "fil=np.in1d(drug_sensitivity['COSMIC_ID'],all_scores.index)\n",
    "drug_sensitivity=drug_sensitivity[fil]\n",
    "drug_sensitivity['Tissue']=cell_anno.loc[drug_sensitivity['COSMIC_ID'].values,\n",
    "                                         'Cancer Type\\n(matching TCGA label)'].values\n",
    "drug_sensitivity['MSI']=cell_anno.loc[drug_sensitivity['COSMIC_ID'].values,\n",
    "                                     'Microsatellite \\ninstability Status (MSI)'].values"
   ]
  },
  {
   "cell_type": "code",
   "execution_count": 114,
   "metadata": {
    "collapsed": false,
    "deletable": true,
    "editable": true
   },
   "outputs": [],
   "source": [
    "#prepare matrices to store data\n",
    "drugs=list(set(drug_sensitivity['DRUG_ID']))\n",
    "results_coefs=pd.DataFrame(index=drugs,columns=all_scores.columns)\n",
    "results_pvals=pd.DataFrame(index=drugs,columns=all_scores.columns)\n",
    "results_pcors=pd.DataFrame(index=drugs,columns=all_scores.columns)"
   ]
  },
  {
   "cell_type": "code",
   "execution_count": 130,
   "metadata": {
    "collapsed": false,
    "deletable": true,
    "editable": true
   },
   "outputs": [],
   "source": [
    "for m in all_scores.columns:\n",
    "    drug_sensitivity.loc[:,'Score']=all_scores.loc[drug_sensitivity['COSMIC_ID'].values,\n",
    "                                                  m].values\n",
    "    for drug in drugs:\n",
    "        fil=drug_sensitivity['DRUG_ID']==drug\n",
    "        model_data=drug_sensitivity[fil].copy()[['COSMIC_ID','Tissue','Score','MSI','LN_IC50','AUC']]\n",
    "        model_0=smf.ols('LN_IC50 ~ Score + Tissue + MSI',data=model_data).fit()\n",
    "        results_coefs.loc[drug,m]=model_0.params['Score']\n",
    "        results_pvals.loc[drug,m]=model_0.pvalues['Score']\n",
    "        model_1=smf.ols('LN_IC50 ~ Tissue + MSI',data=model_data).fit()\n",
    "        model_2=smf.ols('Score ~ Tissue + MSI',data=model_data).fit()\n",
    "        results_pcors.loc[drug,m]=pcor(model_1.resid,model_2.resid)[0]\n",
    "results_coefs.to_csv('../results/functional/linear_models/all_scores_lm_coef.csv',sep=',')\n",
    "results_pcors.to_csv('../results/functional/linear_models/all_scores_lm_pcor.csv',sep=',')\n",
    "results_pvals.to_csv('../results/functional/linear_models/all_scores_lm_pval.csv',sep=',')"
   ]
  },
  {
   "cell_type": "markdown",
   "metadata": {
    "deletable": true,
    "editable": true
   },
   "source": [
    "Based on our results it our real signature score shows signaificant associations with drug sensitivity for several drugs. Most of these drugs are not targeted therapies but \"cytotoxic\" agents. This rises the question whether our signature score is associated with \"general drug senstivity\" [Geelher et al. Genome Biology](https://genomebiology.biomedcentral.com/articles/10.1186/s13059-016-1050-9). To calculate general drug sensitivty, we fitted a linear model for drug sensitivity (LN_IC50) using cell line and drug IDs. We used the coefficients for cell lines as general drug sensitivity."
   ]
  },
  {
   "cell_type": "code",
   "execution_count": 29,
   "metadata": {
    "collapsed": false,
    "deletable": true,
    "editable": true
   },
   "outputs": [],
   "source": [
    "drug_sensitivity.loc[:,'DRUG_ID']=drug_sensitivity['DRUG_ID'].astype(str)\n",
    "model=smf.ols('LN_IC50 ~ 0 + COSMIC_ID + DRUG_ID',data=drug_sensitivity).fit()"
   ]
  },
  {
   "cell_type": "code",
   "execution_count": 39,
   "metadata": {
    "collapsed": false,
    "deletable": true,
    "editable": true
   },
   "outputs": [],
   "source": [
    "general_sensitivity=model.params\n",
    "general_sensitivity=general_sensitivity[pd.Series(general_sensitivity.index).apply(lambda x:x[0]=='C').values]\n",
    "general_sensitivity.index=pd.Series(general_sensitivity.index).apply(lambda x:x.split('[')[1][:-1]).values\n",
    "general_sensitivity=pd.DataFrame(general_sensitivity,columns=['GLDS'])\n",
    "general_sensitivity=pd.concat([general_sensitivity,all_scores.loc[general_sensitivity.index]],1)\n",
    "general_sensitivity['Tissue']=cell_anno.loc[general_sensitivity.index,'Cancer Type\\n(matching TCGA label)']\n",
    "general_sensitivity['MSI']=cell_anno.loc[general_sensitivity.index,'Microsatellite \\ninstability Status (MSI)']\n",
    "general_sensitivity.to_csv('../results/functional/linear_models/GLDS_data.csv',sep=',')"
   ]
  },
  {
   "cell_type": "code",
   "execution_count": 41,
   "metadata": {
    "collapsed": false,
    "deletable": true,
    "editable": true
   },
   "outputs": [],
   "source": [
    "correlations=pd.DataFrame(index=general_sensitivity.columns[1:-2],columns=['cor','pcor'])\n",
    "model_1=smf.ols('GLDS ~ Tissue + MSI',data=general_sensitivity).fit()\n",
    "for m in correlations.index:\n",
    "    general_sensitivity['Score']=general_sensitivity[m]\n",
    "    r=pcor(general_sensitivity['GLDS'],general_sensitivity['Score'])[0]\n",
    "    correlations.loc[m,'cor']=r\n",
    "    model_2=smf.ols('Score ~ Tissue + MSI',data=general_sensitivity).fit()\n",
    "    r=pcor(model_1.resid,model_2.resid)[0]\n",
    "    correlations.loc[m,'pcor']=r\n",
    "correlations.to_csv('../results/functional/linear_models/GLDS_cor.csv',sep=',')"
   ]
  },
  {
   "cell_type": "code",
   "execution_count": 46,
   "metadata": {
    "collapsed": false
   },
   "outputs": [
    {
     "name": "stdout",
     "output_type": "stream",
     "text": [
      "Smaller partial correaltion: 0.0361570247934\n"
     ]
    }
   ],
   "source": [
    "print('Smaller partial correaltion:'\n",
    "      ,np.sum(correlations['pcor']<correlations.loc['real_model','pcor'])/len(correlations),)"
   ]
  },
  {
   "cell_type": "markdown",
   "metadata": {
    "collapsed": true,
    "deletable": true,
    "editable": true
   },
   "source": [
    "Based on this our signature score shows significantly (p=0.0361) better correlation with general drug sensitivity than random signatures.\n",
    "\n",
    "As previously [showed]() drug sensitivity (using classical metrics like IC50 and AUC) correlates with division time of the cells (i.e. cells dividing faster are more sensitive to drugs). Based on this we analysed the associations between signature score and cell division time. At first we analysed the data form cell division rate. We need to download **DS1.zip** from [Hafner et al, Scientific Data 2017](https://datadryad.org/resource/doi:10.5061/dryad.03n60). **DS1_datafile.xls** goes to *'../data/GDSC/*."
   ]
  },
  {
   "cell_type": "code",
   "execution_count": 93,
   "metadata": {
    "collapsed": false,
    "deletable": true,
    "editable": true
   },
   "outputs": [],
   "source": [
    "division_time=pd.read_excel('../data/GDSC/DS1_datafile.xlsx')"
   ]
  },
  {
   "cell_type": "code",
   "execution_count": 94,
   "metadata": {
    "collapsed": false,
    "deletable": true,
    "editable": true
   },
   "outputs": [],
   "source": [
    "division_time=division_time.drop_duplicates('Biological Replicate ID')\n",
    "division_time=division_time[['Cell Name','Nominal Division Rate']]\n",
    "division_time=division_time.groupby('Cell Name').mean()"
   ]
  },
  {
   "cell_type": "code",
   "execution_count": 95,
   "metadata": {
    "collapsed": false,
    "deletable": true,
    "editable": true
   },
   "outputs": [],
   "source": [
    "cell_anno.index=cell_anno['Sample Name']\n",
    "division_time.loc[:,'COSMIC_ID']=cell_anno.loc[division_time.index,'COSMIC identifier']\n",
    "fil=~pd.isnull(division_time['COSMIC_ID'])\n",
    "division_time=division_time[fil]\n",
    "division_time.index=division_time['COSMIC_ID']\n",
    "division_time=pd.DataFrame(division_time['Nominal Division Rate'])"
   ]
  },
  {
   "cell_type": "code",
   "execution_count": 96,
   "metadata": {
    "collapsed": false,
    "deletable": true,
    "editable": true
   },
   "outputs": [],
   "source": [
    "division_time=pd.concat([division_time,all_scores.loc[division_time.index]],1)\n",
    "fil=np.sum(pd.isnull(division_time),1)==0\n",
    "division_time=division_time[fil]"
   ]
  },
  {
   "cell_type": "code",
   "execution_count": 97,
   "metadata": {
    "collapsed": false,
    "deletable": true,
    "editable": true
   },
   "outputs": [
    {
     "data": {
      "text/plain": [
       "(-0.11779684036549784, 0.5138347487074193)"
      ]
     },
     "execution_count": 97,
     "metadata": {},
     "output_type": "execute_result"
    }
   ],
   "source": [
    "pcor(division_time['Nominal Division Rate'],division_time['real_model'])"
   ]
  },
  {
   "cell_type": "markdown",
   "metadata": {
    "collapsed": true,
    "deletable": true,
    "editable": true
   },
   "source": [
    "We did not get significant correlation between Division Rate and Signature Scores. However the division times and gene expression (i.e. calculated signature scores) were coming from different studies (Hafner et al. and GDSC, respectively). It has been previously shown, that laboratory specific factors (like used media etc.) can influence division time. In the [gCSI study](https://www.nature.com/articles/nature17987) gene expression and division time was measured in the same place, so we tried to analyse these data also. We can access the [data](http://research-pub.gene.com/gCSI-cellline-data/) and use the intstructions to install it."
   ]
  },
  {
   "cell_type": "code",
   "execution_count": 98,
   "metadata": {
    "collapsed": false
   },
   "outputs": [
    {
     "data": {
      "text/plain": [
       "0"
      ]
     },
     "execution_count": 98,
     "metadata": {},
     "output_type": "execute_result"
    }
   ],
   "source": [
    "# just extracts data from gCSI library\n",
    "call(['Rscript','get_gCSI_data.R'])"
   ]
  },
  {
   "cell_type": "code",
   "execution_count": 181,
   "metadata": {
    "collapsed": true
   },
   "outputs": [],
   "source": [
    "#read data\n",
    "anno=pd.read_table('../data/gCSI/genomics_info.csv',sep=',',header=0,index_col=[0])\n",
    "genomics=pd.read_table('../data/gCSI/genomics.csv',sep=',',header=0,index_col=[0])"
   ]
  },
  {
   "cell_type": "code",
   "execution_count": 182,
   "metadata": {
    "collapsed": false
   },
   "outputs": [],
   "source": [
    "fil=(pd.Series(genomics.columns).apply(lambda x:x.split('.')[0])=='vsd').values\n",
    "gex=genomics[genomics.columns[fil]]\n",
    "gex.columns=pd.Series(gex.columns).apply(lambda x:x.split('.')[1]).values\n",
    "fil=~pd.isnull(anno['Symbol'])\n",
    "anno=anno[fil]\n",
    "anno=anno.drop_duplicates('Symbol')\n",
    "genes=list(set(anno.index)&set(gex.columns))\n",
    "anno=anno.loc[genes]\n",
    "gex=gex[genes]\n",
    "anno=anno['Symbol']\n",
    "gex.columns=anno[gex.columns].values"
   ]
  },
  {
   "cell_type": "code",
   "execution_count": 183,
   "metadata": {
    "collapsed": false
   },
   "outputs": [
    {
     "name": "stdout",
     "output_type": "stream",
     "text": [
      "962 shared gene between model and expression data\n"
     ]
    }
   ],
   "source": [
    "#calculate signature and random scores\n",
    "model_true=pd.read_table('../results/model/final_models/achilles.csv',sep=',',\n",
    "                        header=0,index_col=[0]).iloc[:-1,:]\n",
    "model_true.index=model_true.index.astype(int)\n",
    "model_random_sample=pd.read_table('../results/functional/linear_models/random_sample_coef.csv',sep=',',\n",
    "                                 header=0,index_col=[0])\n",
    "model_random_gene=pd.read_table('../results/functional/linear_models/random_gene_coef.csv',sep=',',header=0,\n",
    "                               index_col=[0])\n",
    "model_true.columns=['pr_gene_symbol','real_model']\n",
    "model_random_gene.columns=pd.Series(np.array(range(1000)).astype(str)).apply(lambda x: 'gene_'+x).values\n",
    "model_random_sample.columns=pd.Series(np.array(range(1000)).astype(str)).apply(lambda x: 'sample_'+x).values\n",
    "models=pd.concat([model_true,model_random_gene,model_random_sample],1)\n",
    "models.index=models['pr_gene_symbol']\n",
    "del models['pr_gene_symbol']\n",
    "genes=list(set(gex.columns)&set(models.index))\n",
    "print(len(genes),'shared gene between model and expression data')\n",
    "scores=pd.DataFrame(np.dot(gex[genes],models.loc[genes]),index=gex.index,columns=models.columns)\n",
    "scores=pd.concat([scores,gex.loc[scores.index,genes]],1)"
   ]
  },
  {
   "cell_type": "code",
   "execution_count": 184,
   "metadata": {
    "collapsed": false
   },
   "outputs": [],
   "source": [
    "# get Doubling time and tissue\n",
    "cell_anno=pd.read_table('../data/gCSI/cell_line_info.csv',sep=',',header=0,index_col=[0])\n",
    "fil=~pd.isnull(cell_anno['DoublingTime'])\n",
    "cell_anno=cell_anno[fil]\n",
    "fil=cell_anno['TissueMetaclass']!='Unclassified'\n",
    "cell_anno=cell_anno[fil]\n",
    "cells=list(set(scores.index)&set(cell_anno.index))\n",
    "cell_anno=cell_anno.loc[cells]\n",
    "scores=scores.loc[cells]"
   ]
  },
  {
   "cell_type": "code",
   "execution_count": 185,
   "metadata": {
    "collapsed": false
   },
   "outputs": [],
   "source": [
    "scores.loc[:,'Tissue']=cell_anno.loc[scores.index,'TissueMetaclass']\n",
    "scores.loc[:,'DoublingTime']=cell_anno.loc[scores.index,'DoublingTime']\n",
    "scores.to_csv('../results/functional/linear_models/gCSI_data.csv',sep=',')"
   ]
  },
  {
   "cell_type": "code",
   "execution_count": 186,
   "metadata": {
    "collapsed": false
   },
   "outputs": [],
   "source": [
    "correlations=pd.DataFrame(index=scores.columns[:-2],columns=['cor','pcor'])\n",
    "model_1=smf.ols('DoublingTime ~ Tissue',data=scores).fit()\n",
    "for m in correlations.index:\n",
    "    scores['Score']=scores[m]\n",
    "    r=pcor(scores['DoublingTime'],scores['Score'])[0]\n",
    "    correlations.loc[m,'cor']=r\n",
    "    model_2=smf.ols('Score ~ Tissue',data=scores).fit()\n",
    "    r=pcor(model_1.resid,model_2.resid)[0]\n",
    "    correlations.loc[m,'pcor']=r\n",
    "correlations.to_csv('../results/functional/linear_models/gCSI_cor.csv',sep=',')"
   ]
  },
  {
   "cell_type": "code",
   "execution_count": 187,
   "metadata": {
    "collapsed": false
   },
   "outputs": [
    {
     "name": "stdout",
     "output_type": "stream",
     "text": [
      "Smaller partial correaltion: 0.00236247046912\n"
     ]
    }
   ],
   "source": [
    "print('Smaller partial correaltion:'\n",
    "      ,np.sum(correlations['pcor']<correlations.loc['real_model','pcor'])/len(correlations),)"
   ]
  },
  {
   "cell_type": "markdown",
   "metadata": {},
   "source": [
    "Based on these results, we our signature score associates with doubling time also."
   ]
  }
 ],
 "metadata": {
  "kernelspec": {
   "display_name": "Python 3",
   "language": "python",
   "name": "python3"
  },
  "language_info": {
   "codemirror_mode": {
    "name": "ipython",
    "version": 3
   },
   "file_extension": ".py",
   "mimetype": "text/x-python",
   "name": "python",
   "nbconvert_exporter": "python",
   "pygments_lexer": "ipython3",
   "version": "3.5.2"
  }
 },
 "nbformat": 4,
 "nbformat_minor": 2
}
