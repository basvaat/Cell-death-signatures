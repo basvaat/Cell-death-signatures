{
 "cells": [
  {
   "cell_type": "code",
   "execution_count": 176,
   "metadata": {
    "collapsed": true,
    "deletable": true,
    "editable": true
   },
   "outputs": [],
   "source": [
    "import pandas as pd\n",
    "import numpy as np\n",
    "\n",
    "from subprocess import call\n",
    "\n",
    "from scipy.stats import pearsonr as pcor"
   ]
  },
  {
   "cell_type": "markdown",
   "metadata": {
    "deletable": true,
    "editable": true
   },
   "source": [
    "## Functional genomic analysis\n",
    "Here we will analyse the cell death associated signature from functional genomic aspect.\n",
    "\n",
    "At first we will calculate gene expression - cell viability correlation coefficients form Achilles-L1000-96h (and also CTRP-L1000-24h) datasets."
   ]
  },
  {
   "cell_type": "code",
   "execution_count": 34,
   "metadata": {
    "collapsed": false,
    "deletable": true,
    "editable": true
   },
   "outputs": [],
   "source": [
    "#achilles data\n",
    "sig_info=pd.read_table('../results/Achilles/sig_info_merged_lm.csv',\n",
    "                      sep=',',header=0,index_col=[0])\n",
    "signatures=pd.read_table('../results/Achilles/signatures_merged_lm.csv',\n",
    "                        sep=',',header=0,index_col=[0])\n",
    "fil=sig_info['pert_itime']=='96 h'\n",
    "sig_info=sig_info[fil]\n",
    "signatures=signatures.loc[sig_info.index]"
   ]
  },
  {
   "cell_type": "code",
   "execution_count": 35,
   "metadata": {
    "collapsed": true,
    "deletable": true,
    "editable": true
   },
   "outputs": [],
   "source": [
    "#prepare a dataframe to store correlations\n",
    "gene_info=pd.read_table('../data/LINCS/GSE92742/GSE92742_Broad_LINCS_gene_info.txt',\n",
    "                       sep='\\t',index_col=[0],header=0)\n",
    "fil=gene_info['pr_is_lm']==1\n",
    "gene_info=gene_info[fil]\n",
    "gene_info.index=gene_info.index.astype(str)\n",
    "correlations=pd.DataFrame(index=gene_info.index,\n",
    "                           columns=['pr_gene_symbol','Pearson_r','p_val'])\n",
    "correlations['pr_gene_symbol']=gene_info['pr_gene_symbol']"
   ]
  },
  {
   "cell_type": "code",
   "execution_count": 36,
   "metadata": {
    "collapsed": false,
    "deletable": true,
    "editable": true
   },
   "outputs": [],
   "source": [
    "for gene_id in correlations.index:\n",
    "    r,p=pcor(signatures[gene_id],sig_info['shRNA_abundance'])\n",
    "    correlations.loc[gene_id,['Pearson_r','p_val']]=r,p\n",
    "correlations.to_csv('../results/functional/achilles_cors_lm.csv')"
   ]
  },
  {
   "cell_type": "code",
   "execution_count": 37,
   "metadata": {
    "collapsed": false,
    "deletable": true,
    "editable": true
   },
   "outputs": [
    {
     "data": {
      "text/html": [
       "<div>\n",
       "<style>\n",
       "    .dataframe thead tr:only-child th {\n",
       "        text-align: right;\n",
       "    }\n",
       "\n",
       "    .dataframe thead th {\n",
       "        text-align: left;\n",
       "    }\n",
       "\n",
       "    .dataframe tbody tr th {\n",
       "        vertical-align: top;\n",
       "    }\n",
       "</style>\n",
       "<table border=\"1\" class=\"dataframe\">\n",
       "  <thead>\n",
       "    <tr style=\"text-align: right;\">\n",
       "      <th></th>\n",
       "      <th>pr_gene_symbol</th>\n",
       "      <th>Pearson_r</th>\n",
       "      <th>p_val</th>\n",
       "    </tr>\n",
       "    <tr>\n",
       "      <th>pr_gene_id</th>\n",
       "      <th></th>\n",
       "      <th></th>\n",
       "      <th></th>\n",
       "    </tr>\n",
       "  </thead>\n",
       "  <tbody>\n",
       "    <tr>\n",
       "      <th>890</th>\n",
       "      <td>CCNA2</td>\n",
       "      <td>0.342786</td>\n",
       "      <td>0</td>\n",
       "    </tr>\n",
       "    <tr>\n",
       "      <th>22974</th>\n",
       "      <td>TPX2</td>\n",
       "      <td>0.336666</td>\n",
       "      <td>0</td>\n",
       "    </tr>\n",
       "    <tr>\n",
       "      <th>55723</th>\n",
       "      <td>ASF1B</td>\n",
       "      <td>0.332808</td>\n",
       "      <td>0</td>\n",
       "    </tr>\n",
       "    <tr>\n",
       "      <th>332</th>\n",
       "      <td>BIRC5</td>\n",
       "      <td>0.328564</td>\n",
       "      <td>0</td>\n",
       "    </tr>\n",
       "    <tr>\n",
       "      <th>10460</th>\n",
       "      <td>TACC3</td>\n",
       "      <td>0.326702</td>\n",
       "      <td>0</td>\n",
       "    </tr>\n",
       "  </tbody>\n",
       "</table>\n",
       "</div>"
      ],
      "text/plain": [
       "           pr_gene_symbol Pearson_r p_val\n",
       "pr_gene_id                               \n",
       "890                 CCNA2  0.342786     0\n",
       "22974                TPX2  0.336666     0\n",
       "55723               ASF1B  0.332808     0\n",
       "332                 BIRC5  0.328564     0\n",
       "10460               TACC3  0.326702     0"
      ]
     },
     "execution_count": 37,
     "metadata": {},
     "output_type": "execute_result"
    }
   ],
   "source": [
    "#just looking into the gene - viaiblity correlations\n",
    "correlations.sort_values('Pearson_r',ascending=False).head()"
   ]
  },
  {
   "cell_type": "code",
   "execution_count": 38,
   "metadata": {
    "collapsed": true,
    "deletable": true,
    "editable": true
   },
   "outputs": [],
   "source": [
    "# do the same analysis with ctrp\n",
    "sig_info=pd.read_table('../results/CTRP/sig_info_merged_lm.csv',\n",
    "                      sep=',',header=0,index_col=[0])\n",
    "signatures=pd.read_table('../results/CTRP/signatures_merged_lm.csv',\n",
    "                        sep=',',header=0,index_col=[0])\n",
    "fil=sig_info['pert_itime']=='24 h'\n",
    "sig_info=sig_info[fil]\n",
    "signatures=signatures.loc[sig_info.index]\n",
    "correlations=pd.DataFrame(index=gene_info.index,\n",
    "                           columns=['pr_gene_symbol','Pearson_r','p_val'])\n",
    "correlations['pr_gene_symbol']=gene_info['pr_gene_symbol']\n",
    "for gene_id in correlations.index:\n",
    "    r,p=pcor(signatures[gene_id],sig_info['cpd_avg_pv'])\n",
    "    correlations.loc[gene_id,['Pearson_r','p_val']]=r,p\n",
    "correlations.to_csv('../results/functional/ctrp_cors_lm.csv')"
   ]
  },
  {
   "cell_type": "markdown",
   "metadata": {},
   "source": [
    "## Gene Ontology Enrichment"
   ]
  },
  {
   "cell_type": "code",
   "execution_count": 177,
   "metadata": {
    "collapsed": false,
    "deletable": true,
    "editable": true
   },
   "outputs": [
    {
     "data": {
      "text/plain": [
       "0"
      ]
     },
     "execution_count": 177,
     "metadata": {},
     "output_type": "execute_result"
    }
   ],
   "source": [
    "# Gene Ontology Enrichments\n",
    "call(['Rscript','GO_BP_enrichments.R'])"
   ]
  },
  {
   "cell_type": "code",
   "execution_count": 185,
   "metadata": {
    "collapsed": false
   },
   "outputs": [
    {
     "data": {
      "text/html": [
       "<div>\n",
       "<style>\n",
       "    .dataframe thead tr:only-child th {\n",
       "        text-align: right;\n",
       "    }\n",
       "\n",
       "    .dataframe thead th {\n",
       "        text-align: left;\n",
       "    }\n",
       "\n",
       "    .dataframe tbody tr th {\n",
       "        vertical-align: top;\n",
       "    }\n",
       "</style>\n",
       "<table border=\"1\" class=\"dataframe\">\n",
       "  <thead>\n",
       "    <tr style=\"text-align: right;\">\n",
       "      <th></th>\n",
       "      <th>Name</th>\n",
       "      <th>Genes (tot)</th>\n",
       "      <th>Stat (dist.dir)</th>\n",
       "      <th>p (dist.dir.up)</th>\n",
       "      <th>p adj (dist.dir.up)</th>\n",
       "      <th>p (dist.dir.dn)</th>\n",
       "      <th>p adj (dist.dir.dn)</th>\n",
       "      <th>Genes (up)</th>\n",
       "      <th>Genes (down)</th>\n",
       "    </tr>\n",
       "  </thead>\n",
       "  <tbody>\n",
       "    <tr>\n",
       "      <th>633</th>\n",
       "      <td>GO_MITOTIC_CELL_CYCLE</td>\n",
       "      <td>125</td>\n",
       "      <td>0.49443</td>\n",
       "      <td>0.000216</td>\n",
       "      <td>0.007074</td>\n",
       "      <td>NaN</td>\n",
       "      <td>NaN</td>\n",
       "      <td>80</td>\n",
       "      <td>45</td>\n",
       "    </tr>\n",
       "    <tr>\n",
       "      <th>267</th>\n",
       "      <td>GO_COENZYME_METABOLIC_PROCESS</td>\n",
       "      <td>27</td>\n",
       "      <td>0.59217</td>\n",
       "      <td>0.000210</td>\n",
       "      <td>0.007074</td>\n",
       "      <td>NaN</td>\n",
       "      <td>NaN</td>\n",
       "      <td>25</td>\n",
       "      <td>2</td>\n",
       "    </tr>\n",
       "    <tr>\n",
       "      <th>638</th>\n",
       "      <td>GO_MITOTIC_NUCLEAR_DIVISION</td>\n",
       "      <td>59</td>\n",
       "      <td>0.61177</td>\n",
       "      <td>0.000210</td>\n",
       "      <td>0.007074</td>\n",
       "      <td>NaN</td>\n",
       "      <td>NaN</td>\n",
       "      <td>40</td>\n",
       "      <td>19</td>\n",
       "    </tr>\n",
       "    <tr>\n",
       "      <th>326</th>\n",
       "      <td>GO_DNA_REPLICATION</td>\n",
       "      <td>30</td>\n",
       "      <td>0.68915</td>\n",
       "      <td>0.000211</td>\n",
       "      <td>0.007074</td>\n",
       "      <td>NaN</td>\n",
       "      <td>NaN</td>\n",
       "      <td>22</td>\n",
       "      <td>8</td>\n",
       "    </tr>\n",
       "    <tr>\n",
       "      <th>2019</th>\n",
       "      <td>GO_TRANSCRIPTION_COUPLED_NUCLEOTIDE_EXCISION_R...</td>\n",
       "      <td>16</td>\n",
       "      <td>0.71986</td>\n",
       "      <td>0.000208</td>\n",
       "      <td>0.007074</td>\n",
       "      <td>NaN</td>\n",
       "      <td>NaN</td>\n",
       "      <td>13</td>\n",
       "      <td>3</td>\n",
       "    </tr>\n",
       "    <tr>\n",
       "      <th>325</th>\n",
       "      <td>GO_DNA_REPAIR</td>\n",
       "      <td>52</td>\n",
       "      <td>0.52205</td>\n",
       "      <td>0.000208</td>\n",
       "      <td>0.007074</td>\n",
       "      <td>NaN</td>\n",
       "      <td>NaN</td>\n",
       "      <td>38</td>\n",
       "      <td>14</td>\n",
       "    </tr>\n",
       "    <tr>\n",
       "      <th>985</th>\n",
       "      <td>GO_PEPTIDYL_LYSINE_MODIFICATION</td>\n",
       "      <td>35</td>\n",
       "      <td>0.60811</td>\n",
       "      <td>0.000212</td>\n",
       "      <td>0.007074</td>\n",
       "      <td>NaN</td>\n",
       "      <td>NaN</td>\n",
       "      <td>22</td>\n",
       "      <td>13</td>\n",
       "    </tr>\n",
       "    <tr>\n",
       "      <th>324</th>\n",
       "      <td>GO_DNA_RECOMBINATION</td>\n",
       "      <td>20</td>\n",
       "      <td>0.75075</td>\n",
       "      <td>0.000211</td>\n",
       "      <td>0.007074</td>\n",
       "      <td>NaN</td>\n",
       "      <td>NaN</td>\n",
       "      <td>16</td>\n",
       "      <td>4</td>\n",
       "    </tr>\n",
       "    <tr>\n",
       "      <th>316</th>\n",
       "      <td>GO_DNA_DEPENDENT_DNA_REPLICATION</td>\n",
       "      <td>18</td>\n",
       "      <td>0.71281</td>\n",
       "      <td>0.000211</td>\n",
       "      <td>0.007074</td>\n",
       "      <td>NaN</td>\n",
       "      <td>NaN</td>\n",
       "      <td>13</td>\n",
       "      <td>5</td>\n",
       "    </tr>\n",
       "    <tr>\n",
       "      <th>639</th>\n",
       "      <td>GO_MITOTIC_RECOMBINATION</td>\n",
       "      <td>11</td>\n",
       "      <td>0.85123</td>\n",
       "      <td>0.000205</td>\n",
       "      <td>0.007074</td>\n",
       "      <td>NaN</td>\n",
       "      <td>NaN</td>\n",
       "      <td>10</td>\n",
       "      <td>1</td>\n",
       "    </tr>\n",
       "  </tbody>\n",
       "</table>\n",
       "</div>"
      ],
      "text/plain": [
       "                                                   Name  Genes (tot)  \\\n",
       "633                               GO_MITOTIC_CELL_CYCLE          125   \n",
       "267                       GO_COENZYME_METABOLIC_PROCESS           27   \n",
       "638                         GO_MITOTIC_NUCLEAR_DIVISION           59   \n",
       "326                                  GO_DNA_REPLICATION           30   \n",
       "2019  GO_TRANSCRIPTION_COUPLED_NUCLEOTIDE_EXCISION_R...           16   \n",
       "325                                       GO_DNA_REPAIR           52   \n",
       "985                     GO_PEPTIDYL_LYSINE_MODIFICATION           35   \n",
       "324                                GO_DNA_RECOMBINATION           20   \n",
       "316                    GO_DNA_DEPENDENT_DNA_REPLICATION           18   \n",
       "639                            GO_MITOTIC_RECOMBINATION           11   \n",
       "\n",
       "      Stat (dist.dir)  p (dist.dir.up)  p adj (dist.dir.up)  p (dist.dir.dn)  \\\n",
       "633           0.49443         0.000216             0.007074              NaN   \n",
       "267           0.59217         0.000210             0.007074              NaN   \n",
       "638           0.61177         0.000210             0.007074              NaN   \n",
       "326           0.68915         0.000211             0.007074              NaN   \n",
       "2019          0.71986         0.000208             0.007074              NaN   \n",
       "325           0.52205         0.000208             0.007074              NaN   \n",
       "985           0.60811         0.000212             0.007074              NaN   \n",
       "324           0.75075         0.000211             0.007074              NaN   \n",
       "316           0.71281         0.000211             0.007074              NaN   \n",
       "639           0.85123         0.000205             0.007074              NaN   \n",
       "\n",
       "      p adj (dist.dir.dn)  Genes (up)  Genes (down)  \n",
       "633                   NaN          80            45  \n",
       "267                   NaN          25             2  \n",
       "638                   NaN          40            19  \n",
       "326                   NaN          22             8  \n",
       "2019                  NaN          13             3  \n",
       "325                   NaN          38            14  \n",
       "985                   NaN          22            13  \n",
       "324                   NaN          16             4  \n",
       "316                   NaN          13             5  \n",
       "639                   NaN          10             1  "
      ]
     },
     "execution_count": 185,
     "metadata": {},
     "output_type": "execute_result"
    }
   ],
   "source": [
    "#just look into GO results\n",
    "data=pd.read_table('../results/functional/enrichments/GOBP_achilles.tsv',\n",
    "                   sep='\\t',header=0,index_col=[0])\n",
    "data.sort_values('p adj (dist.dir.up)').head(10)"
   ]
  },
  {
   "cell_type": "markdown",
   "metadata": {},
   "source": [
    "## KEGG pathway enrichment"
   ]
  },
  {
   "cell_type": "code",
   "execution_count": 186,
   "metadata": {
    "collapsed": false
   },
   "outputs": [
    {
     "data": {
      "text/plain": [
       "0"
      ]
     },
     "execution_count": 186,
     "metadata": {},
     "output_type": "execute_result"
    }
   ],
   "source": [
    "# KEGG pathway Enrichments\n",
    "call(['Rscript','KEGG_enrichments.R'])"
   ]
  },
  {
   "cell_type": "code",
   "execution_count": 259,
   "metadata": {
    "collapsed": false
   },
   "outputs": [
    {
     "data": {
      "text/html": [
       "<div>\n",
       "<style>\n",
       "    .dataframe thead tr:only-child th {\n",
       "        text-align: right;\n",
       "    }\n",
       "\n",
       "    .dataframe thead th {\n",
       "        text-align: left;\n",
       "    }\n",
       "\n",
       "    .dataframe tbody tr th {\n",
       "        vertical-align: top;\n",
       "    }\n",
       "</style>\n",
       "<table border=\"1\" class=\"dataframe\">\n",
       "  <thead>\n",
       "    <tr style=\"text-align: right;\">\n",
       "      <th></th>\n",
       "      <th>Name</th>\n",
       "      <th>Genes (tot)</th>\n",
       "      <th>Stat (dist.dir)</th>\n",
       "      <th>p (dist.dir.up)</th>\n",
       "      <th>p adj (dist.dir.up)</th>\n",
       "      <th>p (dist.dir.dn)</th>\n",
       "      <th>p adj (dist.dir.dn)</th>\n",
       "      <th>Genes (up)</th>\n",
       "      <th>Genes (down)</th>\n",
       "    </tr>\n",
       "  </thead>\n",
       "  <tbody>\n",
       "    <tr>\n",
       "      <th>67</th>\n",
       "      <td>KEGG_NUCLEOTIDE_EXCISION_REPAIR</td>\n",
       "      <td>13</td>\n",
       "      <td>0.74681</td>\n",
       "      <td>0.000205</td>\n",
       "      <td>0.005046</td>\n",
       "      <td>NaN</td>\n",
       "      <td>NaN</td>\n",
       "      <td>11</td>\n",
       "      <td>2</td>\n",
       "    </tr>\n",
       "    <tr>\n",
       "      <th>60</th>\n",
       "      <td>KEGG_MISMATCH_REPAIR</td>\n",
       "      <td>9</td>\n",
       "      <td>0.84135</td>\n",
       "      <td>0.000408</td>\n",
       "      <td>0.005046</td>\n",
       "      <td>NaN</td>\n",
       "      <td>NaN</td>\n",
       "      <td>8</td>\n",
       "      <td>1</td>\n",
       "    </tr>\n",
       "    <tr>\n",
       "      <th>26</th>\n",
       "      <td>KEGG_DNA_REPLICATION</td>\n",
       "      <td>10</td>\n",
       "      <td>0.85379</td>\n",
       "      <td>0.000409</td>\n",
       "      <td>0.005046</td>\n",
       "      <td>NaN</td>\n",
       "      <td>NaN</td>\n",
       "      <td>9</td>\n",
       "      <td>1</td>\n",
       "    </tr>\n",
       "    <tr>\n",
       "      <th>12</th>\n",
       "      <td>KEGG_BASE_EXCISION_REPAIR</td>\n",
       "      <td>7</td>\n",
       "      <td>0.84383</td>\n",
       "      <td>0.000610</td>\n",
       "      <td>0.005639</td>\n",
       "      <td>NaN</td>\n",
       "      <td>NaN</td>\n",
       "      <td>5</td>\n",
       "      <td>2</td>\n",
       "    </tr>\n",
       "    <tr>\n",
       "      <th>18</th>\n",
       "      <td>KEGG_CELL_CYCLE</td>\n",
       "      <td>42</td>\n",
       "      <td>0.46980</td>\n",
       "      <td>0.000817</td>\n",
       "      <td>0.006045</td>\n",
       "      <td>NaN</td>\n",
       "      <td>NaN</td>\n",
       "      <td>27</td>\n",
       "      <td>15</td>\n",
       "    </tr>\n",
       "    <tr>\n",
       "      <th>91</th>\n",
       "      <td>KEGG_SPLICEOSOME</td>\n",
       "      <td>11</td>\n",
       "      <td>0.70556</td>\n",
       "      <td>0.002450</td>\n",
       "      <td>0.015108</td>\n",
       "      <td>NaN</td>\n",
       "      <td>NaN</td>\n",
       "      <td>9</td>\n",
       "      <td>2</td>\n",
       "    </tr>\n",
       "    <tr>\n",
       "      <th>83</th>\n",
       "      <td>KEGG_PURINE_METABOLISM</td>\n",
       "      <td>12</td>\n",
       "      <td>0.67100</td>\n",
       "      <td>0.003066</td>\n",
       "      <td>0.016204</td>\n",
       "      <td>NaN</td>\n",
       "      <td>NaN</td>\n",
       "      <td>8</td>\n",
       "      <td>4</td>\n",
       "    </tr>\n",
       "    <tr>\n",
       "      <th>84</th>\n",
       "      <td>KEGG_PYRIMIDINE_METABOLISM</td>\n",
       "      <td>10</td>\n",
       "      <td>0.66115</td>\n",
       "      <td>0.011661</td>\n",
       "      <td>0.053933</td>\n",
       "      <td>NaN</td>\n",
       "      <td>NaN</td>\n",
       "      <td>7</td>\n",
       "      <td>3</td>\n",
       "    </tr>\n",
       "    <tr>\n",
       "      <th>68</th>\n",
       "      <td>KEGG_OOCYTE_MEIOSIS</td>\n",
       "      <td>18</td>\n",
       "      <td>0.52426</td>\n",
       "      <td>0.021351</td>\n",
       "      <td>0.087776</td>\n",
       "      <td>NaN</td>\n",
       "      <td>NaN</td>\n",
       "      <td>11</td>\n",
       "      <td>7</td>\n",
       "    </tr>\n",
       "    <tr>\n",
       "      <th>89</th>\n",
       "      <td>KEGG_RNA_DEGRADATION</td>\n",
       "      <td>8</td>\n",
       "      <td>0.62389</td>\n",
       "      <td>0.061738</td>\n",
       "      <td>0.190360</td>\n",
       "      <td>NaN</td>\n",
       "      <td>NaN</td>\n",
       "      <td>6</td>\n",
       "      <td>2</td>\n",
       "    </tr>\n",
       "  </tbody>\n",
       "</table>\n",
       "</div>"
      ],
      "text/plain": [
       "                               Name  Genes (tot)  Stat (dist.dir)  \\\n",
       "67  KEGG_NUCLEOTIDE_EXCISION_REPAIR           13          0.74681   \n",
       "60             KEGG_MISMATCH_REPAIR            9          0.84135   \n",
       "26             KEGG_DNA_REPLICATION           10          0.85379   \n",
       "12        KEGG_BASE_EXCISION_REPAIR            7          0.84383   \n",
       "18                  KEGG_CELL_CYCLE           42          0.46980   \n",
       "91                 KEGG_SPLICEOSOME           11          0.70556   \n",
       "83           KEGG_PURINE_METABOLISM           12          0.67100   \n",
       "84       KEGG_PYRIMIDINE_METABOLISM           10          0.66115   \n",
       "68              KEGG_OOCYTE_MEIOSIS           18          0.52426   \n",
       "89             KEGG_RNA_DEGRADATION            8          0.62389   \n",
       "\n",
       "    p (dist.dir.up)  p adj (dist.dir.up)  p (dist.dir.dn)  \\\n",
       "67         0.000205             0.005046              NaN   \n",
       "60         0.000408             0.005046              NaN   \n",
       "26         0.000409             0.005046              NaN   \n",
       "12         0.000610             0.005639              NaN   \n",
       "18         0.000817             0.006045              NaN   \n",
       "91         0.002450             0.015108              NaN   \n",
       "83         0.003066             0.016204              NaN   \n",
       "84         0.011661             0.053933              NaN   \n",
       "68         0.021351             0.087776              NaN   \n",
       "89         0.061738             0.190360              NaN   \n",
       "\n",
       "    p adj (dist.dir.dn)  Genes (up)  Genes (down)  \n",
       "67                  NaN          11             2  \n",
       "60                  NaN           8             1  \n",
       "26                  NaN           9             1  \n",
       "12                  NaN           5             2  \n",
       "18                  NaN          27            15  \n",
       "91                  NaN           9             2  \n",
       "83                  NaN           8             4  \n",
       "84                  NaN           7             3  \n",
       "68                  NaN          11             7  \n",
       "89                  NaN           6             2  "
      ]
     },
     "execution_count": 259,
     "metadata": {},
     "output_type": "execute_result"
    }
   ],
   "source": [
    "data=pd.read_table('../results/functional/enrichments/KEGG_achilles.tsv',\n",
    "                   sep='\\t',header=0,index_col=[0])\n",
    "data.sort_values('p adj (dist.dir.up)').head(10)"
   ]
  },
  {
   "cell_type": "markdown",
   "metadata": {},
   "source": [
    "## Transcription factor regulon enrichment\n",
    "Regulons for TFs are already included in the repository, but can manually dowloaded from [DoRothEA repository](https://github.com/saezlab/DoRothEA)."
   ]
  },
  {
   "cell_type": "code",
   "execution_count": 250,
   "metadata": {
    "collapsed": false
   },
   "outputs": [
    {
     "data": {
      "text/plain": [
       "0"
      ]
     },
     "execution_count": 250,
     "metadata": {},
     "output_type": "execute_result"
    }
   ],
   "source": [
    "# Transcription Factor regulon enrichment using DoRothEA and viper\n",
    "call(['Rscript','TF_regulon_enrichments.R'])"
   ]
  },
  {
   "cell_type": "code",
   "execution_count": 251,
   "metadata": {
    "collapsed": true
   },
   "outputs": [],
   "source": [
    "# we remove low confidence level TFs from enrichment results\n",
    "data=pd.read_table('../results/functional/enrichments/DoRothEA.csv',\n",
    "                  sep=',',header=0,index_col=[0])\n",
    "tf_names=pd.Series(data.index).apply(lambda x:x.split('_')[0]).values\n",
    "good_msk=pd.Series(data.index).apply(lambda x:x.split('_')[1][0] in ['A','B']).values\n",
    "data.index=tf_names\n",
    "data=data[good_msk]\n",
    "data.columns=['NES']"
   ]
  },
  {
   "cell_type": "code",
   "execution_count": 252,
   "metadata": {
    "collapsed": false
   },
   "outputs": [
    {
     "name": "stdout",
     "output_type": "stream",
     "text": [
      "             NES\n",
      "FOXO3  -3.816854\n",
      "PRDM14 -3.440174\n",
      "ESR2   -2.888764\n",
      "POU2F1 -2.772940\n",
      "TP53   -2.701049\n",
      "USF2   -2.554411\n",
      "STAT1  -2.442873\n",
      "FOS    -2.313918\n",
      "ETS1   -2.248835\n",
      "JUN    -2.153735\n",
      "ESR1   -1.969761\n",
      "SPI1   -1.950526\n",
      "SMAD4  -1.942263\n",
      "TWIST1 -1.937114\n",
      "FOXO1  -1.922666\n",
      "SMAD3  -1.901023\n",
      "FOXO4  -1.836478\n",
      "TFAP2A -1.746101\n",
      "ETV4   -1.743225\n",
      "FLI1   -1.582792\n",
      "SOX2   -1.581124\n",
      "ATF2   -1.571681\n",
      "AR     -1.498928\n",
      "KLF4   -1.479860\n",
      "USF1   -1.413601\n",
      "VDR    -1.411384\n",
      "HIF1A  -1.381960\n",
      "PAX8   -1.331544\n",
      "CTCF   -1.326600\n",
      "ATF4   -1.325524\n",
      "...          ...\n",
      "CREB1  -0.429856\n",
      "MYB    -0.287150\n",
      "FOXL2  -0.286375\n",
      "SREBF1 -0.276869\n",
      "RELA   -0.213521\n",
      "STAT3  -0.149852\n",
      "WT1    -0.081892\n",
      "RARA   -0.008986\n",
      "FOXP1   0.014709\n",
      "ELK1    0.103107\n",
      "SP1     0.127504\n",
      "CEBPD   0.134245\n",
      "HNF4A   0.218703\n",
      "ZNF263  0.450042\n",
      "STAT5A  0.451467\n",
      "TFAP2C  0.461781\n",
      "ETS2    0.795876\n",
      "E2F3    1.058977\n",
      "TCF7L2  1.080351\n",
      "FOXA1   1.217310\n",
      "YY1     1.519722\n",
      "SREBF2  1.527549\n",
      "BACH1   1.759120\n",
      "MYC     1.821395\n",
      "ATF1    1.863959\n",
      "FOXM1   2.468741\n",
      "TFDP1   3.068941\n",
      "LEF1    3.292321\n",
      "E2F4    4.136086\n",
      "E2F1    4.280263\n",
      "\n",
      "[74 rows x 1 columns]\n"
     ]
    }
   ],
   "source": [
    "data.to_csv('../results/functional/enrichments/DoRothEA.csv')\n",
    "print(data.sort_values('NES'))"
   ]
  },
  {
   "cell_type": "markdown",
   "metadata": {},
   "source": [
    "## Signaling pathway footrpint analysis (PROGENy)\n",
    "Model matrix for PROGENy is already included in the repository, but can manually dowloaded from [PROGENy repository](https://github.com/saezlab/progeny)"
   ]
  },
  {
   "cell_type": "code",
   "execution_count": 253,
   "metadata": {
    "collapsed": false,
    "deletable": true,
    "editable": true
   },
   "outputs": [],
   "source": [
    "# for PROGENy we have low overlap between landmark and PROGENY genes\n",
    "# so we use bing gene - cell viability correlations\n",
    "# to calculate this, you have to re-run a first part of this\n",
    "# notebook with bing genes: replacing fil=gene_info['pr_is_lm']==1\n",
    "# to fil=gene_info['pr_is_bing']==1 in second cell (and renaming output files *_bing.*)\n",
    "correlations=pd.read_table('../results/functional/achilles_cors_bing.csv',\n",
    "                          sep=',',header=0,index_col=[0])\n",
    "progeny=pd.read_table('../data/Functional/PROGENy.csv',\n",
    "                     sep=',',header=0,index_col=[0])\n",
    "correlations.index=correlations['pr_gene_symbol']\n",
    "correlations=pd.DataFrame(correlations['Pearson_r'])"
   ]
  },
  {
   "cell_type": "code",
   "execution_count": 254,
   "metadata": {
    "collapsed": false
   },
   "outputs": [
    {
     "name": "stdout",
     "output_type": "stream",
     "text": [
      "898\n"
     ]
    }
   ],
   "source": [
    "genes=list(set(progeny.index)&set(correlations.index))\n",
    "print(len(genes))"
   ]
  },
  {
   "cell_type": "code",
   "execution_count": 255,
   "metadata": {
    "collapsed": false
   },
   "outputs": [],
   "source": [
    "scores=pd.DataFrame(index=range(1000),columns=progeny.columns)\n",
    "#first real pathway activity\n",
    "scores.loc[0]=np.dot(correlations.loc[genes].T,progeny.loc[genes])\n",
    "# than 1000 random permutation of genes in correlations\n",
    "np.random.seed(19890904)\n",
    "for i in range(1,1000):\n",
    "    correlations.index=np.random.choice(correlations.index,len(correlations.index),False)\n",
    "    scores.loc[i]=np.dot(correlations.loc[genes].T,progeny.loc[genes])"
   ]
  },
  {
   "cell_type": "code",
   "execution_count": 256,
   "metadata": {
    "collapsed": false
   },
   "outputs": [],
   "source": [
    "scores=((scores-np.mean(scores,0))/np.std(scores,0)).loc[0]\n",
    "scores=pd.DataFrame(scores)\n",
    "scores.columns=['Pathway activity']"
   ]
  },
  {
   "cell_type": "code",
   "execution_count": 257,
   "metadata": {
    "collapsed": false
   },
   "outputs": [
    {
     "name": "stdout",
     "output_type": "stream",
     "text": [
      "         Pathway activity\n",
      "EGFR              2.93174\n",
      "Hypoxia           2.29129\n",
      "JAK-STAT         -3.24846\n",
      "MAPK              4.29581\n",
      "NFkB             -1.26311\n",
      "PI3K              2.90661\n",
      "TGFb              -1.3792\n",
      "TNFa             -1.18241\n",
      "Trail            0.912791\n",
      "VEGF             0.330147\n",
      "p53              -1.99183\n",
      "Androgen           1.5352\n",
      "Estrogen          2.35669\n",
      "WNT              -1.75701\n"
     ]
    }
   ],
   "source": [
    "scores.to_csv('../results/functional/enrichments/PROGENy.csv')\n",
    "print(scores)"
   ]
  },
  {
   "cell_type": "markdown",
   "metadata": {},
   "source": [
    "## Association with drug sensitivity\n",
    "We will calculte the \"cell viability\" score for the cancer cell lines in the GDSC panel, and see that this score is associated with drug sensitivity. "
   ]
  },
  {
   "cell_type": "code",
   "execution_count": 260,
   "metadata": {
    "collapsed": false
   },
   "outputs": [
    {
     "data": {
      "text/plain": [
       "0"
      ]
     },
     "execution_count": 260,
     "metadata": {},
     "output_type": "execute_result"
    }
   ],
   "source": [
    "# translating gene ids\n",
    "call(['Rscript','gene_translate.R'])"
   ]
  },
  {
   "cell_type": "code",
   "execution_count": 286,
   "metadata": {
    "collapsed": false
   },
   "outputs": [],
   "source": [
    "expression=pd.read_table('../data/GDSC/sanger1018_brainarray_ensemblgene_rma.txt',\n",
    "                        sep='\\t',header=0,index_col=[0])\n",
    "gene_anno=pd.read_table('../data/GDSC/ensembl_hgnc.csv',sep=',',header=0,index_col=[0])\n",
    "# remove not 1on1 translations and NaNs\n",
    "gene_anno=gene_anno.drop_duplicates('ensembl_gene_id')\n",
    "gene_anno=gene_anno.drop_duplicates('hgnc_symbol')\n",
    "msk=np.sum(pd.isnull(gene_anno),1)==0\n",
    "gene_anno=gene_anno[msk]\n",
    "# translate gdsc gene ids gene symbol\n",
    "gene_anno.index=gene_anno['ensembl_gene_id']\n",
    "gene_anno=gene_anno['hgnc_symbol']\n",
    "genes=list(set(gene_anno.index)&set(expression.index))\n",
    "expression=expression.loc[genes]\n",
    "gene_anno=gene_anno[genes]\n",
    "expression.index=gene_anno.values\n",
    "expression.to_csv('../data/GDSC/gex.csv',sep=',')\n",
    "# also normalising the gene expression\n",
    "expression_norm=((expression.T-np.mean(expression,1))/np.std(expression,1)).T\n",
    "expression_norm.to_csv('../data/GDSC/gex_norm.csv',sep=',')"
   ]
  },
  {
   "cell_type": "code",
   "execution_count": 294,
   "metadata": {
    "collapsed": false
   },
   "outputs": [
    {
     "name": "stdout",
     "output_type": "stream",
     "text": [
      "We have 907 common genes between cancer cell lines and LINCS models.\n"
     ]
    }
   ],
   "source": [
    "# now let's calculate \"cell viability signature score\"\n",
    "model=pd.read_table('../results/model/final_models/achilles.csv',sep=',',\n",
    "                   header=0,index_col=[0])\n",
    "model.index=model['pr_gene_symbol']\n",
    "model=pd.DataFrame(model['coefficient'])\n",
    "genes=list(set(model.index) & set(expression_norm.index))\n",
    "print('We have %i common genes between cancer cell lines and LINCS models.' % len(genes))"
   ]
  },
  {
   "cell_type": "code",
   "execution_count": 304,
   "metadata": {
    "collapsed": false
   },
   "outputs": [],
   "source": [
    "score=pd.DataFrame(np.dot(expression_norm.loc[genes].T,model.loc[genes]),\n",
    "             index=expression_norm.columns,columns=['Signature_score'])\n",
    "score.index.name='COSMIC'\n",
    "score.to_csv('../results/functional/gdsc_scores.csv',sep=',')"
   ]
  },
  {
   "cell_type": "markdown",
   "metadata": {},
   "source": [
    "We will compare this signature score with different other things, like cell division rate, general drug sensitivity and drug specific sensitivity. For cell division rate, we need to download **DS1.zip** from [Hafner et al, Scientific Data 2017](https://datadryad.org/resource/doi:10.5061/dryad.03n60). **DS1_datafile.xls** goes to *'../data/GDSC/*."
   ]
  },
  {
   "cell_type": "code",
   "execution_count": 333,
   "metadata": {
    "collapsed": true
   },
   "outputs": [],
   "source": [
    "growth=pd.read_excel('../data/GDSC/DS1_datafile.xlsx')\n",
    "growth=growth.drop_duplicates('Cell Name')\n",
    "growth=growth[['Cell Name','Nominal Division Rate']]\n",
    "growth.index=growth['Cell Name']\n",
    "growth=growth['Nominal Division Rate']\n",
    "#we get COSMIC IDs for these cell lines\n",
    "cell_anno=pd.read_excel('../data/GDSC/Cell_Lines_Details.xlsx')\n",
    "cell_anno.index=cell_anno['Sample Name']\n",
    "cells=list(set(growth.index)&set(cell_anno.index))\n",
    "growth=growth[cells]\n",
    "cell_anno=cell_anno.loc[cells]\n",
    "growth.index=cell_anno['COSMIC identifier'].astype(int).astype(str)"
   ]
  }
 ],
 "metadata": {
  "kernelspec": {
   "display_name": "Python 3",
   "language": "python",
   "name": "python3"
  },
  "language_info": {
   "codemirror_mode": {
    "name": "ipython",
    "version": 3
   },
   "file_extension": ".py",
   "mimetype": "text/x-python",
   "name": "python",
   "nbconvert_exporter": "python",
   "pygments_lexer": "ipython3",
   "version": "3.5.2"
  }
 },
 "nbformat": 4,
 "nbformat_minor": 2
}
