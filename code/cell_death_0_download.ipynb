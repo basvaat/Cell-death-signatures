{
 "cells": [
  {
   "cell_type": "code",
   "execution_count": 1,
   "metadata": {
    "collapsed": true,
    "deletable": true,
    "editable": true
   },
   "outputs": [],
   "source": [
    "import pandas as pd"
   ]
  },
  {
   "cell_type": "markdown",
   "metadata": {
    "deletable": true,
    "editable": true
   },
   "source": [
    "<p style=\"text-align:justify\">The LINCS-L1000 perturbation gene expression profiles used in our study are located as [GSE92742](https://www.ncbi.nlm.nih.gov/geo/query/acc.cgi?acc=GSE92742) (Phase I data, as described in [Subramanian A et al; Cell; 2017](https://www.ncbi.nlm.nih.gov/pubmed/29195078)) and [GSE70138](https://www.ncbi.nlm.nih.gov/geo/query/acc.cgi?acc=GSE70138) (Phase II, ongoing, last updated March 30, 2017) on [GEO](https://www.ncbi.nlm.nih.gov/geo/). You should manually download **Level5** (replicate-consensus sigantures) and all metadata do *'../data/LINCS/GSE92742/'* and *'../data/LINCS/GSE70138/'*, respectively. If you are ready with this, the following cell just opens the *GSE92742_Broad_LINCS_sig_info.txt* file, which contatins most experiment related metadata."
   ]
  },
  {
   "cell_type": "code",
   "execution_count": 20,
   "metadata": {
    "collapsed": false,
    "deletable": true,
    "editable": true
   },
   "outputs": [
    {
     "name": "stdout",
     "output_type": "stream",
     "text": [
      "                                  sig_id        pert_id     pert_iname  \\\n",
      "0                    AML001_CD34_24H:A05           DMSO           DMSO   \n",
      "1                    AML001_CD34_24H:A06           DMSO           DMSO   \n",
      "2                    AML001_CD34_24H:B05           DMSO           DMSO   \n",
      "3                    AML001_CD34_24H:B06           DMSO           DMSO   \n",
      "4  AML001_CD34_24H:BRD-A03772856:0.37037  BRD-A03772856  BRD-A03772856   \n",
      "\n",
      "     pert_type cell_id pert_dose pert_dose_unit pert_idose  pert_time  \\\n",
      "0  ctl_vehicle    CD34       0.1              %      0.1 %         24   \n",
      "1  ctl_vehicle    CD34       0.1              %      0.1 %         24   \n",
      "2  ctl_vehicle    CD34       0.1              %      0.1 %         24   \n",
      "3  ctl_vehicle    CD34       0.1              %      0.1 %         24   \n",
      "4       trt_cp    CD34   0.37037             µM     500 nM         24   \n",
      "\n",
      "  pert_time_unit pert_itime                                          distil_id  \n",
      "0              h       24 h                       AML001_CD34_24H_X1_F1B10:A05  \n",
      "1              h       24 h                       AML001_CD34_24H_X3_F1B10:A06  \n",
      "2              h       24 h  AML001_CD34_24H_X1_F1B10:B05|AML001_CD34_24H_X...  \n",
      "3              h       24 h                       AML001_CD34_24H_X3_F1B10:B06  \n",
      "4              h       24 h  AML001_CD34_24H_X1_F1B10:J04|AML001_CD34_24H_X...  \n"
     ]
    }
   ],
   "source": [
    "lincs=pd.read_table('../data/LINCS/GSE92742/GSE92742_Broad_LINCS_sig_info.txt',\n",
    "                   sep='\\t',header=0,index_col=None,low_memory=False)\n",
    "print(lincs.head())"
   ]
  },
  {
   "cell_type": "markdown",
   "metadata": {
    "collapsed": true,
    "deletable": true,
    "editable": true
   },
   "source": [
    "Our model is built on cell viability values form [CTRPv2]() and [Achilles]() screens. For CTRP you should download **Cancer Therapeutics Response Portal (CTRP v2, 2015) Dataset** from [CTD<sup>2</sup> Data Portal](https://ocg.cancer.gov/programs/ctd2/data-portal) to *'../data/CTRP/'*. For Achilles you should download **Achilles_v2.4.6.rnai.gct** and **achilles-v2-19-2-mapped-rnai_v1-data.gct** from [DepMap](https://depmap.org/portal/download/all/) to *'../data/Achilles/'*. If you are ready with this, the following code jsut opens two files to check everything is fine."
   ]
  },
  {
   "cell_type": "code",
   "execution_count": 21,
   "metadata": {
    "collapsed": false,
    "deletable": true,
    "editable": true
   },
   "outputs": [
    {
     "name": "stdout",
     "output_type": "stream",
     "text": [
      "   master_cpd_id             cpd_name   broad_cpd_id  top_test_conc_umol  \\\n",
      "0           1788                CIL55  BRD-K46556387                10.0   \n",
      "1           3588              BRD4132  BRD-K86574132               160.0   \n",
      "2          12877              BRD6340  BRD-K35716340                33.0   \n",
      "3          17712                ML006  BRD-K89692698               530.0   \n",
      "4          18311  Bax channel blocker  BRD-A18763547                33.0   \n",
      "\n",
      "  cpd_status  inclusion_rationale gene_symbol_of_protein_target  \\\n",
      "0      probe            pilot-set                           NaN   \n",
      "1      probe  chromatin;pilot-set                           NaN   \n",
      "2      probe  chromatin;pilot-set                           NaN   \n",
      "3      probe            pilot-set                         S1PR3   \n",
      "4      probe            pilot-set                           BAX   \n",
      "\n",
      "                      target_or_activity_of_compound          source_name  \\\n",
      "0                                      screening hit  Columbia University   \n",
      "1                                      screening hit         ChemDiv Inc.   \n",
      "2                                      screening hit         ChemDiv Inc.   \n",
      "3      agonist of sphingosine 1-phosphate receptor 3         Enamine Ltd.   \n",
      "4  inhibitor of BAX-mediated mitochondrial cytoch...            Maybridge   \n",
      "\n",
      "  source_catalog_id                                         cpd_smiles  \n",
      "0               NaN              CN(C)CCNC(=O)c1cc2CSc3cc(Cl)ccc3-c2s1  \n",
      "1         4998-1380  CC(C)N1C(=O)S\\C(=C\\c2ccc(Sc3nc4ccccc4[nH]3)o2)...  \n",
      "2         1988-0090            C(Cn1c2ccccc2c2ccccc12)c1nc2ccccc2[nH]1  \n",
      "3       Z1037336336           C1CN(CCO1)c1nnc(-c2ccccc2)c(n1)-c1ccccc1  \n",
      "4          RJC01737          OC(CN1CCNCC1)Cn1c2ccc(Br)cc2c2cc(Br)ccc12  \n"
     ]
    }
   ],
   "source": [
    "ctrp=pd.read_table('../data/CTRP/v20.meta.per_compound.txt',sep='\\t',\n",
    "                   header=0,index_col=None)\n",
    "print(ctrp.head())"
   ]
  },
  {
   "cell_type": "code",
   "execution_count": 22,
   "metadata": {
    "collapsed": false,
    "deletable": true,
    "editable": true
   },
   "outputs": [
    {
     "name": "stdout",
     "output_type": "stream",
     "text": [
      "                            Name Description  22RV1_PROSTATE  \\\n",
      "0  AAAAATGGCATCAACCACCAT_RPS6KA1     RPS6KA1        0.745271   \n",
      "1    AAACACATTTGGGATGTTCCT_IGF1R       IGF1R        1.547808   \n",
      "2     AAAGAAGAAGCTGCAATATCT_TSC1        TSC1        1.802590   \n",
      "3    AAGCGTGCCGTAGACTGTCCA_CHEK1       CHEK1             NaN   \n",
      "4    AATCTAAGAGAGCTGCCATCG_XRCC5       XRCC5       -2.809293   \n",
      "\n",
      "   697_HAEMATOPOIETIC_AND_LYMPHOID_TISSUE  786O_KIDNEY  \\\n",
      "0                               -0.041123    -0.242875   \n",
      "1                                2.190488     1.813222   \n",
      "2                                1.536374     1.671655   \n",
      "3                                     NaN          NaN   \n",
      "4                               -1.330285    -2.912347   \n",
      "\n",
      "   A1207_CENTRAL_NERVOUS_SYSTEM  A172_CENTRAL_NERVOUS_SYSTEM  \\\n",
      "0                     -0.720484                     1.114986   \n",
      "1                      1.055123                     1.711305   \n",
      "2                      1.749983                     2.372121   \n",
      "3                           NaN                          NaN   \n",
      "4                     -0.937037                    -2.063379   \n",
      "\n",
      "   A204_SOFT_TISSUE  A2058_SKIN  A549_LUNG      ...        TT_OESOPHAGUS  \\\n",
      "0         -0.201683    0.120900  -0.018283      ...             0.114314   \n",
      "1          0.895790    1.392671   1.508456      ...             1.098053   \n",
      "2          2.782871    2.166329   1.767422      ...             2.062967   \n",
      "3               NaN         NaN        NaN      ...            -0.744278   \n",
      "4         -2.417872   -0.845071  -1.736412      ...            -2.513774   \n",
      "\n",
      "   TYKNU_OVARY  U178_CENTRAL_NERVOUS_SYSTEM  U251MG_CENTRAL_NERVOUS_SYSTEM  \\\n",
      "0    -0.663695                     1.349817                       0.372243   \n",
      "1     1.292968                     0.660043                       1.143449   \n",
      "2     1.339992                     0.516197                       1.865463   \n",
      "3          NaN                          NaN                            NaN   \n",
      "4    -2.212275                    -2.655619                      -2.378872   \n",
      "\n",
      "   U343_CENTRAL_NERVOUS_SYSTEM  U87MG_CENTRAL_NERVOUS_SYSTEM  UOK101_KIDNEY  \\\n",
      "0                     0.535807                     -0.083225      -0.570613   \n",
      "1                     1.447363                      0.797539      -0.448928   \n",
      "2                     2.527933                      0.829466       1.786617   \n",
      "3                          NaN                           NaN            NaN   \n",
      "4                    -1.977371                     -1.998843      -2.658554   \n",
      "\n",
      "   VCAP_PROSTATE  YKG1_CENTRAL_NERVOUS_SYSTEM  ZR7530_BREAST  \n",
      "0      -1.345746                     0.486741      -1.674485  \n",
      "1      -0.148166                    -0.062247       0.329107  \n",
      "2       0.653663                     2.098124      -0.144754  \n",
      "3            NaN                          NaN            NaN  \n",
      "4      -0.709515                    -1.209283      -2.755154  \n",
      "\n",
      "[5 rows x 218 columns]\n"
     ]
    }
   ],
   "source": [
    "achilles=pd.read_table('../data/Achilles/Achilles_v2.4.6.rnai.gct',sep='\\t',\n",
    "                       header=0,index_col=None,skiprows=2)\n",
    "print(achilles.head())"
   ]
  },
  {
   "cell_type": "markdown",
   "metadata": {
    "deletable": true,
    "editable": true
   },
   "source": [
    "As you can see, both CTRP and LINCS-L1000 uses Broad Compound IDs for their small molecules, so it makes it easy to match between these datasets. However LINCS-L1000 uses different IDs, we need some metadata to translate between them. This can be downloaded form [Genetic Perturbation Platform](https://portals.broadinstitute.org/gpp/public/pool/index). We need **CP0001_20150109_reference.csv** and **CP0003_20150109_reference.csv** so you should download them to '../data/Achille/'. Opening this file shows us how we can translate later between different IDs."
   ]
  },
  {
   "cell_type": "code",
   "execution_count": 23,
   "metadata": {
    "collapsed": false,
    "deletable": true,
    "editable": true
   },
   "outputs": [
    {
     "name": "stdout",
     "output_type": "stream",
     "text": [
      "                       0               1                      2\n",
      "0  AAAAATGGCATCAACCACCAT  TRCN0000010427  AAAAATGGCATCAACCACCAT\n",
      "1  AAAAGGATAACCCAGGTGTTT  TRCN0000018361  AAAAGGATAACCCAGGTGTTT\n",
      "2  AAAATGGCATCAACCACCATC  TRCN0000221515  AAAATGGCATCAACCACCATC\n",
      "3  AAACACATTTGGGATGTTCCT  TRCN0000010361  AAACACATTTGGGATGTTCCT\n",
      "4  AAACAGCTGCCTTAGCTTCAC  TRCN0000010475  GAAACAGCTGCCTTAGCTTCA\n"
     ]
    }
   ],
   "source": [
    "shrna=pd.read_table('../data/Achilles/CP0001_reference_20150109.csv',sep=',',\n",
    "                    header=None,index_col=None)\n",
    "print(shrna.head())"
   ]
  },
  {
   "cell_type": "markdown",
   "metadata": {
    "collapsed": true,
    "deletable": true,
    "editable": true
   },
   "source": [
    "Later we will need cell line gene expression data and drug sensitivity data from [GDSC](https://www.cancerrxgene.org/downloads). You should download **RMA normalised expression data for Cell lines** and **Annotated list of Cell lines** to *../data/GDSC/'*."
   ]
  },
  {
   "cell_type": "code",
   "execution_count": 2,
   "metadata": {
    "collapsed": true
   },
   "outputs": [],
   "source": [
    "expression=pd.read_table('../data/GDSC/sanger1018_brainarray_ensemblgene_rma.txt',sep='\\t',header=0,index_col=None)"
   ]
  },
  {
   "cell_type": "code",
   "execution_count": 6,
   "metadata": {
    "collapsed": false
   },
   "outputs": [],
   "source": [
    "expression.head()\n",
    "expression['ensembl_gene'].to_csv('genes.csv')"
   ]
  },
  {
   "cell_type": "code",
   "execution_count": 4,
   "metadata": {
    "collapsed": true
   },
   "outputs": [],
   "source": [
    "annotation=pd.read_excel('../data/GDSC/Cell_Lines_Details.xlsx')"
   ]
  },
  {
   "cell_type": "code",
   "execution_count": 5,
   "metadata": {
    "collapsed": false
   },
   "outputs": [
    {
     "data": {
      "text/html": [
       "<div>\n",
       "<style>\n",
       "    .dataframe thead tr:only-child th {\n",
       "        text-align: right;\n",
       "    }\n",
       "\n",
       "    .dataframe thead th {\n",
       "        text-align: left;\n",
       "    }\n",
       "\n",
       "    .dataframe tbody tr th {\n",
       "        vertical-align: top;\n",
       "    }\n",
       "</style>\n",
       "<table border=\"1\" class=\"dataframe\">\n",
       "  <thead>\n",
       "    <tr style=\"text-align: right;\">\n",
       "      <th></th>\n",
       "      <th>Sample Name</th>\n",
       "      <th>COSMIC identifier</th>\n",
       "      <th>Whole Exome Sequencing (WES)</th>\n",
       "      <th>Copy Number Alterations (CNA)</th>\n",
       "      <th>Gene Expression</th>\n",
       "      <th>Methylation</th>\n",
       "      <th>Drug\n",
       "Response</th>\n",
       "      <th>GDSC\n",
       "Tissue descriptor 1</th>\n",
       "      <th>GDSC\n",
       "Tissue\n",
       "descriptor 2</th>\n",
       "      <th>Cancer Type\n",
       "(matching TCGA label)</th>\n",
       "      <th>Microsatellite \n",
       "instability Status (MSI)</th>\n",
       "      <th>Screen Medium</th>\n",
       "      <th>Growth Properties</th>\n",
       "    </tr>\n",
       "  </thead>\n",
       "  <tbody>\n",
       "    <tr>\n",
       "      <th>0</th>\n",
       "      <td>A253</td>\n",
       "      <td>906794.0</td>\n",
       "      <td>Y</td>\n",
       "      <td>Y</td>\n",
       "      <td>Y</td>\n",
       "      <td>Y</td>\n",
       "      <td>Y</td>\n",
       "      <td>aero_dig_tract</td>\n",
       "      <td>head and neck</td>\n",
       "      <td>NaN</td>\n",
       "      <td>MSS/MSI-L</td>\n",
       "      <td>D/F12</td>\n",
       "      <td>Adherent</td>\n",
       "    </tr>\n",
       "    <tr>\n",
       "      <th>1</th>\n",
       "      <td>BB30-HNC</td>\n",
       "      <td>753531.0</td>\n",
       "      <td>Y</td>\n",
       "      <td>Y</td>\n",
       "      <td>Y</td>\n",
       "      <td>Y</td>\n",
       "      <td>Y</td>\n",
       "      <td>aero_dig_tract</td>\n",
       "      <td>head and neck</td>\n",
       "      <td>HNSC</td>\n",
       "      <td>MSS/MSI-L</td>\n",
       "      <td>D/F12</td>\n",
       "      <td>Adherent</td>\n",
       "    </tr>\n",
       "    <tr>\n",
       "      <th>2</th>\n",
       "      <td>BB49-HNC</td>\n",
       "      <td>753532.0</td>\n",
       "      <td>Y</td>\n",
       "      <td>Y</td>\n",
       "      <td>Y</td>\n",
       "      <td>Y</td>\n",
       "      <td>Y</td>\n",
       "      <td>aero_dig_tract</td>\n",
       "      <td>head and neck</td>\n",
       "      <td>HNSC</td>\n",
       "      <td>MSS/MSI-L</td>\n",
       "      <td>D/F12</td>\n",
       "      <td>Adherent</td>\n",
       "    </tr>\n",
       "    <tr>\n",
       "      <th>3</th>\n",
       "      <td>BHY</td>\n",
       "      <td>753535.0</td>\n",
       "      <td>Y</td>\n",
       "      <td>Y</td>\n",
       "      <td>Y</td>\n",
       "      <td>Y</td>\n",
       "      <td>Y</td>\n",
       "      <td>aero_dig_tract</td>\n",
       "      <td>head and neck</td>\n",
       "      <td>HNSC</td>\n",
       "      <td>MSS/MSI-L</td>\n",
       "      <td>D/F12</td>\n",
       "      <td>Adherent</td>\n",
       "    </tr>\n",
       "    <tr>\n",
       "      <th>4</th>\n",
       "      <td>BICR10</td>\n",
       "      <td>1290724.0</td>\n",
       "      <td>Y</td>\n",
       "      <td>Y</td>\n",
       "      <td>Y</td>\n",
       "      <td>Y</td>\n",
       "      <td>Y</td>\n",
       "      <td>aero_dig_tract</td>\n",
       "      <td>head and neck</td>\n",
       "      <td>HNSC</td>\n",
       "      <td>MSS/MSI-L</td>\n",
       "      <td>D/F12</td>\n",
       "      <td>Adherent</td>\n",
       "    </tr>\n",
       "  </tbody>\n",
       "</table>\n",
       "</div>"
      ],
      "text/plain": [
       "  Sample Name  COSMIC identifier Whole Exome Sequencing (WES)  \\\n",
       "0        A253           906794.0                            Y   \n",
       "1    BB30-HNC           753531.0                            Y   \n",
       "2    BB49-HNC           753532.0                            Y   \n",
       "3         BHY           753535.0                            Y   \n",
       "4      BICR10          1290724.0                            Y   \n",
       "\n",
       "  Copy Number Alterations (CNA) Gene Expression Methylation Drug\\nResponse  \\\n",
       "0                             Y               Y           Y              Y   \n",
       "1                             Y               Y           Y              Y   \n",
       "2                             Y               Y           Y              Y   \n",
       "3                             Y               Y           Y              Y   \n",
       "4                             Y               Y           Y              Y   \n",
       "\n",
       "  GDSC\\nTissue descriptor 1 GDSC\\nTissue\\ndescriptor 2  \\\n",
       "0            aero_dig_tract              head and neck   \n",
       "1            aero_dig_tract              head and neck   \n",
       "2            aero_dig_tract              head and neck   \n",
       "3            aero_dig_tract              head and neck   \n",
       "4            aero_dig_tract              head and neck   \n",
       "\n",
       "  Cancer Type\\n(matching TCGA label)  \\\n",
       "0                                NaN   \n",
       "1                               HNSC   \n",
       "2                               HNSC   \n",
       "3                               HNSC   \n",
       "4                               HNSC   \n",
       "\n",
       "  Microsatellite \\ninstability Status (MSI) Screen Medium Growth Properties  \n",
       "0                                 MSS/MSI-L         D/F12          Adherent  \n",
       "1                                 MSS/MSI-L         D/F12          Adherent  \n",
       "2                                 MSS/MSI-L         D/F12          Adherent  \n",
       "3                                 MSS/MSI-L         D/F12          Adherent  \n",
       "4                                 MSS/MSI-L         D/F12          Adherent  "
      ]
     },
     "execution_count": 5,
     "metadata": {},
     "output_type": "execute_result"
    }
   ],
   "source": [
    "annotation.head()"
   ]
  },
  {
   "cell_type": "code",
   "execution_count": null,
   "metadata": {
    "collapsed": true
   },
   "outputs": [],
   "source": []
  }
 ],
 "metadata": {
  "kernelspec": {
   "display_name": "Python 3",
   "language": "python",
   "name": "python3"
  },
  "language_info": {
   "codemirror_mode": {
    "name": "ipython",
    "version": 3
   },
   "file_extension": ".py",
   "mimetype": "text/x-python",
   "name": "python",
   "nbconvert_exporter": "python",
   "pygments_lexer": "ipython3",
   "version": "3.5.2"
  }
 },
 "nbformat": 4,
 "nbformat_minor": 2
}
