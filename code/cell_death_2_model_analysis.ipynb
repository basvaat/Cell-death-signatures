{
 "cells": [
  {
   "cell_type": "code",
   "execution_count": 2,
   "metadata": {
    "collapsed": true,
    "deletable": true,
    "editable": true
   },
   "outputs": [],
   "source": [
    "import pandas as pd\n",
    "import numpy as np\n",
    "\n",
    "from matplotlib import pyplot as plt\n",
    "import seaborn as sns\n",
    "sns.set_style('whitegrid')\n",
    "%matplotlib inline\n",
    "\n",
    "from sklearn.decomposition import PCA\n",
    "from scipy.stats import spearmanr as scor"
   ]
  },
  {
   "cell_type": "markdown",
   "metadata": {
    "deletable": true,
    "editable": true
   },
   "source": [
    "## Dimension reduction and clustering of the CTRP-L1000 dataset"
   ]
  },
  {
   "cell_type": "code",
   "execution_count": 3,
   "metadata": {
    "collapsed": false,
    "deletable": true,
    "editable": true
   },
   "outputs": [],
   "source": [
    "sig_info=pd.read_table('../results/CTRP/sig_info_merged_lm.csv',\n",
    "                       sep=',',header=0,index_col=[0])\n",
    "signatures=pd.read_table('../results/CTRP/signatures_merged_lm.csv',\n",
    "                         sep=',',header=0,index_col=[0])"
   ]
  },
  {
   "cell_type": "markdown",
   "metadata": {
    "deletable": true,
    "editable": true
   },
   "source": [
    "Let's do first a PCA and color the points based on the matched cell viability."
   ]
  },
  {
   "cell_type": "code",
   "execution_count": 4,
   "metadata": {
    "collapsed": false,
    "deletable": true,
    "editable": true
   },
   "outputs": [],
   "source": [
    "#let's do first a PCA\n",
    "model=PCA(2,random_state=19890904)\n",
    "signatures_pca=pd.DataFrame(model.fit_transform(signatures),\n",
    "                            index=signatures.index)\n",
    "evr1,evr2=model.explained_variance_ratio_.round(3).astype(str)\n",
    "signatures_pca.columns=['PC1\\nexplained variance ratio: '+evr1,\n",
    "                      'PC2\\nexplained variance ratio: '+evr2]\n",
    "signatures_pca.to_csv('../results/model/dimension_reduction/pca.csv',\n",
    "                      sep=',')"
   ]
  },
  {
   "cell_type": "code",
   "execution_count": 74,
   "metadata": {
    "collapsed": true,
    "deletable": true,
    "editable": true
   },
   "outputs": [],
   "source": [
    "def make_pca_plot(sig_data,sig_info,color_by='viability',fname=None):\n",
    "    \"\"\"makes a plot of the 2 dimensional sig data, points are colored by\n",
    "    {'viability','cell_id','pert_id','pert_itime','bin_viability'}\n",
    "    if fname is given, saves the plot as a pdf to ../figures/\"\"\"\n",
    "    exp_var1,exp_var2=model.explained_variance_ratio_\n",
    "    signatures_pca=pd.DataFrame(model.transform(signatures),index=signatures.index,\n",
    "                                columns=['PC1','PC2'])\n",
    "    sig_info[]\n",
    "    f, ax = plt.subplots()\n",
    "    if color_by=='viability':\n",
    "        cmap = sns.cubehelix_palette(8, start=.5, rot=-.75,as_cmap=True)\n",
    "        points = ax.scatter(signatures_pca['PC1'],signatures_pca['PC2'], \n",
    "                            c=sig_info['cpd_avg_pv'], s=50, cmap=cmap,marker='.')\n",
    "        f.colorbar(points,label='Cell viability')\n",
    "        print('Cell viaiblity - PC1 Spearman Rho:',scor(sig_info['cpd_avg_pv'],signatures_pca['PC1']))\n",
    "        print('Cell viaiblity - PC2 Spearman Rho:',scor(sig_info['cpd_avg_pv'],signatures_pca['PC2']))\n",
    "    \n",
    "    \n",
    "    plt.xlabel('PC1\\nexplained variance ratio: %s' % round(exp_var1,3))\n",
    "    plt.ylabel('PC2\\nexplained variance ratio: %s' % round(exp_var2,3))\n",
    "    "
   ]
  }
 ],
 "metadata": {
  "kernelspec": {
   "display_name": "Python 3",
   "language": "python",
   "name": "python3"
  },
  "language_info": {
   "codemirror_mode": {
    "name": "ipython",
    "version": 3
   },
   "file_extension": ".py",
   "mimetype": "text/x-python",
   "name": "python",
   "nbconvert_exporter": "python",
   "pygments_lexer": "ipython3",
   "version": "3.5.2"
  }
 },
 "nbformat": 4,
 "nbformat_minor": 2
}
