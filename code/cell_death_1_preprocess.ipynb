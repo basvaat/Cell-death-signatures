{
 "cells": [
  {
   "cell_type": "code",
   "execution_count": 75,
   "metadata": {
    "collapsed": false,
    "deletable": true,
    "editable": true
   },
   "outputs": [],
   "source": [
    "import pandas as pd\n",
    "import numpy as np\n",
    "from cmapPy.pandasGEXpress.parse import parse"
   ]
  },
  {
   "cell_type": "markdown",
   "metadata": {
    "collapsed": true,
    "deletable": true,
    "editable": true
   },
   "source": [
    "## At first we should get cell viabilities from CTRP data."
   ]
  },
  {
   "cell_type": "code",
   "execution_count": 76,
   "metadata": {
    "collapsed": true,
    "deletable": true,
    "editable": true
   },
   "outputs": [],
   "source": [
    "# read raw CTRP cell viability data\n",
    "ctrp_raw=pd.read_table('../data/CTRP/v20.data.per_cpd_post_qc.txt',\n",
    "                       sep='\\t',header=0,index_col=None)\n",
    "#read CTRP metadata\n",
    "cell_info=pd.read_table('../data/CTRP/v20.meta.per_cell_line.txt',\n",
    "                        sep='\\t',header=0,index_col=None)\n",
    "compound_info=pd.read_table('../data/CTRP/v20.meta.per_compound.txt',\n",
    "                            sep='\\t',header=0,index_col=None)\n",
    "experiment_info=pd.read_table('../data/CTRP/v20.meta.per_experiment.txt',\n",
    "                              sep='\\t',header=0,index_col=None)"
   ]
  },
  {
   "cell_type": "code",
   "execution_count": 77,
   "metadata": {
    "collapsed": false,
    "deletable": true,
    "editable": true
   },
   "outputs": [
    {
     "name": "stdout",
     "output_type": "stream",
     "text": [
      "Preprocessing.......\n",
      "Done!\n"
     ]
    }
   ],
   "source": [
    "#using information from metadata we prepocess CTRP data\n",
    "#to have usable format to match with LINCS\n",
    "ctrp_proc=ctrp_raw.loc[:,['experiment_id','master_cpd_id',\n",
    "                          'cpd_conc_umol','cpd_avg_pv']].copy()\n",
    "print('Preprocessing',end='')\n",
    "experiment_info=experiment_info.drop_duplicates(['experiment_id',\n",
    "                                                 'master_ccl_id'])\n",
    "print('.',end='')\n",
    "experiment_info.index=experiment_info['experiment_id']\n",
    "print('.',end='')\n",
    "ctrp_proc['master_ccl_id']=experiment_info.loc[ctrp_proc['experiment_id'].values,\n",
    "                                               'master_ccl_id'].values\n",
    "print('.',end='')\n",
    "cell_info.index=cell_info['master_ccl_id']\n",
    "print('.',end='')\n",
    "ctrp_proc['ccl_name']=cell_info.loc[ctrp_proc['master_ccl_id'].values,\n",
    "                                    'ccl_name'].values\n",
    "print('.',end='')\n",
    "compound_info.index=compound_info['master_cpd_id']\n",
    "print('.',end='')\n",
    "ctrp_proc['broad_cpd_id']=compound_info.loc[ctrp_proc['master_cpd_id'].values,\n",
    "                                            'broad_cpd_id'].values\n",
    "print('.')\n",
    "ctrp_proc=ctrp_proc.loc[:,['ccl_name','broad_cpd_id',\n",
    "                           'cpd_conc_umol','cpd_avg_pv']]\n",
    "print('Done!')"
   ]
  },
  {
   "cell_type": "markdown",
   "metadata": {
    "deletable": true,
    "editable": true
   },
   "source": [
    "Now we have a dataframe with Cell lines, Compound IDs, Compound concentrations and Cell viabilities as columns"
   ]
  },
  {
   "cell_type": "code",
   "execution_count": 78,
   "metadata": {
    "collapsed": false,
    "deletable": true,
    "editable": true
   },
   "outputs": [
    {
     "name": "stdout",
     "output_type": "stream",
     "text": [
      "  ccl_name   broad_cpd_id  cpd_conc_umol  cpd_avg_pv\n",
      "0     CAS1  BRD-K46556387        0.00030      0.9303\n",
      "1     CAS1  BRD-K46556387        0.00061      0.8337\n",
      "2     CAS1  BRD-K46556387        0.00120      1.0460\n",
      "3     CAS1  BRD-K46556387        0.00240      1.0910\n",
      "4     CAS1  BRD-K46556387        0.00490      1.0190\n",
      "Shape: (6171005, 4)\n"
     ]
    }
   ],
   "source": [
    "print(ctrp_proc.head())\n",
    "print('Shape:',ctrp_proc.shape)"
   ]
  },
  {
   "cell_type": "markdown",
   "metadata": {
    "deletable": true,
    "editable": true
   },
   "source": [
    "Now we can read some  metadata, to select the intersection (same cell line, compound) between LINCS-L1000 and CTRP."
   ]
  },
  {
   "cell_type": "code",
   "execution_count": 79,
   "metadata": {
    "collapsed": false,
    "deletable": true,
    "editable": true
   },
   "outputs": [],
   "source": [
    "#cell line metadata is same for gse92742 and gse70138\n",
    "gse92742_cell=pd.read_table('../data/LINCS/GSE70138/GSE92742_Broad_LINCS_cell_info.txt',\n",
    "                            sep='\\t',header=0,index_col=None) \n",
    "lincs_cells=list(set(gse92742_cell['cell_id']))\n",
    "gse92742_comp=pd.read_table('../data/LINCS/GSE92742/GSE92742_Broad_LINCS_pert_info.txt',\n",
    "                            sep='\\t',header=0,index_col=None)\n",
    "gse70138_comp=pd.read_table('../data/LINCS/GSE70138/GSE70138_Broad_LINCS_pert_info.txt',\n",
    "                            sep='\\t',header=0,index_col=None)\n",
    "lincs_compounds=list(set(gse92742_comp['pert_id'])|set(gse70138_comp['pert_id']))"
   ]
  },
  {
   "cell_type": "code",
   "execution_count": 80,
   "metadata": {
    "collapsed": false,
    "deletable": true,
    "editable": true
   },
   "outputs": [
    {
     "name": "stdout",
     "output_type": "stream",
     "text": [
      "Shape: (238005, 4)\n"
     ]
    }
   ],
   "source": [
    "#we select data from ctrp with lincs cell lines and compounds\n",
    "fil=np.in1d(ctrp_proc['ccl_name'],lincs_cells)&np.in1d(ctrp_proc['broad_cpd_id'],lincs_compounds)\n",
    "ctrp_proc=ctrp_proc[fil]\n",
    "print('Shape:',ctrp_proc.shape)"
   ]
  },
  {
   "cell_type": "markdown",
   "metadata": {
    "deletable": true,
    "editable": true
   },
   "source": [
    "For duplicated entries in CTRP (same cell line, same drug, same concentraion) we calculate and keep average cell viability (of course, being duplicated for floats like concentrations is a bit complicated, but here we want only to remove real duplicated elements). "
   ]
  },
  {
   "cell_type": "code",
   "execution_count": 81,
   "metadata": {
    "collapsed": false,
    "deletable": true,
    "editable": true
   },
   "outputs": [
    {
     "name": "stdout",
     "output_type": "stream",
     "text": [
      "Shape: (221306, 4)\n"
     ]
    }
   ],
   "source": [
    "ctrp_proc=ctrp_proc.groupby(['ccl_name','broad_cpd_id','cpd_conc_umol']).mean()\n",
    "ctrp_proc.reset_index(inplace=True)\n",
    "print('Shape:',ctrp_proc.shape)\n",
    "ctrp_proc.to_csv('../results/CTRP/cell_viability_ctrp.csv',sep=',')"
   ]
  },
  {
   "cell_type": "markdown",
   "metadata": {},
   "source": [
    "## Now we can match CTRP and LINCS-L1000\n",
    "We will match CTRP and LINCS-L1000 instances based on cell line, drug and concentration. As the concentrations in CTRP and LINCS-L1000 are not the same, we will accept match LINCS-L1000 with the CTRP instance with the closest concentration (and same cell line and drug), as far as the absolute log10 concentration difference is smaller than 0.2 (~1.5 fold concetration difference)."
   ]
  },
  {
   "cell_type": "code",
   "execution_count": 88,
   "metadata": {
    "collapsed": false
   },
   "outputs": [],
   "source": [
    "ctrp=pd.read_table('../results/CTRP/cell_viability_ctrp.csv',sep=',',\n",
    "                       header=0,index_col=[0])\n",
    "ctrp['log10_cpd_conc_umol']=np.log10(ctrp['cpd_conc_umol'])\n",
    "cell_lines=list(set(ctrp['ccl_name']))\n",
    "compounds=list(set(ctrp['broad_cpd_id']))\n",
    "#read lincs metadata\n",
    "sig_info_gse92742=pd.read_table('../data/LINCS/GSE92742/GSE92742_Broad_LINCS_sig_info.txt',\n",
    "                                sep='\\t',header=0,index_col=None,low_memory=False)\n",
    "sig_info_gse70138=pd.read_table('../data/LINCS/GSE70138/GSE70138_Broad_LINCS_sig_info.txt',\n",
    "                                sep='\\t',header=0,index_col=None,low_memory=False)"
   ]
  },
  {
   "cell_type": "code",
   "execution_count": 90,
   "metadata": {
    "collapsed": true
   },
   "outputs": [],
   "source": [
    "#filter for cell line and compound intersection with ctrp\n",
    "fil=np.in1d(sig_info_gse92742['pert_id'],compounds) & np.in1d(sig_info_gse92742['cell_id'],cell_lines)\n",
    "sig_info_gse92742=sig_info_gse92742[fil]    \n",
    "fil=np.in1d(sig_info_gse70138['pert_id'],compounds) & np.in1d(sig_info_gse70138['cell_id'],cell_lines)    \n",
    "sig_info_gse70138=sig_info_gse70138[fil]"
   ]
  }
 ],
 "metadata": {
  "kernelspec": {
   "display_name": "Python 3",
   "language": "python",
   "name": "python3"
  },
  "language_info": {
   "codemirror_mode": {
    "name": "ipython",
    "version": 3
   },
   "file_extension": ".py",
   "mimetype": "text/x-python",
   "name": "python",
   "nbconvert_exporter": "python",
   "pygments_lexer": "ipython3",
   "version": "3.5.2"
  }
 },
 "nbformat": 4,
 "nbformat_minor": 2
}
