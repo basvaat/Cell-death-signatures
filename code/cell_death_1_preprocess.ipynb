{
 "cells": [
  {
   "cell_type": "code",
   "execution_count": 33,
   "metadata": {
    "collapsed": false,
    "deletable": true,
    "editable": true
   },
   "outputs": [],
   "source": [
    "import pandas as pd\n",
    "import numpy as np\n",
    "from cmapPy.pandasGEXpress.parse import parse\n",
    "from scipy.stats import spearmanr as scor"
   ]
  },
  {
   "cell_type": "markdown",
   "metadata": {
    "collapsed": true,
    "deletable": true,
    "editable": true
   },
   "source": [
    "## At first we should get cell viabilities from CTRP data."
   ]
  },
  {
   "cell_type": "code",
   "execution_count": 76,
   "metadata": {
    "collapsed": true,
    "deletable": true,
    "editable": true
   },
   "outputs": [],
   "source": [
    "# read raw CTRP cell viability data\n",
    "ctrp_raw=pd.read_table('../data/CTRP/v20.data.per_cpd_post_qc.txt',\n",
    "                       sep='\\t',header=0,index_col=None)\n",
    "#read CTRP metadata\n",
    "cell_info=pd.read_table('../data/CTRP/v20.meta.per_cell_line.txt',\n",
    "                        sep='\\t',header=0,index_col=None)\n",
    "compound_info=pd.read_table('../data/CTRP/v20.meta.per_compound.txt',\n",
    "                            sep='\\t',header=0,index_col=None)\n",
    "experiment_info=pd.read_table('../data/CTRP/v20.meta.per_experiment.txt',\n",
    "                              sep='\\t',header=0,index_col=None)"
   ]
  },
  {
   "cell_type": "code",
   "execution_count": 77,
   "metadata": {
    "collapsed": false,
    "deletable": true,
    "editable": true
   },
   "outputs": [
    {
     "name": "stdout",
     "output_type": "stream",
     "text": [
      "Preprocessing.......\n",
      "Done!\n"
     ]
    }
   ],
   "source": [
    "#using information from metadata we prepocess CTRP data\n",
    "#to have usable format to match with LINCS\n",
    "ctrp_proc=ctrp_raw.loc[:,['experiment_id','master_cpd_id',\n",
    "                          'cpd_conc_umol','cpd_avg_pv']].copy()\n",
    "print('Preprocessing',end='')\n",
    "experiment_info=experiment_info.drop_duplicates(['experiment_id',\n",
    "                                                 'master_ccl_id'])\n",
    "print('.',end='')\n",
    "experiment_info.index=experiment_info['experiment_id']\n",
    "print('.',end='')\n",
    "ctrp_proc['master_ccl_id']=experiment_info.loc[ctrp_proc['experiment_id'].values,\n",
    "                                               'master_ccl_id'].values\n",
    "print('.',end='')\n",
    "cell_info.index=cell_info['master_ccl_id']\n",
    "print('.',end='')\n",
    "ctrp_proc['ccl_name']=cell_info.loc[ctrp_proc['master_ccl_id'].values,\n",
    "                                    'ccl_name'].values\n",
    "print('.',end='')\n",
    "compound_info.index=compound_info['master_cpd_id']\n",
    "print('.',end='')\n",
    "ctrp_proc['broad_cpd_id']=compound_info.loc[ctrp_proc['master_cpd_id'].values,\n",
    "                                            'broad_cpd_id'].values\n",
    "print('.')\n",
    "ctrp_proc=ctrp_proc.loc[:,['ccl_name','broad_cpd_id',\n",
    "                           'cpd_conc_umol','cpd_avg_pv']]\n",
    "print('Done!')"
   ]
  },
  {
   "cell_type": "markdown",
   "metadata": {
    "deletable": true,
    "editable": true
   },
   "source": [
    "Now we have a dataframe with Cell lines, Compound IDs, Compound concentrations and Cell viabilities as columns"
   ]
  },
  {
   "cell_type": "code",
   "execution_count": 78,
   "metadata": {
    "collapsed": false,
    "deletable": true,
    "editable": true
   },
   "outputs": [
    {
     "name": "stdout",
     "output_type": "stream",
     "text": [
      "  ccl_name   broad_cpd_id  cpd_conc_umol  cpd_avg_pv\n",
      "0     CAS1  BRD-K46556387        0.00030      0.9303\n",
      "1     CAS1  BRD-K46556387        0.00061      0.8337\n",
      "2     CAS1  BRD-K46556387        0.00120      1.0460\n",
      "3     CAS1  BRD-K46556387        0.00240      1.0910\n",
      "4     CAS1  BRD-K46556387        0.00490      1.0190\n",
      "Shape: (6171005, 4)\n"
     ]
    }
   ],
   "source": [
    "print(ctrp_proc.head())\n",
    "print('Shape:',ctrp_proc.shape)"
   ]
  },
  {
   "cell_type": "markdown",
   "metadata": {
    "deletable": true,
    "editable": true
   },
   "source": [
    "Now we can read some  metadata, to select the intersection (same cell line, compound) between LINCS-L1000 and CTRP."
   ]
  },
  {
   "cell_type": "code",
   "execution_count": 79,
   "metadata": {
    "collapsed": false,
    "deletable": true,
    "editable": true
   },
   "outputs": [],
   "source": [
    "#cell line metadata is same for gse92742 and gse70138\n",
    "gse92742_cell=pd.read_table('../data/LINCS/GSE70138/GSE92742_Broad_LINCS_cell_info.txt',\n",
    "                            sep='\\t',header=0,index_col=None) \n",
    "lincs_cells=list(set(gse92742_cell['cell_id']))\n",
    "gse92742_comp=pd.read_table('../data/LINCS/GSE92742/GSE92742_Broad_LINCS_pert_info.txt',\n",
    "                            sep='\\t',header=0,index_col=None)\n",
    "gse70138_comp=pd.read_table('../data/LINCS/GSE70138/GSE70138_Broad_LINCS_pert_info.txt',\n",
    "                            sep='\\t',header=0,index_col=None)\n",
    "lincs_compounds=list(set(gse92742_comp['pert_id'])|set(gse70138_comp['pert_id']))"
   ]
  },
  {
   "cell_type": "code",
   "execution_count": 80,
   "metadata": {
    "collapsed": false,
    "deletable": true,
    "editable": true
   },
   "outputs": [
    {
     "name": "stdout",
     "output_type": "stream",
     "text": [
      "Shape: (238005, 4)\n"
     ]
    }
   ],
   "source": [
    "#we select data from ctrp with lincs cell lines and compounds\n",
    "fil=np.in1d(ctrp_proc['ccl_name'],lincs_cells)&np.in1d(ctrp_proc['broad_cpd_id'],lincs_compounds)\n",
    "ctrp_proc=ctrp_proc[fil]\n",
    "print('Shape:',ctrp_proc.shape)"
   ]
  },
  {
   "cell_type": "markdown",
   "metadata": {
    "deletable": true,
    "editable": true
   },
   "source": [
    "For duplicated entries in CTRP (same cell line, same drug, same concentraion) we calculate and keep average cell viability (of course, being duplicated for floats like concentrations is a bit complicated, but here we want only to remove real duplicated elements). "
   ]
  },
  {
   "cell_type": "code",
   "execution_count": 81,
   "metadata": {
    "collapsed": false,
    "deletable": true,
    "editable": true
   },
   "outputs": [
    {
     "name": "stdout",
     "output_type": "stream",
     "text": [
      "Shape: (221306, 4)\n"
     ]
    }
   ],
   "source": [
    "ctrp_proc=ctrp_proc.groupby(['ccl_name','broad_cpd_id','cpd_conc_umol']).mean()\n",
    "ctrp_proc.reset_index(inplace=True)\n",
    "print('Shape:',ctrp_proc.shape)\n",
    "ctrp_proc.to_csv('../results/CTRP/cell_viability_ctrp.csv',sep=',')"
   ]
  },
  {
   "cell_type": "markdown",
   "metadata": {
    "deletable": true,
    "editable": true
   },
   "source": [
    "## Now we can match CTRP and LINCS-L1000\n",
    "We will match CTRP and LINCS-L1000 instances based on cell line, drug and concentration. As the concentrations in CTRP and LINCS-L1000 are not the same, we will accept match LINCS-L1000 with the CTRP instance with the closest concentration (and same cell line and drug), as far as the absolute log10 concentration difference is smaller than 0.2 (~1.5 fold concetration difference)."
   ]
  },
  {
   "cell_type": "code",
   "execution_count": 131,
   "metadata": {
    "collapsed": true,
    "deletable": true,
    "editable": true
   },
   "outputs": [],
   "source": [
    "def get_closest_cc_ctrp(l1000):\n",
    "    \"\"\"Selects the closest concentration instance from CTRP\n",
    "    for a given L1000 instance, uses ctrp global variable CTRP\"\"\"\n",
    "    fil=(CTRP['broad_cpd_id']==l1000['pert_id']) & (CTRP['ccl_name']==l1000['cell_id'])\n",
    "    if np.sum(fil)>0:\n",
    "        ctrp_temp=CTRP[fil].copy()\n",
    "        ctrp_temp['delta_cc']=np.abs(ctrp_temp['log10_cpd_conc_umol']-l1000['log10_pert_dose'])\n",
    "        j=ctrp_temp.sort_values('delta_cc').index[0]\n",
    "        return ctrp_temp.loc[j,['cpd_avg_pv','log10_cpd_conc_umol']]\n",
    "    else:\n",
    "        return np.nan"
   ]
  },
  {
   "cell_type": "code",
   "execution_count": 132,
   "metadata": {
    "collapsed": false,
    "deletable": true,
    "editable": true
   },
   "outputs": [
    {
     "name": "stdout",
     "output_type": "stream",
     "text": [
      "Shape GSE92742 sig_info: (473647, 12)\n",
      "Shape GSE70138 sig_info: (118050, 8)\n"
     ]
    }
   ],
   "source": [
    "# just read data\n",
    "CTRP=pd.read_table('../results/CTRP/cell_viability_ctrp.csv',sep=',',\n",
    "                       header=0,index_col=[0])\n",
    "CTRP['log10_cpd_conc_umol']=np.log10(CTRP['cpd_conc_umol'])\n",
    "cell_lines=list(set(CTRP['ccl_name']))\n",
    "compounds=list(set(CTRP['broad_cpd_id']))\n",
    "#read lincs metadata\n",
    "sig_info_gse92742=pd.read_table('../data/LINCS/GSE92742/GSE92742_Broad_LINCS_sig_info.txt',\n",
    "                                sep='\\t',header=0,index_col=None,low_memory=False)\n",
    "sig_info_gse70138=pd.read_table('../data/LINCS/GSE70138/GSE70138_Broad_LINCS_sig_info.txt',\n",
    "                                sep='\\t',header=0,index_col=None,low_memory=False)\n",
    "print('Shape GSE92742 sig_info:',sig_info_gse92742.shape)\n",
    "print('Shape GSE70138 sig_info:',sig_info_gse70138.shape)"
   ]
  },
  {
   "cell_type": "code",
   "execution_count": 133,
   "metadata": {
    "collapsed": false,
    "deletable": true,
    "editable": true
   },
   "outputs": [
    {
     "name": "stdout",
     "output_type": "stream",
     "text": [
      "Shape GSE92742 sig_info: (16010, 12)\n",
      "Shape GSE70138 sig_info: (12693, 8)\n"
     ]
    }
   ],
   "source": [
    "#filter for cell line and compound intersection with ctrp\n",
    "fil=np.in1d(sig_info_gse92742['pert_id'],compounds) & np.in1d(sig_info_gse92742['cell_id'],cell_lines)\n",
    "sig_info_gse92742=sig_info_gse92742[fil]    \n",
    "fil=np.in1d(sig_info_gse70138['pert_id'],compounds) & np.in1d(sig_info_gse70138['cell_id'],cell_lines)    \n",
    "sig_info_gse70138=sig_info_gse70138[fil]\n",
    "print('Shape GSE92742 sig_info:',sig_info_gse92742.shape)\n",
    "print('Shape GSE70138 sig_info:',sig_info_gse70138.shape)"
   ]
  },
  {
   "cell_type": "code",
   "execution_count": 134,
   "metadata": {
    "collapsed": false,
    "deletable": true,
    "editable": true
   },
   "outputs": [],
   "source": [
    "#for matching we use log10 concentration, we start with gse92742\n",
    "assert len(set(sig_info_gse92742['pert_dose_unit']))==1 #all doses are in uM\n",
    "sig_info_gse92742['pert_dose']=sig_info_gse92742['pert_dose'].astype(float)\n",
    "fil=sig_info_gse92742['pert_dose']!=0.0 #remove 0 concentration instances\n",
    "sig_info_gse92742=sig_info_gse92742[fil]\n",
    "sig_info_gse92742['log10_pert_dose']=np.log10(sig_info_gse92742['pert_dose'].astype(float))"
   ]
  },
  {
   "cell_type": "code",
   "execution_count": 142,
   "metadata": {
    "collapsed": false,
    "deletable": true,
    "editable": true
   },
   "outputs": [],
   "source": [
    "#takes some time\n",
    "sig_info_gse92742_nearest=sig_info_gse92742.apply(get_closest_cc_ctrp,axis=1)\n",
    "sig_info_gse92742=pd.concat([sig_info_gse92742,sig_info_gse92742_nearest],1)\n",
    "fil=~pd.isnull(sig_info_gse92742['cpd_avg_pv'])\n",
    "sig_info_gse92742=sig_info_gse92742[fil]\n",
    "sig_info_gse92742.to_csv('../results/CTRP/sig_info_gse92742_viab.csv')"
   ]
  },
  {
   "cell_type": "code",
   "execution_count": 160,
   "metadata": {
    "collapsed": false,
    "deletable": true,
    "editable": true
   },
   "outputs": [],
   "source": [
    "#let's do this with gse70138, gse70138 does not have pert_dose and pert_dose unit\n",
    "#only pert_idose, which is a string like '10.0 um'\n",
    "sig_info_gse70138['pert_dose']=sig_info_gse70138['pert_idose'].apply(lambda x:float(x.split()[0]))\n",
    "sig_info_gse70138['pert_dose_unit']=sig_info_gse70138['pert_idose'].apply(lambda x:x.split()[1])\n",
    "assert len(set(sig_info_gse92742['pert_dose_unit']))==1 #all doses are in um\n",
    "#remove 0 and log transform\n",
    "fil=sig_info_gse70138['pert_dose']!=0.0 #remove 0 concentration instances\n",
    "sig_info_gse70138=sig_info_gse70138[fil]\n",
    "sig_info_gse70138['log10_pert_dose']=np.log10(sig_info_gse70138['pert_dose'].astype(float))"
   ]
  },
  {
   "cell_type": "code",
   "execution_count": 162,
   "metadata": {
    "collapsed": false,
    "deletable": true,
    "editable": true
   },
   "outputs": [],
   "source": [
    "#takes some time\n",
    "sig_info_gse70138_nearest=sig_info_gse70138.apply(get_closest_cc_ctrp,axis=1)\n",
    "sig_info_gse70138=pd.concat([sig_info_gse70138,sig_info_gse70138_nearest],1)\n",
    "fil=~pd.isnull(sig_info_gse70138['cpd_avg_pv'])\n",
    "sig_info_gse70138=sig_info_gse70138[fil]\n",
    "sig_info_gse70138.to_csv('../results/CTRP/sig_info_gse70138_viab.csv')"
   ]
  },
  {
   "cell_type": "markdown",
   "metadata": {
    "deletable": true,
    "editable": true
   },
   "source": [
    "Now we can read the corresponding gene expression signatures. We will only work with the actual measured (landmark) genes. If you are interested for the infered genes also (bing), you can selecte the genes with *pr_is_bing* (marked with comment). "
   ]
  },
  {
   "cell_type": "code",
   "execution_count": 4,
   "metadata": {
    "collapsed": false,
    "deletable": true,
    "editable": true
   },
   "outputs": [],
   "source": [
    "#also takes some time\n",
    "sig_info_gse92742=pd.read_table('../results/CTRP/sig_info_gse92742_viab.csv',\n",
    "                                sep=',',header=0,index_col=[0])\n",
    "sig_info_gse70138=pd.read_table('../results/CTRP/sig_info_gse70138_viab.csv',\n",
    "                                sep=',',header=0,index_col=[0])\n",
    "sig_ids_gse70138=list(sig_info_gse70138['sig_id'])\n",
    "sig_ids_gse92742=list(sig_info_gse92742['sig_id'])\n",
    "gene_info=pd.read_table('../data/LINCS/GSE92742/GSE92742_Broad_LINCS_gene_info.txt',sep='\\t')\n",
    "fil=gene_info['pr_is_lm']==1 # change the columns name to pr_is_bing if you are interested for all genes\n",
    "gene_ids = list(gene_info.loc[gene_info.index[fil],'pr_gene_id'].astype(str))\n",
    "signatures_gse92742=parse('../data/LINCS/GSE92742/GSE92742_Broad_LINCS_Level5_COMPZ.MODZ_n473647x12328.gctx', \n",
    "                          cid=sig_ids_gse92742,rid=gene_ids)\n",
    "signatures_gse92742=signatures_gse92742.data_df.T\n",
    "signatures_gse70138=parse('../data/LINCS/GSE70138/GSE70138_Broad_LINCS_Level5_COMPZ_n118050x12328.gctx',\n",
    "                          cid=sig_ids_gse70138,rid=gene_ids)\n",
    "signatures_gse70138=signatures_gse70138.data_df.T\n",
    "signatures_gse70138.to_csv('../results/CTRP/signatures_gse70138_lm.csv',sep=',')\n",
    "signatures_gse92742.to_csv('../results/CTRP/signatures_gse92742_lm.csv',sep=',')"
   ]
  },
  {
   "cell_type": "markdown",
   "metadata": {
    "deletable": true,
    "editable": true
   },
   "source": [
    "Finally, we can merge our data regarding GSE70138 and GSE92742, and we are ready with the CTRP preprocessing step."
   ]
  },
  {
   "cell_type": "code",
   "execution_count": 23,
   "metadata": {
    "collapsed": false,
    "deletable": true,
    "editable": true
   },
   "outputs": [],
   "source": [
    "#merge sig info files\n",
    "sig_info_gse92742=pd.read_table('../results/CTRP/sig_info_gse92742_viab.csv',\n",
    "                                sep=',',header=0,index_col=[0])\n",
    "sig_info_gse70138=pd.read_table('../results/CTRP/sig_info_gse70138_viab.csv',\n",
    "                                sep=',',header=0,index_col=[0])\n",
    "\n",
    "sig_info_gse92742.index=sig_info_gse92742['sig_id']\n",
    "sig_info_gse92742=sig_info_gse92742.loc[:,['pert_id','cell_id','pert_iname',\n",
    "                                            'log10_pert_dose','pert_itime',\n",
    "                                           'log10_cpd_conc_umol','cpd_avg_pv']]\n",
    "fil=np.abs(sig_info_gse92742['log10_pert_dose']-sig_info_gse92742['log10_cpd_conc_umol'])<0.2\n",
    "sig_info_gse92742=sig_info_gse92742[fil]\n",
    "    \n",
    "sig_info_gse70138.index=sig_info_gse70138['sig_id']\n",
    "sig_info_gse70138=sig_info_gse70138.loc[:,['pert_id','cell_id','pert_iname',\n",
    "                                           'log10_pert_dose','pert_itime',\n",
    "                                           'log10_cpd_conc_umol','cpd_avg_pv']]\n",
    "fil=np.abs(sig_info_gse70138['log10_pert_dose']-sig_info_gse70138['log10_cpd_conc_umol'])<0.2\n",
    "sig_info_gse70138=sig_info_gse70138[fil]\n",
    "\n",
    "sig_info_l1000_ctrp=pd.concat([sig_info_gse92742,sig_info_gse70138],0)"
   ]
  },
  {
   "cell_type": "code",
   "execution_count": 24,
   "metadata": {
    "collapsed": true
   },
   "outputs": [],
   "source": [
    "#merge signature files\n",
    "signatures_gse92742=pd.read_table('../results/CTRP/signatures_gse92742_lm.csv',\n",
    "                                  sep=',',header=0,index_col=[0])\n",
    "signatures_gse70138=pd.read_table('../results/CTRP/signatures_gse70138_lm.csv',\n",
    "                                  sep=',',header=0,index_col=[0])\n",
    "#be sure that genes are in the same order in the two signature files\n",
    "signatures_gse70138=signatures_gse70138.loc[:,signatures_gse92742.columns]\n",
    "\n",
    "signatures_l1000_ctrp=pd.concat([signatures_gse92742,signatures_gse70138],0)\n",
    "#be sure that experiments are in the same order than in the sig_info file\n",
    "signatures_l1000_ctrp=signatures_l1000_ctrp.loc[sig_info_l1000_ctrp.index,:]"
   ]
  },
  {
   "cell_type": "code",
   "execution_count": 68,
   "metadata": {
    "collapsed": true
   },
   "outputs": [],
   "source": [
    "# we will merge duplicate entires of signatures using the MODZ method \n",
    "# describen in the original CMAP/L1000 study\n",
    "def calc_MODZ(data):\n",
    "    \"\"\"calculates MODZ based on the original CMAP/L1000 study\n",
    "    use only lm genes for MODZ calculation!\"\"\"\n",
    "    CM=scor(data.T)[0]\n",
    "    fil=CM<0\n",
    "    CM[fil]=0.01\n",
    "    weights=np.sum(CM,1)-1\n",
    "    weights=weights/np.sum(weights)\n",
    "    weights=weights.reshape((-1,1))\n",
    "    return weights"
   ]
  },
  {
   "cell_type": "code",
   "execution_count": 81,
   "metadata": {
    "collapsed": false
   },
   "outputs": [
    {
     "name": "stdout",
     "output_type": "stream",
     "text": [
      "1000\n"
     ]
    }
   ],
   "source": [
    "#we use only landmark genes for MODZ calculation\n",
    "gene_info=pd.read_table('../data/LINCS/GSE92742/GSE92742_Broad_LINCS_gene_info.txt',sep='\\t')\n",
    "fil=gene_info['pr_is_lm']==1\n",
    "gene_ids = list(gene_info.loc[gene_info.index[fil],'pr_gene_id'].astype(str))\n",
    "\n",
    "duplicated_indexes=list(set(sig_info_l1000_ctrp.index)-\\\n",
    "                        set(sig_info_l1000_ctrp.drop_duplicates(['pert_id','cell_id',\n",
    "                                                                 'log10_pert_dose','pert_itime'],keep=False).index)) \n",
    "non_duplicated_indexes=list(set(sig_info_l1000_ctrp.index)-set(duplicated_indexes))\n",
    "sig_info_duplicated=sig_info_l1000_ctrp.loc[duplicated_indexes,:]\n",
    "sig_info_final=sig_info_l1000_ctrp.loc[non_duplicated_indexes,:]\n",
    "signatures_duplicated=signatures_l1000_ctrp.loc[duplicated_indexes,:]\n",
    "signatures_final=signatures_l1000_ctrp.loc[non_duplicated_indexes,:]\n",
    "print('Merging duplicated signatures',end='')\n",
    "while len(duplicated_indexes)>0:\n",
    "    if len(duplicated_indexes)%1000==0:\n",
    "        print('.',end='')\n",
    "    i=duplicated_indexes[0]\n",
    "    pert_id,cell_id,pert_dose,pert_itime=sig_info_duplicated.loc[i,['pert_id','cell_id',\n",
    "                                                                    'log10_pert_dose','pert_itime']]\n",
    "    fil=(sig_info_duplicated['pert_id']==pert_id) &\\\n",
    "        (sig_info_duplicated['cell_id']==cell_id) &\\\n",
    "        (sig_info_duplicated['log10_pert_dose']==pert_dose) &\\\n",
    "        (sig_info_duplicated['pert_itime']==pert_itime)\n",
    "    indexes=sig_info_duplicated.index[fil]\n",
    "    sig_info_final.loc[i]=sig_info_duplicated.loc[i]\n",
    "    if len(indexes)>2:\n",
    "        weights=calc_MODZ(signatures_duplicated.loc[indexes,gene_ids])\n",
    "        signature=np.dot(signatures_duplicated.loc[indexes].T,weights)\n",
    "        signature=signature.reshape((1,-1))[0]\n",
    "    else:\n",
    "        signature=np.mean(signatures_duplicated.loc[indexes],0).values\n",
    "    signatures_final.loc[i,:]=signature\n",
    "    duplicated_indexes=list(set(duplicated_indexes)-set(indexes))"
   ]
  },
  {
   "cell_type": "code",
   "execution_count": null,
   "metadata": {
    "collapsed": true
   },
   "outputs": [],
   "source": []
  }
 ],
 "metadata": {
  "kernelspec": {
   "display_name": "Python 3",
   "language": "python",
   "name": "python3"
  },
  "language_info": {
   "codemirror_mode": {
    "name": "ipython",
    "version": 3
   },
   "file_extension": ".py",
   "mimetype": "text/x-python",
   "name": "python",
   "nbconvert_exporter": "python",
   "pygments_lexer": "ipython3",
   "version": "3.5.2"
  }
 },
 "nbformat": 4,
 "nbformat_minor": 2
}
