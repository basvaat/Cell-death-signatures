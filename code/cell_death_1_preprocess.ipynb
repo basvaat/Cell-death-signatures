{
 "cells": [
  {
   "cell_type": "code",
   "execution_count": 4,
   "metadata": {
    "collapsed": false,
    "deletable": true,
    "editable": true
   },
   "outputs": [],
   "source": [
    "import pandas as pd\n",
    "import numpy as np\n",
    "from cmapPy.pandasGEXpress.parse import parse\n",
    "from scipy.stats import spearmanr as scor"
   ]
  },
  {
   "cell_type": "markdown",
   "metadata": {
    "collapsed": true,
    "deletable": true,
    "editable": true
   },
   "source": [
    "## At first we should get cell viabilities from CTRP data."
   ]
  },
  {
   "cell_type": "code",
   "execution_count": 2,
   "metadata": {
    "collapsed": true,
    "deletable": true,
    "editable": true
   },
   "outputs": [],
   "source": [
    "# read raw CTRP cell viability data\n",
    "ctrp_raw=pd.read_table('../data/CTRP/v20.data.per_cpd_post_qc.txt',\n",
    "                       sep='\\t',header=0,index_col=None)\n",
    "#read CTRP metadata\n",
    "cell_info=pd.read_table('../data/CTRP/v20.meta.per_cell_line.txt',\n",
    "                        sep='\\t',header=0,index_col=None)\n",
    "compound_info=pd.read_table('../data/CTRP/v20.meta.per_compound.txt',\n",
    "                            sep='\\t',header=0,index_col=None)\n",
    "experiment_info=pd.read_table('../data/CTRP/v20.meta.per_experiment.txt',\n",
    "                              sep='\\t',header=0,index_col=None)"
   ]
  },
  {
   "cell_type": "code",
   "execution_count": 54,
   "metadata": {
    "collapsed": false,
    "deletable": true,
    "editable": true
   },
   "outputs": [
    {
     "name": "stdout",
     "output_type": "stream",
     "text": [
      "Preprocessing CTRP.......\n",
      "Done!\n"
     ]
    }
   ],
   "source": [
    "#using information from metadata we prepocess CTRP data\n",
    "#to have usable format to match with LINCS\n",
    "ctrp_proc=ctrp_raw.loc[:,['experiment_id','master_cpd_id',\n",
    "                          'cpd_conc_umol','cpd_avg_pv']].copy()\n",
    "print('Preprocessing CTRP',end='')\n",
    "experiment_info=experiment_info.drop_duplicates(['experiment_id',\n",
    "                                                 'master_ccl_id'])\n",
    "print('.',end='')\n",
    "experiment_info.index=experiment_info['experiment_id']\n",
    "print('.',end='')\n",
    "ctrp_proc['master_ccl_id']=experiment_info.loc[ctrp_proc['experiment_id'].values,\n",
    "                                               'master_ccl_id'].values\n",
    "print('.',end='')\n",
    "cell_info.index=cell_info['master_ccl_id']\n",
    "print('.',end='')\n",
    "ctrp_proc['ccl_name']=cell_info.loc[ctrp_proc['master_ccl_id'].values,\n",
    "                                    'ccl_name'].values\n",
    "print('.',end='')\n",
    "compound_info.index=compound_info['master_cpd_id']\n",
    "print('.',end='')\n",
    "ctrp_proc['broad_cpd_id']=compound_info.loc[ctrp_proc['master_cpd_id'].values,\n",
    "                                            'broad_cpd_id'].values\n",
    "print('.')\n",
    "ctrp_proc=ctrp_proc.loc[:,['ccl_name','broad_cpd_id',\n",
    "                           'cpd_conc_umol','cpd_avg_pv']]\n",
    "print('Done!')"
   ]
  },
  {
   "cell_type": "markdown",
   "metadata": {
    "deletable": true,
    "editable": true
   },
   "source": [
    "Now we have a dataframe with Cell lines, Compound IDs, Compound concentrations and Cell viabilities as columns"
   ]
  },
  {
   "cell_type": "code",
   "execution_count": 55,
   "metadata": {
    "collapsed": false,
    "deletable": true,
    "editable": true
   },
   "outputs": [
    {
     "name": "stdout",
     "output_type": "stream",
     "text": [
      "  ccl_name   broad_cpd_id  cpd_conc_umol  cpd_avg_pv\n",
      "0     CAS1  BRD-K46556387        0.00030      0.9303\n",
      "1     CAS1  BRD-K46556387        0.00061      0.8337\n",
      "2     CAS1  BRD-K46556387        0.00120      1.0460\n",
      "3     CAS1  BRD-K46556387        0.00240      1.0910\n",
      "4     CAS1  BRD-K46556387        0.00490      1.0190\n",
      "Shape: (6171005, 4)\n"
     ]
    }
   ],
   "source": [
    "print(ctrp_proc.head())\n",
    "print('Shape:',ctrp_proc.shape)"
   ]
  },
  {
   "cell_type": "markdown",
   "metadata": {
    "deletable": true,
    "editable": true
   },
   "source": [
    "Now we can read some  metadata, to select the intersection (same cell line, compound) between LINCS-L1000 and CTRP."
   ]
  },
  {
   "cell_type": "code",
   "execution_count": 56,
   "metadata": {
    "collapsed": false,
    "deletable": true,
    "editable": true
   },
   "outputs": [],
   "source": [
    "#cell line metadata is same for gse92742 and gse70138\n",
    "gse92742_cell=pd.read_table('../data/LINCS/GSE70138/GSE92742_Broad_LINCS_cell_info.txt',\n",
    "                            sep='\\t',header=0,index_col=None) \n",
    "lincs_cells=list(set(gse92742_cell['cell_id']))\n",
    "gse92742_comp=pd.read_table('../data/LINCS/GSE92742/GSE92742_Broad_LINCS_pert_info.txt',\n",
    "                            sep='\\t',header=0,index_col=None)\n",
    "gse70138_comp=pd.read_table('../data/LINCS/GSE70138/GSE70138_Broad_LINCS_pert_info.txt',\n",
    "                            sep='\\t',header=0,index_col=None)\n",
    "lincs_compounds=list(set(gse92742_comp['pert_id'])|set(gse70138_comp['pert_id']))"
   ]
  },
  {
   "cell_type": "code",
   "execution_count": 57,
   "metadata": {
    "collapsed": false,
    "deletable": true,
    "editable": true
   },
   "outputs": [
    {
     "name": "stdout",
     "output_type": "stream",
     "text": [
      "Shape: (238005, 4)\n"
     ]
    }
   ],
   "source": [
    "#we select data from ctrp with lincs cell lines and compounds\n",
    "fil=np.in1d(ctrp_proc['ccl_name'],lincs_cells)&np.in1d(ctrp_proc['broad_cpd_id'],lincs_compounds)\n",
    "ctrp_proc=ctrp_proc[fil]\n",
    "print('Shape:',ctrp_proc.shape)"
   ]
  },
  {
   "cell_type": "markdown",
   "metadata": {
    "deletable": true,
    "editable": true
   },
   "source": [
    "For duplicated entries in CTRP (same cell line, same drug, same concentraion) we calculate and keep average cell viability (of course, being duplicated for floats like concentrations is a bit complicated, but here we want only to remove real duplicated elements). "
   ]
  },
  {
   "cell_type": "code",
   "execution_count": 58,
   "metadata": {
    "collapsed": false,
    "deletable": true,
    "editable": true
   },
   "outputs": [
    {
     "name": "stdout",
     "output_type": "stream",
     "text": [
      "Shape: (221306, 4)\n"
     ]
    }
   ],
   "source": [
    "ctrp_proc=ctrp_proc.groupby(['ccl_name','broad_cpd_id','cpd_conc_umol']).mean()\n",
    "ctrp_proc.reset_index(inplace=True)\n",
    "print('Shape:',ctrp_proc.shape)\n",
    "ctrp_proc.to_csv('../results/CTRP/cell_viability_ctrp.csv',sep=',')"
   ]
  },
  {
   "cell_type": "markdown",
   "metadata": {
    "deletable": true,
    "editable": true
   },
   "source": [
    "## Now we can match CTRP and LINCS-L1000\n",
    "We will match CTRP and LINCS-L1000 instances based on cell line, drug and concentration. As the concentrations in CTRP and LINCS-L1000 are not the same, we will accept match LINCS-L1000 with the CTRP instance with the closest concentration (and same cell line and drug), as far as the absolute log10 concentration difference is smaller than 0.2 (~1.5 fold concetration difference)."
   ]
  },
  {
   "cell_type": "code",
   "execution_count": 59,
   "metadata": {
    "collapsed": true,
    "deletable": true,
    "editable": true
   },
   "outputs": [],
   "source": [
    "def get_closest_cc_ctrp(l1000):\n",
    "    \"\"\"Selects the closest concentration instance from CTRP\n",
    "    for a given L1000 instance, uses ctrp global variable CTRP\"\"\"\n",
    "    fil=(CTRP['broad_cpd_id']==l1000['pert_id']) & (CTRP['ccl_name']==l1000['cell_id'])\n",
    "    if np.sum(fil)>0:\n",
    "        ctrp_temp=CTRP[fil].copy()\n",
    "        ctrp_temp['delta_cc']=np.abs(ctrp_temp['log10_cpd_conc_umol']-l1000['log10_pert_dose'])\n",
    "        j=ctrp_temp.sort_values('delta_cc').index[0]\n",
    "        return ctrp_temp.loc[j,['cpd_avg_pv','log10_cpd_conc_umol']]\n",
    "    else:\n",
    "        return np.nan"
   ]
  },
  {
   "cell_type": "code",
   "execution_count": 60,
   "metadata": {
    "collapsed": false,
    "deletable": true,
    "editable": true
   },
   "outputs": [
    {
     "name": "stdout",
     "output_type": "stream",
     "text": [
      "Shape GSE92742 sig_info: (473647, 12)\n",
      "Shape GSE70138 sig_info: (118050, 8)\n"
     ]
    }
   ],
   "source": [
    "# just read data\n",
    "CTRP=pd.read_table('../results/CTRP/cell_viability_ctrp.csv',sep=',',\n",
    "                       header=0,index_col=[0])\n",
    "CTRP['log10_cpd_conc_umol']=np.log10(CTRP['cpd_conc_umol'])\n",
    "cell_lines=list(set(CTRP['ccl_name']))\n",
    "compounds=list(set(CTRP['broad_cpd_id']))\n",
    "#read lincs metadata\n",
    "sig_info_gse92742=pd.read_table('../data/LINCS/GSE92742/GSE92742_Broad_LINCS_sig_info.txt',\n",
    "                                sep='\\t',header=0,index_col=None,low_memory=False)\n",
    "sig_info_gse70138=pd.read_table('../data/LINCS/GSE70138/GSE70138_Broad_LINCS_sig_info.txt',\n",
    "                                sep='\\t',header=0,index_col=None,low_memory=False)\n",
    "print('Shape GSE92742 sig_info:',sig_info_gse92742.shape)\n",
    "print('Shape GSE70138 sig_info:',sig_info_gse70138.shape)"
   ]
  },
  {
   "cell_type": "code",
   "execution_count": 61,
   "metadata": {
    "collapsed": false,
    "deletable": true,
    "editable": true
   },
   "outputs": [
    {
     "name": "stdout",
     "output_type": "stream",
     "text": [
      "Shape GSE92742 sig_info: (16010, 12)\n",
      "Shape GSE70138 sig_info: (12693, 8)\n"
     ]
    }
   ],
   "source": [
    "#filter for cell line and compound intersection with ctrp\n",
    "fil=np.in1d(sig_info_gse92742['pert_id'],compounds) & np.in1d(sig_info_gse92742['cell_id'],cell_lines)\n",
    "sig_info_gse92742=sig_info_gse92742[fil]    \n",
    "fil=np.in1d(sig_info_gse70138['pert_id'],compounds) & np.in1d(sig_info_gse70138['cell_id'],cell_lines)    \n",
    "sig_info_gse70138=sig_info_gse70138[fil]\n",
    "print('Shape GSE92742 sig_info:',sig_info_gse92742.shape)\n",
    "print('Shape GSE70138 sig_info:',sig_info_gse70138.shape)"
   ]
  },
  {
   "cell_type": "code",
   "execution_count": 62,
   "metadata": {
    "collapsed": false,
    "deletable": true,
    "editable": true
   },
   "outputs": [],
   "source": [
    "#for matching we use log10 concentration, we start with gse92742\n",
    "assert len(set(sig_info_gse92742['pert_dose_unit']))==1 #all doses are in uM\n",
    "sig_info_gse92742['pert_dose']=sig_info_gse92742['pert_dose'].astype(float)\n",
    "fil=sig_info_gse92742['pert_dose']!=0.0 #remove 0 concentration instances\n",
    "sig_info_gse92742=sig_info_gse92742[fil]\n",
    "sig_info_gse92742['log10_pert_dose']=np.log10(sig_info_gse92742['pert_dose'].astype(float))"
   ]
  },
  {
   "cell_type": "code",
   "execution_count": 63,
   "metadata": {
    "collapsed": false,
    "deletable": true,
    "editable": true
   },
   "outputs": [],
   "source": [
    "#takes some time\n",
    "sig_info_gse92742_nearest=sig_info_gse92742.apply(get_closest_cc_ctrp,axis=1)\n",
    "sig_info_gse92742=pd.concat([sig_info_gse92742,sig_info_gse92742_nearest],1)\n",
    "fil=~pd.isnull(sig_info_gse92742['cpd_avg_pv'])\n",
    "sig_info_gse92742=sig_info_gse92742[fil]\n",
    "sig_info_gse92742.to_csv('../results/CTRP/sig_info_gse92742_viab.csv')"
   ]
  },
  {
   "cell_type": "code",
   "execution_count": 64,
   "metadata": {
    "collapsed": false,
    "deletable": true,
    "editable": true
   },
   "outputs": [],
   "source": [
    "#let's do this with gse70138, gse70138 does not have pert_dose and pert_dose unit\n",
    "#only pert_idose, which is a string like '10.0 um'\n",
    "sig_info_gse70138['pert_dose']=sig_info_gse70138['pert_idose'].apply(lambda x:float(x.split()[0]))\n",
    "sig_info_gse70138['pert_dose_unit']=sig_info_gse70138['pert_idose'].apply(lambda x:x.split()[1])\n",
    "assert len(set(sig_info_gse70138['pert_dose_unit']))==1 #all doses are in um\n",
    "#remove 0 and log transform\n",
    "fil=sig_info_gse70138['pert_dose']!=0.0 #remove 0 concentration instances\n",
    "sig_info_gse70138=sig_info_gse70138[fil]\n",
    "sig_info_gse70138['log10_pert_dose']=np.log10(sig_info_gse70138['pert_dose'].astype(float))"
   ]
  },
  {
   "cell_type": "code",
   "execution_count": 65,
   "metadata": {
    "collapsed": false,
    "deletable": true,
    "editable": true
   },
   "outputs": [],
   "source": [
    "#takes some time\n",
    "sig_info_gse70138_nearest=sig_info_gse70138.apply(get_closest_cc_ctrp,axis=1)\n",
    "sig_info_gse70138=pd.concat([sig_info_gse70138,sig_info_gse70138_nearest],1)\n",
    "fil=~pd.isnull(sig_info_gse70138['cpd_avg_pv'])\n",
    "sig_info_gse70138=sig_info_gse70138[fil]\n",
    "sig_info_gse70138.to_csv('../results/CTRP/sig_info_gse70138_viab.csv')"
   ]
  },
  {
   "cell_type": "markdown",
   "metadata": {
    "deletable": true,
    "editable": true
   },
   "source": [
    "Now we can read the corresponding gene expression signatures. We will only work with the actual measured (landmark) genes. If you are interested for the infered genes also (bing), you can selecte the genes with *pr_is_bing* (marked with comment). "
   ]
  },
  {
   "cell_type": "code",
   "execution_count": 18,
   "metadata": {
    "collapsed": false,
    "deletable": true,
    "editable": true
   },
   "outputs": [],
   "source": [
    "#also takes some time\n",
    "sig_info_gse92742=pd.read_table('../results/CTRP/sig_info_gse92742_viab.csv',\n",
    "                                sep=',',header=0,index_col=[0])\n",
    "sig_info_gse70138=pd.read_table('../results/CTRP/sig_info_gse70138_viab.csv',\n",
    "                                sep=',',header=0,index_col=[0])\n",
    "sig_ids_gse70138=list(sig_info_gse70138['sig_id'])\n",
    "sig_ids_gse92742=list(sig_info_gse92742['sig_id'])\n",
    "gene_info=pd.read_table('../data/LINCS/GSE92742/GSE92742_Broad_LINCS_gene_info.txt',sep='\\t')\n",
    "fil=gene_info['pr_is_lm']==1 # change the columns name to pr_is_bing if you are interested for all genes\n",
    "gene_ids = list(gene_info.loc[gene_info.index[fil],'pr_gene_id'].astype(str))\n",
    "signatures_gse92742=parse('../data/LINCS/GSE92742/GSE92742_Broad_LINCS_Level5_COMPZ.MODZ_n473647x12328.gctx', \n",
    "                          cid=sig_ids_gse92742,rid=gene_ids)\n",
    "signatures_gse92742=signatures_gse92742.data_df.T\n",
    "signatures_gse70138=parse('../data/LINCS/GSE70138/GSE70138_Broad_LINCS_Level5_COMPZ_n118050x12328.gctx',\n",
    "                          cid=sig_ids_gse70138,rid=gene_ids)\n",
    "signatures_gse70138=signatures_gse70138.data_df.T\n",
    "signatures_gse70138.to_csv('../results/CTRP/signatures_gse70138_lm.csv',sep=',')\n",
    "signatures_gse92742.to_csv('../results/CTRP/signatures_gse92742_lm.csv',sep=',')"
   ]
  },
  {
   "cell_type": "markdown",
   "metadata": {
    "deletable": true,
    "editable": true
   },
   "source": [
    "Finally, we can merge our data regarding GSE70138 and GSE92742, and we are ready with the CTRP preprocessing step."
   ]
  },
  {
   "cell_type": "code",
   "execution_count": 91,
   "metadata": {
    "collapsed": false,
    "deletable": true,
    "editable": true
   },
   "outputs": [],
   "source": [
    "#merge sig info files\n",
    "sig_info_gse92742=pd.read_table('../results/CTRP/sig_info_gse92742_viab.csv',\n",
    "                                sep=',',header=0,index_col=[0])\n",
    "sig_info_gse70138=pd.read_table('../results/CTRP/sig_info_gse70138_viab.csv',\n",
    "                                sep=',',header=0,index_col=[0])\n",
    "\n",
    "sig_info_gse92742.index=sig_info_gse92742['sig_id']\n",
    "sig_info_gse92742=sig_info_gse92742.loc[:,['pert_id','cell_id','pert_iname',\n",
    "                                            'log10_pert_dose','pert_itime',\n",
    "                                           'log10_cpd_conc_umol','cpd_avg_pv']]\n",
    "fil=np.abs(sig_info_gse92742['log10_pert_dose']-sig_info_gse92742['log10_cpd_conc_umol'])<0.2\n",
    "sig_info_gse92742=sig_info_gse92742[fil]\n",
    "    \n",
    "sig_info_gse70138.index=sig_info_gse70138['sig_id']\n",
    "sig_info_gse70138=sig_info_gse70138.loc[:,['pert_id','cell_id','pert_iname',\n",
    "                                           'log10_pert_dose','pert_itime',\n",
    "                                           'log10_cpd_conc_umol','cpd_avg_pv']]\n",
    "fil=np.abs(sig_info_gse70138['log10_pert_dose']-sig_info_gse70138['log10_cpd_conc_umol'])<0.2\n",
    "sig_info_gse70138=sig_info_gse70138[fil]\n",
    "\n",
    "sig_info_l1000_ctrp=pd.concat([sig_info_gse92742,sig_info_gse70138],0)\n",
    "sig_info_l1000_ctrp.to_csv('../results/CTRP/sig_info_ctrp_full.csv',sep=',')"
   ]
  },
  {
   "cell_type": "code",
   "execution_count": 20,
   "metadata": {
    "collapsed": true,
    "deletable": true,
    "editable": true
   },
   "outputs": [],
   "source": [
    "#merge signature files\n",
    "signatures_gse92742=pd.read_table('../results/CTRP/signatures_gse92742_lm.csv',\n",
    "                                  sep=',',header=0,index_col=[0])\n",
    "signatures_gse70138=pd.read_table('../results/CTRP/signatures_gse70138_lm.csv',\n",
    "                                  sep=',',header=0,index_col=[0])\n",
    "#be sure that genes are in the same order in the two signature files\n",
    "signatures_gse70138=signatures_gse70138.loc[:,signatures_gse92742.columns]\n",
    "\n",
    "signatures_l1000_ctrp=pd.concat([signatures_gse92742,signatures_gse70138],0)\n",
    "#be sure that experiments are in the same order than in the sig_info file\n",
    "signatures_l1000_ctrp=signatures_l1000_ctrp.loc[sig_info_l1000_ctrp.index,:]"
   ]
  },
  {
   "cell_type": "code",
   "execution_count": 7,
   "metadata": {
    "collapsed": false,
    "deletable": true,
    "editable": true
   },
   "outputs": [],
   "source": [
    "# we will merge duplicate entires of signatures using the MODZ method \n",
    "# describen in the original CMAP/L1000 study\n",
    "def calc_MODZ(data):\n",
    "    \"\"\"calculates MODZ based on the original CMAP/L1000 study\n",
    "    use only lm genes for MODZ calculation! Uses LM_GENES global\n",
    "    variable.\"\"\"\n",
    "    if len(data)==1:\n",
    "        return data\n",
    "    if len(data)==2:\n",
    "        return np.mean(data,0)\n",
    "    else:\n",
    "        CM=scor(data[LM_GENES].T)[0]\n",
    "        fil=CM<0\n",
    "        CM[fil]=0.01\n",
    "        weights=np.sum(CM,1)-1\n",
    "        weights=weights/np.sum(weights)\n",
    "        weights=weights.reshape((-1,1))\n",
    "        return pd.Series(np.dot(data.T,weights).reshape((-1,1)[0]),index=data.columns)"
   ]
  },
  {
   "cell_type": "code",
   "execution_count": 21,
   "metadata": {
    "collapsed": false,
    "deletable": true,
    "editable": true
   },
   "outputs": [],
   "source": [
    "#we use only landmark genes for MODZ calculation\n",
    "gene_info=pd.read_table('../data/LINCS/GSE92742/GSE92742_Broad_LINCS_gene_info.txt',sep='\\t')\n",
    "fil=gene_info['pr_is_lm']==1\n",
    "LM_GENES = list(gene_info.loc[gene_info.index[fil],'pr_gene_id'].astype(str))\n",
    "signatures_l1000_ctrp[['pert_id','cell_id','log10_pert_dose','pert_itime']]=\\\n",
    "    sig_info_l1000_ctrp[['pert_id','cell_id','log10_pert_dose','pert_itime']]\n",
    "signatures_l1000_ctrp=signatures_l1000_ctrp.groupby(['pert_id','cell_id',\n",
    "                                                     'log10_pert_dose',\n",
    "                                                     'pert_itime']).transform(calc_MODZ)"
   ]
  },
  {
   "cell_type": "code",
   "execution_count": 22,
   "metadata": {
    "collapsed": false,
    "deletable": true,
    "editable": true
   },
   "outputs": [],
   "source": [
    "sig_info_l1000_ctrp=sig_info_l1000_ctrp.drop_duplicates(['pert_id','cell_id','log10_pert_dose','pert_itime'])\n",
    "signatures_l1000_ctrp=signatures_l1000_ctrp.loc[sig_info_l1000_ctrp.index]\n",
    "signatures_l1000_ctrp.to_csv('../results/CTRP/signatures_merged_lm.csv',sep=',')\n",
    "sig_info_l1000_ctrp.to_csv('../results/CTRP/sig_info_merged_lm.csv',sep=',')"
   ]
  },
  {
   "cell_type": "markdown",
   "metadata": {
    "deletable": true,
    "editable": true
   },
   "source": [
    "We are done with CTRP preprocessing\n",
    "## We can continoue with matching shRNA abundance data from Achilles\n",
    "At first we will merge the two different versions of Achilles dataset we will use.\n"
   ]
  },
  {
   "cell_type": "code",
   "execution_count": 71,
   "metadata": {
    "collapsed": false,
    "deletable": true,
    "editable": true
   },
   "outputs": [],
   "source": [
    "achilles204=pd.read_table('../data/Achilles/Achilles_v2.4.6.rnai.gct',\n",
    "                           sep='\\t',header=0,index_col=[0],skiprows=2)\n",
    "achilles218=pd.read_table('../data/Achilles/achilles-v2-19-2-mapped-rnai_v1-data.gct',\n",
    "                          sep='\\t',header=0,index_col=[0],skiprows=2)\n",
    "#remove tissue type from columns, keep only cell line\n",
    "achilles204.columns=pd.Series(achilles204.columns).apply(lambda x: x.split('_')[0]).values\n",
    "achilles218.columns=pd.Series(achilles218.columns).apply(lambda x: x.split('_')[0]).values\n",
    "#remove Description columns\n",
    "del achilles204['Description']\n",
    "del achilles218['Description']\n",
    "shRNAs=list(set(achilles204.index)|set(achilles218.index))\n",
    "cells=list(set(achilles204.columns)|set(achilles218.columns))\n",
    "achilles_merged=pd.DataFrame(index=shRNAs,columns=cells)\n",
    "achilles_merged.loc[achilles204.index,achilles204.columns]=achilles204\n",
    "achilles_merged.loc[achilles218.index,achilles218.columns]=achilles218\n",
    "achilles_merged.to_csv('../results/Achilles/achilles_merged.csv',sep=',')"
   ]
  },
  {
   "cell_type": "markdown",
   "metadata": {
    "deletable": true,
    "editable": true
   },
   "source": [
    "Now we select the corresponding cell lines / shRNAs from Achilles and LINCS-L1000."
   ]
  },
  {
   "cell_type": "code",
   "execution_count": 3,
   "metadata": {
    "collapsed": false,
    "deletable": true,
    "editable": true
   },
   "outputs": [],
   "source": [
    "achilles_merged=pd.read_table('../results/Achilles/achilles_merged.csv',\n",
    "                              sep=',',header=0,index_col=[0])\n",
    "sig_info = pd.read_csv('../data/LINCS/GSE92742/GSE92742_Broad_LINCS_sig_info.txt',\n",
    "                       low_memory=False,sep='\\t',header=0,index_col=None)\n",
    "fil=sig_info['pert_type']=='trt_sh'\n",
    "sig_info=sig_info[fil]\n",
    "#selecting common cell lines\n",
    "cells=list(set(achilles_merged.columns)&set(sig_info['cell_id']))\n",
    "achilles_merged=achilles_merged[cells]\n",
    "fil=np.in1d(sig_info['cell_id'],cells)\n",
    "sig_info=sig_info[fil]"
   ]
  },
  {
   "cell_type": "markdown",
   "metadata": {
    "deletable": true,
    "editable": true
   },
   "source": [
    "And match instances between Achilles and LINCS-L1000."
   ]
  },
  {
   "cell_type": "code",
   "execution_count": 4,
   "metadata": {
    "collapsed": false,
    "deletable": true,
    "editable": true
   },
   "outputs": [],
   "source": [
    "#matching shRNAs between achilles and lincs-l1000\n",
    "achilles_merged['Sequence']=pd.Series(achilles_merged.index).apply(lambda x:x.split('_')[0]).values\n",
    "achilles_merged=achilles_merged.drop_duplicates('Sequence') #we drop same sequence shRNAs\n",
    "sequence_anno55k=pd.read_table('../data/Achilles/CP0001_reference_20150109.csv',\n",
    "                               sep=',',header=None,index_col=None)\n",
    "sequence_anno55k.columns=['Barcode','ID','Target']\n",
    "sequence_anno90k=pd.read_table('../data/Achilles/CP0003_reference_20150109.csv',\n",
    "                               sep=',',header=None,index_col=None)\n",
    "sequence_anno90k.columns=['Barcode','ID','Target']\n",
    "sequence_anno=pd.concat([sequence_anno55k,sequence_anno90k])\n",
    "sequence_anno.index=range(len(sequence_anno.index))\n",
    "sequence_anno=sequence_anno.drop_duplicates('ID')\n",
    "#achilles uses barcode\n",
    "fil=np.in1d(achilles_merged['Sequence'],sequence_anno['Barcode'])\n",
    "achilles_merged=achilles_merged[fil]\n",
    "#lincs uses ID\n",
    "fil=np.in1d(sig_info['pert_id'],sequence_anno['ID'])\n",
    "sig_info=sig_info[fil]\n",
    "#match achilles and LINCS\n",
    "sequence_anno.index=sequence_anno['ID'].values\n",
    "sig_info['Barcode']=sequence_anno.loc[sig_info['pert_id'].values,'Barcode'].values\n",
    "sig_info['shRNA_abundance']=np.nan\n",
    "achilles_merged=pd.melt(achilles_merged,id_vars=['Sequence'],\n",
    "                        value_vars=achilles_merged.columns[:-1])\n",
    "achilles_merged.columns=['Sequence','Cell_line','shRNA_abundance']\n",
    "fil=~pd.isnull(achilles_merged['shRNA_abundance']) #remove shRNA - cell pairs with no measured viaiblity\n",
    "achilles_merged=achilles_merged[fil]\n",
    "sig_info['Barcode_Cell']=sig_info['Barcode']+'_'+sig_info['cell_id']\n",
    "achilles_merged['Barcode_Cell']=achilles_merged['Sequence']+'_'+achilles_merged['Cell_line']\n",
    "#keep only shRNA - cell line pairs, which are present in both datasets\n",
    "barcode_cells=list(set(achilles_merged['Barcode_Cell'])&set(sig_info['Barcode_Cell']))\n",
    "fil=np.in1d(achilles_merged['Barcode_Cell'],barcode_cells)\n",
    "achilles_merged=achilles_merged[fil]\n",
    "fil=np.in1d(sig_info['Barcode_Cell'],barcode_cells)\n",
    "sig_info=sig_info[fil]\n",
    "#add shrna abundance to sig_info\n",
    "achilles_merged.index=achilles_merged['Barcode_Cell']\n",
    "sig_info['shRNA_abundance']=achilles_merged.loc[sig_info['Barcode_Cell'].values,\n",
    "                                                'shRNA_abundance'].values"
   ]
  },
  {
   "cell_type": "code",
   "execution_count": 5,
   "metadata": {
    "collapsed": false,
    "deletable": true,
    "editable": true
   },
   "outputs": [],
   "source": [
    "#read signautres\n",
    "sig_ids=list(sig_info['sig_id'])\n",
    "gene_info=pd.read_table('../data/LINCS/GSE92742/GSE92742_Broad_LINCS_gene_info.txt',sep='\\t')\n",
    "fil=gene_info['pr_is_lm']==1 # change the columns name to pr_is_bing if you are interested for all genes\n",
    "gene_ids = list(gene_info.loc[gene_info.index[fil],'pr_gene_id'].astype(str))\n",
    "signatures=parse('../data/LINCS/GSE92742/GSE92742_Broad_LINCS_Level5_COMPZ.MODZ_n473647x12328.gctx', \n",
    "                 cid=sig_ids,rid=gene_ids)\n",
    "signatures=signatures.data_df.T\n",
    "sig_info.index=sig_info['sig_id'].values\n",
    "sig_info=sig_info.loc[signatures.index]\n",
    "sig_info.to_csv('../results/Achilles/sig_info_gse92742_lm.csv',sep=',')\n",
    "signatures.to_csv('../results/Achilles/signatures_gse92742_lm.csv',sep=',')"
   ]
  },
  {
   "cell_type": "code",
   "execution_count": 96,
   "metadata": {
    "collapsed": true,
    "deletable": true,
    "editable": true
   },
   "outputs": [],
   "source": [
    "sig_info=pd.read_table('../results/Achilles/sig_info_gse92742_lm.csv',sep=',',\n",
    "                      header=0,index_col=[0])\n",
    "signatures=pd.read_table('../results/Achilles/signatures_gse92742_lm.csv',sep=',',\n",
    "                        header=0,index_col=[0])"
   ]
  },
  {
   "cell_type": "code",
   "execution_count": 8,
   "metadata": {
    "collapsed": false,
    "deletable": true,
    "editable": true
   },
   "outputs": [],
   "source": [
    "gene_info=pd.read_table('../data/LINCS/GSE92742/GSE92742_Broad_LINCS_gene_info.txt',sep='\\t')\n",
    "fil=gene_info['pr_is_lm']==1\n",
    "LM_GENES = list(gene_info.loc[gene_info.index[fil],'pr_gene_id'].astype(str))\n",
    "signatures[['pert_id','cell_id','pert_itime']]=sig_info[['pert_id','cell_id','pert_itime']]\n",
    "signatures=signatures.groupby(['pert_id','cell_id','pert_itime']).transform(calc_MODZ)"
   ]
  },
  {
   "cell_type": "code",
   "execution_count": 12,
   "metadata": {
    "collapsed": false,
    "deletable": true,
    "editable": true
   },
   "outputs": [
    {
     "data": {
      "text/html": [
       "<div>\n",
       "<style>\n",
       "    .dataframe thead tr:only-child th {\n",
       "        text-align: right;\n",
       "    }\n",
       "\n",
       "    .dataframe thead th {\n",
       "        text-align: left;\n",
       "    }\n",
       "\n",
       "    .dataframe tbody tr th {\n",
       "        vertical-align: top;\n",
       "    }\n",
       "</style>\n",
       "<table border=\"1\" class=\"dataframe\">\n",
       "  <thead>\n",
       "    <tr style=\"text-align: right;\">\n",
       "      <th>rid</th>\n",
       "      <th>5720</th>\n",
       "      <th>466</th>\n",
       "      <th>6009</th>\n",
       "      <th>2309</th>\n",
       "      <th>387</th>\n",
       "      <th>3553</th>\n",
       "      <th>427</th>\n",
       "      <th>5898</th>\n",
       "      <th>23365</th>\n",
       "      <th>6657</th>\n",
       "      <th>...</th>\n",
       "      <th>2931</th>\n",
       "      <th>63876</th>\n",
       "      <th>51275</th>\n",
       "      <th>158747</th>\n",
       "      <th>283232</th>\n",
       "      <th>25960</th>\n",
       "      <th>6376</th>\n",
       "      <th>11033</th>\n",
       "      <th>54869</th>\n",
       "      <th>60</th>\n",
       "    </tr>\n",
       "    <tr>\n",
       "      <th>cid</th>\n",
       "      <th></th>\n",
       "      <th></th>\n",
       "      <th></th>\n",
       "      <th></th>\n",
       "      <th></th>\n",
       "      <th></th>\n",
       "      <th></th>\n",
       "      <th></th>\n",
       "      <th></th>\n",
       "      <th></th>\n",
       "      <th></th>\n",
       "      <th></th>\n",
       "      <th></th>\n",
       "      <th></th>\n",
       "      <th></th>\n",
       "      <th></th>\n",
       "      <th></th>\n",
       "      <th></th>\n",
       "      <th></th>\n",
       "      <th></th>\n",
       "      <th></th>\n",
       "    </tr>\n",
       "  </thead>\n",
       "  <tbody>\n",
       "    <tr>\n",
       "      <th>DER001_A375_96H:TRCN0000052583:-666</th>\n",
       "      <td>1.292192</td>\n",
       "      <td>-0.516955</td>\n",
       "      <td>-0.412805</td>\n",
       "      <td>0.276606</td>\n",
       "      <td>0.614589</td>\n",
       "      <td>0.010979</td>\n",
       "      <td>-0.773009</td>\n",
       "      <td>-0.338920</td>\n",
       "      <td>0.377816</td>\n",
       "      <td>0.683075</td>\n",
       "      <td>...</td>\n",
       "      <td>-1.230270</td>\n",
       "      <td>0.510800</td>\n",
       "      <td>-1.068159</td>\n",
       "      <td>-0.873633</td>\n",
       "      <td>-0.090629</td>\n",
       "      <td>-0.856349</td>\n",
       "      <td>-1.273767</td>\n",
       "      <td>0.126180</td>\n",
       "      <td>-0.654363</td>\n",
       "      <td>0.834571</td>\n",
       "    </tr>\n",
       "    <tr>\n",
       "      <th>DER001_A375_96H:TRCN0000052584:-666</th>\n",
       "      <td>0.257615</td>\n",
       "      <td>0.671748</td>\n",
       "      <td>-0.258386</td>\n",
       "      <td>-0.427282</td>\n",
       "      <td>-0.662475</td>\n",
       "      <td>-0.090806</td>\n",
       "      <td>0.947291</td>\n",
       "      <td>0.602688</td>\n",
       "      <td>-1.212085</td>\n",
       "      <td>-0.516783</td>\n",
       "      <td>...</td>\n",
       "      <td>0.464613</td>\n",
       "      <td>0.255901</td>\n",
       "      <td>0.695943</td>\n",
       "      <td>-0.239037</td>\n",
       "      <td>0.727307</td>\n",
       "      <td>0.376011</td>\n",
       "      <td>-0.195608</td>\n",
       "      <td>0.297303</td>\n",
       "      <td>-0.090162</td>\n",
       "      <td>-1.098743</td>\n",
       "    </tr>\n",
       "    <tr>\n",
       "      <th>DER001_A375_96H:TRCN0000052585:-666</th>\n",
       "      <td>0.145191</td>\n",
       "      <td>0.367976</td>\n",
       "      <td>0.280344</td>\n",
       "      <td>-0.466836</td>\n",
       "      <td>-0.385466</td>\n",
       "      <td>-1.124026</td>\n",
       "      <td>1.715151</td>\n",
       "      <td>0.516093</td>\n",
       "      <td>-1.287216</td>\n",
       "      <td>0.211849</td>\n",
       "      <td>...</td>\n",
       "      <td>-1.069283</td>\n",
       "      <td>-0.262511</td>\n",
       "      <td>0.428910</td>\n",
       "      <td>-1.664711</td>\n",
       "      <td>-0.022815</td>\n",
       "      <td>0.596738</td>\n",
       "      <td>0.021818</td>\n",
       "      <td>0.251241</td>\n",
       "      <td>0.054075</td>\n",
       "      <td>0.173321</td>\n",
       "    </tr>\n",
       "    <tr>\n",
       "      <th>DER001_A375_96H:TRCN0000052586:-666</th>\n",
       "      <td>9.286907</td>\n",
       "      <td>-0.789693</td>\n",
       "      <td>-0.653075</td>\n",
       "      <td>1.916717</td>\n",
       "      <td>-1.732753</td>\n",
       "      <td>-0.909867</td>\n",
       "      <td>0.549655</td>\n",
       "      <td>-0.588682</td>\n",
       "      <td>3.812686</td>\n",
       "      <td>0.210898</td>\n",
       "      <td>...</td>\n",
       "      <td>0.575291</td>\n",
       "      <td>0.757752</td>\n",
       "      <td>-0.394680</td>\n",
       "      <td>-2.033882</td>\n",
       "      <td>0.317094</td>\n",
       "      <td>1.496188</td>\n",
       "      <td>0.894827</td>\n",
       "      <td>1.412058</td>\n",
       "      <td>0.512301</td>\n",
       "      <td>-1.140261</td>\n",
       "    </tr>\n",
       "    <tr>\n",
       "      <th>DER001_A375_96H:TRCN0000052587:-666</th>\n",
       "      <td>0.773549</td>\n",
       "      <td>-0.530655</td>\n",
       "      <td>0.502592</td>\n",
       "      <td>0.158707</td>\n",
       "      <td>0.455660</td>\n",
       "      <td>-0.134985</td>\n",
       "      <td>-0.380205</td>\n",
       "      <td>-0.157753</td>\n",
       "      <td>-0.257628</td>\n",
       "      <td>0.675954</td>\n",
       "      <td>...</td>\n",
       "      <td>0.051713</td>\n",
       "      <td>0.496452</td>\n",
       "      <td>-0.828241</td>\n",
       "      <td>-0.893640</td>\n",
       "      <td>-0.315364</td>\n",
       "      <td>0.035990</td>\n",
       "      <td>0.566348</td>\n",
       "      <td>0.266153</td>\n",
       "      <td>-0.558819</td>\n",
       "      <td>0.474431</td>\n",
       "    </tr>\n",
       "  </tbody>\n",
       "</table>\n",
       "<p>5 rows × 10174 columns</p>\n",
       "</div>"
      ],
      "text/plain": [
       "rid                                      5720       466      6009      2309  \\\n",
       "cid                                                                           \n",
       "DER001_A375_96H:TRCN0000052583:-666  1.292192 -0.516955 -0.412805  0.276606   \n",
       "DER001_A375_96H:TRCN0000052584:-666  0.257615  0.671748 -0.258386 -0.427282   \n",
       "DER001_A375_96H:TRCN0000052585:-666  0.145191  0.367976  0.280344 -0.466836   \n",
       "DER001_A375_96H:TRCN0000052586:-666  9.286907 -0.789693 -0.653075  1.916717   \n",
       "DER001_A375_96H:TRCN0000052587:-666  0.773549 -0.530655  0.502592  0.158707   \n",
       "\n",
       "rid                                       387      3553       427      5898  \\\n",
       "cid                                                                           \n",
       "DER001_A375_96H:TRCN0000052583:-666  0.614589  0.010979 -0.773009 -0.338920   \n",
       "DER001_A375_96H:TRCN0000052584:-666 -0.662475 -0.090806  0.947291  0.602688   \n",
       "DER001_A375_96H:TRCN0000052585:-666 -0.385466 -1.124026  1.715151  0.516093   \n",
       "DER001_A375_96H:TRCN0000052586:-666 -1.732753 -0.909867  0.549655 -0.588682   \n",
       "DER001_A375_96H:TRCN0000052587:-666  0.455660 -0.134985 -0.380205 -0.157753   \n",
       "\n",
       "rid                                     23365      6657    ...         2931  \\\n",
       "cid                                                        ...                \n",
       "DER001_A375_96H:TRCN0000052583:-666  0.377816  0.683075    ...    -1.230270   \n",
       "DER001_A375_96H:TRCN0000052584:-666 -1.212085 -0.516783    ...     0.464613   \n",
       "DER001_A375_96H:TRCN0000052585:-666 -1.287216  0.211849    ...    -1.069283   \n",
       "DER001_A375_96H:TRCN0000052586:-666  3.812686  0.210898    ...     0.575291   \n",
       "DER001_A375_96H:TRCN0000052587:-666 -0.257628  0.675954    ...     0.051713   \n",
       "\n",
       "rid                                     63876     51275    158747    283232  \\\n",
       "cid                                                                           \n",
       "DER001_A375_96H:TRCN0000052583:-666  0.510800 -1.068159 -0.873633 -0.090629   \n",
       "DER001_A375_96H:TRCN0000052584:-666  0.255901  0.695943 -0.239037  0.727307   \n",
       "DER001_A375_96H:TRCN0000052585:-666 -0.262511  0.428910 -1.664711 -0.022815   \n",
       "DER001_A375_96H:TRCN0000052586:-666  0.757752 -0.394680 -2.033882  0.317094   \n",
       "DER001_A375_96H:TRCN0000052587:-666  0.496452 -0.828241 -0.893640 -0.315364   \n",
       "\n",
       "rid                                     25960      6376     11033     54869  \\\n",
       "cid                                                                           \n",
       "DER001_A375_96H:TRCN0000052583:-666 -0.856349 -1.273767  0.126180 -0.654363   \n",
       "DER001_A375_96H:TRCN0000052584:-666  0.376011 -0.195608  0.297303 -0.090162   \n",
       "DER001_A375_96H:TRCN0000052585:-666  0.596738  0.021818  0.251241  0.054075   \n",
       "DER001_A375_96H:TRCN0000052586:-666  1.496188  0.894827  1.412058  0.512301   \n",
       "DER001_A375_96H:TRCN0000052587:-666  0.035990  0.566348  0.266153 -0.558819   \n",
       "\n",
       "rid                                        60  \n",
       "cid                                            \n",
       "DER001_A375_96H:TRCN0000052583:-666  0.834571  \n",
       "DER001_A375_96H:TRCN0000052584:-666 -1.098743  \n",
       "DER001_A375_96H:TRCN0000052585:-666  0.173321  \n",
       "DER001_A375_96H:TRCN0000052586:-666 -1.140261  \n",
       "DER001_A375_96H:TRCN0000052587:-666  0.474431  \n",
       "\n",
       "[5 rows x 10174 columns]"
      ]
     },
     "execution_count": 12,
     "metadata": {},
     "output_type": "execute_result"
    }
   ],
   "source": [
    "signatures.head()"
   ]
  },
  {
   "cell_type": "code",
   "execution_count": 13,
   "metadata": {
    "collapsed": false,
    "deletable": true,
    "editable": true
   },
   "outputs": [],
   "source": [
    "sig_info=sig_info.drop_duplicates(['pert_id','cell_id','pert_itime'])\n",
    "signatures=signatures.loc[sig_info.index]\n",
    "signatures.to_csv('../results/Achilles/signatures_merged_lm.csv',sep=',')\n",
    "sig_info.to_csv('../results/Achilles/sig_info_merged_lm.csv',sep=',')"
   ]
  },
  {
   "cell_type": "markdown",
   "metadata": {
    "deletable": true,
    "editable": true
   },
   "source": [
    "We are done with Achilles preprocessing!"
   ]
  },
  {
   "cell_type": "markdown",
   "metadata": {
    "deletable": true,
    "editable": true
   },
   "source": [
    "Later we will need CTRP dose response curve data (AUC and EC50 values) from CTRP dataset, we will preprocess them now too."
   ]
  },
  {
   "cell_type": "code",
   "execution_count": 5,
   "metadata": {
    "collapsed": true,
    "deletable": true,
    "editable": true
   },
   "outputs": [],
   "source": [
    "# read raw CTRP cell viability data\n",
    "ctrp_curves=pd.read_table('../data/CTRP/v20.data.curves_post_qc.txt',\n",
    "                       sep='\\t',header=0,index_col=None)\n",
    "#read CTRP metadata\n",
    "cell_info=pd.read_table('../data/CTRP/v20.meta.per_cell_line.txt',\n",
    "                        sep='\\t',header=0,index_col=None)\n",
    "compound_info=pd.read_table('../data/CTRP/v20.meta.per_compound.txt',\n",
    "                            sep='\\t',header=0,index_col=None)\n",
    "experiment_info=pd.read_table('../data/CTRP/v20.meta.per_experiment.txt',\n",
    "                              sep='\\t',header=0,index_col=None)"
   ]
  },
  {
   "cell_type": "code",
   "execution_count": 6,
   "metadata": {
    "collapsed": false,
    "deletable": true,
    "editable": true
   },
   "outputs": [],
   "source": [
    "#using information from metadata we prepocess CTRP data\n",
    "#to have usable format to match with LINCS\n",
    "ctrp_proc=ctrp_curves.loc[:,['experiment_id','master_cpd_id','pred_pv_high_conc',\n",
    "                          'apparent_ec50_umol','area_under_curve']].copy()\n",
    "experiment_info=experiment_info.drop_duplicates(['experiment_id',\n",
    "                                                 'master_ccl_id'])\n",
    "experiment_info.index=experiment_info['experiment_id']\n",
    "ctrp_proc['master_ccl_id']=experiment_info.loc[ctrp_proc['experiment_id'].values,\n",
    "                                               'master_ccl_id'].values\n",
    "cell_info.index=cell_info['master_ccl_id']\n",
    "ctrp_proc['ccl_name']=cell_info.loc[ctrp_proc['master_ccl_id'].values,\n",
    "                                    'ccl_name'].values\n",
    "compound_info.index=compound_info['master_cpd_id']\n",
    "ctrp_proc['broad_cpd_id']=compound_info.loc[ctrp_proc['master_cpd_id'].values,\n",
    "                                            'broad_cpd_id'].values\n",
    "ctrp_proc=ctrp_proc.loc[:,['ccl_name','broad_cpd_id','pred_pv_high_conc',\n",
    "                           'apparent_ec50_umol','area_under_curve']]\n",
    "ctrp_proc.to_csv('../results/CTRP/ctrp_DR.csv',sep=',')"
   ]
  }
 ],
 "metadata": {
  "kernelspec": {
   "display_name": "Python 3",
   "language": "python",
   "name": "python3"
  },
  "language_info": {
   "codemirror_mode": {
    "name": "ipython",
    "version": 3
   },
   "file_extension": ".py",
   "mimetype": "text/x-python",
   "name": "python",
   "nbconvert_exporter": "python",
   "pygments_lexer": "ipython3",
   "version": "3.5.2"
  }
 },
 "nbformat": 4,
 "nbformat_minor": 2
}
