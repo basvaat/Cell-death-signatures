{
 "cells": [
  {
   "cell_type": "code",
   "execution_count": 174,
   "metadata": {
    "collapsed": true,
    "deletable": true,
    "editable": true
   },
   "outputs": [],
   "source": [
    "import numpy as np\n",
    "import pandas as pd\n",
    "\n",
    "import seaborn as sns\n",
    "from matplotlib import pyplot as plt\n",
    "\n",
    "from scipy.stats import spearmanr as scor\n",
    "from sklearn.linear_model import LinearRegression\n",
    "from sklearn.metrics import roc_curve as ROC\n",
    "from sklearn.metrics import precision_recall_curve as PRC\n",
    "from sklearn.metrics import auc as AUC\n",
    "\n",
    "sns.set_style('whitegrid')\n",
    "%matplotlib inline"
   ]
  },
  {
   "cell_type": "markdown",
   "metadata": {
    "deletable": true,
    "editable": true
   },
   "source": [
    "## Confunding role of cell death signature in mechanism of action discovery\n",
    "Perturbation gene expression signatures can be used to identify meachinsom of action (MoA) of unknown compounds (based on singature similarity). As cell death / proliferation has an important effect on gene expression sigantures, we hypothesised that cell death / proliferation can infer with MoA identification.\n",
    "\n",
    "To test this hypothesis, we analysed the similarity between signature pairs (using Spearman correlation). We analysed the similarities between unrelated, toxic and shared MoA pairs."
   ]
  },
  {
   "cell_type": "code",
   "execution_count": 2,
   "metadata": {
    "collapsed": true,
    "deletable": true,
    "editable": true
   },
   "outputs": [],
   "source": [
    "def remove_space(s):\n",
    "    \"\"\"just some helper function to clean CTRP metadata\n",
    "    removes space from end/start of string s\"\"\"\n",
    "    while (s[0]==' ') or (s[-1]==' '):\n",
    "        if s[0]==' ':\n",
    "            s=s[1:]\n",
    "        if s[-1]==' ':\n",
    "            s=s[:-1]\n",
    "    return s"
   ]
  },
  {
   "cell_type": "code",
   "execution_count": 3,
   "metadata": {
    "collapsed": false,
    "deletable": true,
    "editable": true
   },
   "outputs": [],
   "source": [
    "#CTRP metadata desribes target of CTRP drugs\n",
    "moa=pd.read_table('../data/CTRP/v20.meta.per_compound.txt',\n",
    "                 sep='\\t',header=0,index_col=[2])\n",
    "#get targets and activities for these drugs\n",
    "activities=[]\n",
    "targets=[]\n",
    "for cpd in moa.index:\n",
    "    trg=str(moa.loc[cpd,'gene_symbol_of_protein_target']).split(';')\n",
    "    targets+=trg\n",
    "    act=str(moa.loc[cpd,'target_or_activity_of_compound']).split(';')\n",
    "    act_new=[]\n",
    "    for a in act:\n",
    "        act_new.append(remove_space(a))\n",
    "    act=act_new\n",
    "    activities+=act\n",
    "activities=list(set(activities))\n",
    "targets=list(set(targets))\n",
    "#create a matrix to store these targets and activities for compounds\n",
    "activity_matrix=pd.DataFrame(0,index=moa.index,columns=activities)\n",
    "target_matrix=pd.DataFrame(0,index=moa.index,columns=targets)\n",
    "for cpd in moa.index:\n",
    "    trg=str(moa.loc[cpd,'gene_symbol_of_protein_target']).split(';')\n",
    "    act=str(moa.loc[cpd,'target_or_activity_of_compound']).split(';')\n",
    "    act_new=[]\n",
    "    for a in act:\n",
    "        act_new.append(remove_space(a))\n",
    "    act=act_new\n",
    "    activity_matrix.loc[cpd,act]=1\n",
    "    target_matrix.loc[cpd,trg]=1\n",
    "# remove meaningless activities and targets\n",
    "del target_matrix['nan']\n",
    "del activity_matrix['product of diversity oriented synthesis']\n",
    "del activity_matrix['screening hit']\n",
    "del activity_matrix['natural product']"
   ]
  },
  {
   "cell_type": "code",
   "execution_count": 4,
   "metadata": {
    "collapsed": true,
    "deletable": true,
    "editable": true
   },
   "outputs": [],
   "source": [
    "#shared_moa matrix creation\n",
    "#rows/columns are pert_ids, value is 1 if moa is shared, 0 if not\n",
    "shared_moa=pd.DataFrame(np.identity(len(moa),int),index=moa.index,columns=moa.index)\n",
    "for cpd in moa.index:\n",
    "    acts=activity_matrix.columns[activity_matrix.loc[cpd]==1]\n",
    "    sim_act=activity_matrix.index[np.sum(activity_matrix[acts],1)>0]\n",
    "    shared_moa.loc[cpd,sim_act]=1\n",
    "    trgs=target_matrix.columns[target_matrix.loc[cpd]==1]\n",
    "    sim_trg=target_matrix.index[np.sum(target_matrix[trgs],1)>0]\n",
    "    shared_moa.loc[cpd,sim_trg]=1\n",
    "shared_moa.to_csv('../results/moa/shared_moa_ctrp.csv',sep=',')"
   ]
  },
  {
   "cell_type": "markdown",
   "metadata": {
    "deletable": true,
    "editable": true
   },
   "source": [
    "Now we know which CTRP drugs have shared MoA. Next we calulate the similarities between CTRP-L1000 signatures."
   ]
  },
  {
   "cell_type": "code",
   "execution_count": 5,
   "metadata": {
    "collapsed": true,
    "deletable": true,
    "editable": true
   },
   "outputs": [],
   "source": [
    "sig_info=pd.read_table('../results/CTRP/sig_info_merged_lm.csv',\n",
    "                      sep=',',header=0,index_col=[0])\n",
    "signatures=pd.read_table('../results/CTRP/signatures_merged_lm.csv',\n",
    "                        sep=',',header=0,index_col=[0])\n",
    "fil=sig_info['pert_itime']=='24 h'\n",
    "sig_info=sig_info[fil]\n",
    "signatures=signatures.loc[sig_info.index]\n",
    "similarity=pd.DataFrame(scor(signatures.T)[0],index=signatures.index,\n",
    "                        columns=signatures.index)"
   ]
  },
  {
   "cell_type": "markdown",
   "metadata": {
    "deletable": true,
    "editable": true
   },
   "source": [
    "Now we can create different masks to get: shared moa signatures / shared cell line signatures / toxic signatures / non toxic signautes."
   ]
  },
  {
   "cell_type": "code",
   "execution_count": 9,
   "metadata": {
    "collapsed": false,
    "deletable": true,
    "editable": true
   },
   "outputs": [],
   "source": [
    "#moa mask\n",
    "moa_mask=pd.DataFrame(False,index=similarity.index,\n",
    "                     columns=similarity.columns)\n",
    "for cpd in shared_moa.index:\n",
    "    sig_ids=sig_info.index[sig_info['pert_id']==cpd]\n",
    "    similar_cpds=shared_moa.columns[shared_moa.loc[cpd]==1]\n",
    "    similar_ids=sig_info.index[np.in1d(sig_info['pert_id'],similar_cpds)]\n",
    "    moa_mask.loc[sig_ids,similar_ids]=True"
   ]
  },
  {
   "cell_type": "code",
   "execution_count": 10,
   "metadata": {
    "collapsed": false,
    "deletable": true,
    "editable": true
   },
   "outputs": [],
   "source": [
    "#cell line mask\n",
    "cell_mask=pd.DataFrame(False,index=similarity.index,\n",
    "                      columns=similarity.columns)\n",
    "for cell in list(set(sig_info['cell_id'])):\n",
    "    sig_ids=sig_info.index[sig_info['cell_id']==cell]\n",
    "    cell_mask.loc[sig_ids,sig_ids]=True"
   ]
  },
  {
   "cell_type": "code",
   "execution_count": 13,
   "metadata": {
    "collapsed": false,
    "deletable": true,
    "editable": true
   },
   "outputs": [],
   "source": [
    "#non toxic mask\n",
    "non_tox_mask=pd.DataFrame(False,index=similarity.index,\n",
    "                         columns=similarity.columns)\n",
    "sig_ids=sig_info.index[sig_info['cpd_avg_pv']>0.8] # threshold for non toxicity\n",
    "non_tox_mask.loc[sig_ids,sig_ids]=True"
   ]
  },
  {
   "cell_type": "code",
   "execution_count": 14,
   "metadata": {
    "collapsed": false,
    "deletable": true,
    "editable": true
   },
   "outputs": [],
   "source": [
    "tox_mask=pd.DataFrame(False,index=similarity.index,\n",
    "                         columns=similarity.columns)\n",
    "sig_ids=sig_info.index[sig_info['cpd_avg_pv']<0.8] # threshold for toxicity\n",
    "tox_mask.loc[sig_ids,sig_ids]=True"
   ]
  },
  {
   "cell_type": "code",
   "execution_count": 41,
   "metadata": {
    "collapsed": false
   },
   "outputs": [],
   "source": [
    "def get_similarity_values_for_mask(similarity,masks=[]):\n",
    "    \"\"\"mask is a list of masks, get the upper triangular matrix values\n",
    "    (without diagonal) of the masked similarity array\"\"\"\n",
    "    final_mask=pd.DataFrame(True,index=similarity.index,\n",
    "                     columns=similarity.columns)\n",
    "    for mask in masks:\n",
    "        final_mask=final_mask & mask\n",
    "    similarity_masked=similarity[final_mask]\n",
    "    similarity_masked=similarity_masked.values[np.triu_indices(len(similarity),1)]\n",
    "    fil=~pd.isnull(similarity_masked)\n",
    "    similarity_masked=similarity_masked[fil]\n",
    "    return similarity_masked"
   ]
  },
  {
   "cell_type": "markdown",
   "metadata": {},
   "source": [
    "Now we can calculate the signature similarities for the important groups. We can see that cell death based signature similarity has similar or bigger effect, than MoA based similarity."
   ]
  },
  {
   "cell_type": "code",
   "execution_count": 91,
   "metadata": {
    "collapsed": true
   },
   "outputs": [],
   "source": [
    "results={}\n",
    "results['all']=\\\n",
    "            get_similarity_values_for_mask(similarity)\n",
    "results['shared MoA, non-toxic']=\\\n",
    "            get_similarity_values_for_mask(similarity,[moa_mask,non_tox_mask])\n",
    "results['different MoA, toxic']=\\\n",
    "            get_similarity_values_for_mask(similarity,[~moa_mask,tox_mask])\n",
    "results['same cell line']=\\\n",
    "            get_similarity_values_for_mask(similarity,[cell_mask])\n",
    "results['same cell line\\nshared MoA, non-toxic']=\\\n",
    "            get_similarity_values_for_mask(similarity,[cell_mask,moa_mask,non_tox_mask])\n",
    "results['same cell line\\ndifferent MoA, toxic']=\\\n",
    "            get_similarity_values_for_mask(similarity,[cell_mask,~moa_mask,tox_mask])"
   ]
  },
  {
   "cell_type": "code",
   "execution_count": 100,
   "metadata": {
    "collapsed": false
   },
   "outputs": [
    {
     "name": "stdout",
     "output_type": "stream",
     "text": [
      "all 0.00864599021917\n",
      "shared MoA, non-toxic 0.0238571031626\n",
      "different MoA, toxic 0.0618878291007\n",
      "same cell line 0.0142770425259\n",
      "same cell line\n",
      "shared MoA, non-toxic 0.0586367378665\n",
      "same cell line\n",
      "different MoA, toxic 0.0919060525154\n"
     ]
    }
   ],
   "source": [
    "for group in ['all','shared MoA, non-toxic','different MoA, toxic',\n",
    "             'same cell line','same cell line\\nshared MoA, non-toxic','same cell line\\ndifferent MoA, toxic']:\n",
    "    print(group,np.median(results[group]))"
   ]
  },
  {
   "cell_type": "markdown",
   "metadata": {},
   "source": [
    "If we remove genes with high (absolute) correlation with cell viability from the signatures, we get better results."
   ]
  },
  {
   "cell_type": "code",
   "execution_count": 123,
   "metadata": {
    "collapsed": true
   },
   "outputs": [],
   "source": [
    "gene_correlations=pd.read_table('../results/functional/achilles_cors_lm.csv',\n",
    "                               sep=',',header=0,index_col=[0])\n",
    "gene_correlations.index=gene_correlations.index.astype(str)\n",
    "gene_correlations['abs_Person_r']=np.abs(gene_correlations['Pearson_r'])\n",
    "gene_correlations=gene_correlations['abs_Person_r']\n",
    "gene_correlations=gene_correlations.sort_values(ascending=False)\n",
    "#lets remove top 800 genes\n",
    "genes=gene_correlations.index[100:]"
   ]
  },
  {
   "cell_type": "code",
   "execution_count": 124,
   "metadata": {
    "collapsed": true
   },
   "outputs": [],
   "source": [
    "similarity=pd.DataFrame(scor(signatures[genes].T)[0],index=signatures.index,\n",
    "                        columns=signatures.index)"
   ]
  },
  {
   "cell_type": "code",
   "execution_count": 125,
   "metadata": {
    "collapsed": true,
    "deletable": true,
    "editable": true
   },
   "outputs": [],
   "source": [
    "results={}\n",
    "results['all']=\\\n",
    "            get_similarity_values_for_mask(similarity)\n",
    "results['shared MoA, non-toxic']=\\\n",
    "            get_similarity_values_for_mask(similarity,[moa_mask,non_tox_mask])\n",
    "results['different MoA, toxic']=\\\n",
    "            get_similarity_values_for_mask(similarity,[~moa_mask,tox_mask])\n",
    "results['same cell line']=\\\n",
    "            get_similarity_values_for_mask(similarity,[cell_mask])\n",
    "results['same cell line\\nshared MoA, non-toxic']=\\\n",
    "            get_similarity_values_for_mask(similarity,[cell_mask,moa_mask,non_tox_mask])\n",
    "results['same cell line\\ndifferent MoA, toxic']=\\\n",
    "            get_similarity_values_for_mask(similarity,[cell_mask,~moa_mask,tox_mask])"
   ]
  },
  {
   "cell_type": "code",
   "execution_count": 126,
   "metadata": {
    "collapsed": false
   },
   "outputs": [
    {
     "name": "stdout",
     "output_type": "stream",
     "text": [
      "all 0.00892661375528\n",
      "shared MoA, non-toxic 0.0232352739861\n",
      "different MoA, toxic 0.0461432067738\n",
      "same cell line 0.0146057020523\n",
      "same cell line\n",
      "shared MoA, non-toxic 0.0574347370672\n",
      "same cell line\n",
      "different MoA, toxic 0.0743781121747\n"
     ]
    }
   ],
   "source": [
    "for group in ['all','shared MoA, non-toxic','different MoA, toxic',\n",
    "             'same cell line','same cell line\\nshared MoA, non-toxic','same cell line\\ndifferent MoA, toxic']:\n",
    "    print(group,np.median(results[group]))"
   ]
  },
  {
   "cell_type": "markdown",
   "metadata": {},
   "source": [
    "As an alternative strategy, we can try to regress out the effect of cell viaiblity from gene expression signatures."
   ]
  },
  {
   "cell_type": "code",
   "execution_count": 135,
   "metadata": {
    "collapsed": false
   },
   "outputs": [],
   "source": [
    "signatures_residuals=pd.DataFrame(index=signatures.index,columns=signatures.columns)\n",
    "model=LinearRegression()\n",
    "for gene in signatures.columns:\n",
    "    model.fit(sig_info['cpd_avg_pv'].values.reshape(-1, 1),signatures[gene])\n",
    "    y_pr=model.predict(sig_info['cpd_avg_pv'].values.reshape(-1, 1))\n",
    "    signatures_residuals[gene]=signatures[gene]-y_pr"
   ]
  },
  {
   "cell_type": "code",
   "execution_count": 136,
   "metadata": {
    "collapsed": true
   },
   "outputs": [],
   "source": [
    "similarity=pd.DataFrame(scor(signatures_residuals.T)[0],index=signatures.index,\n",
    "                        columns=signatures.index)"
   ]
  },
  {
   "cell_type": "code",
   "execution_count": 137,
   "metadata": {
    "collapsed": true
   },
   "outputs": [],
   "source": [
    "results={}\n",
    "results['all']=\\\n",
    "            get_similarity_values_for_mask(similarity)\n",
    "results['shared MoA, non-toxic']=\\\n",
    "            get_similarity_values_for_mask(similarity,[moa_mask,non_tox_mask])\n",
    "results['different MoA, toxic']=\\\n",
    "            get_similarity_values_for_mask(similarity,[~moa_mask,tox_mask])\n",
    "results['same cell line']=\\\n",
    "            get_similarity_values_for_mask(similarity,[cell_mask])\n",
    "results['same cell line\\nshared MoA, non-toxic']=\\\n",
    "            get_similarity_values_for_mask(similarity,[cell_mask,moa_mask,non_tox_mask])\n",
    "results['same cell line\\ndifferent MoA, toxic']=\\\n",
    "            get_similarity_values_for_mask(similarity,[cell_mask,~moa_mask,tox_mask])"
   ]
  },
  {
   "cell_type": "code",
   "execution_count": 138,
   "metadata": {
    "collapsed": false
   },
   "outputs": [
    {
     "name": "stdout",
     "output_type": "stream",
     "text": [
      "all 0.0132307759468\n",
      "shared MoA, non-toxic 0.0352801449641\n",
      "different MoA, toxic -0.0027687964642\n",
      "same cell line 0.0171491058606\n",
      "same cell line\n",
      "shared MoA, non-toxic 0.0677727386609\n",
      "same cell line\n",
      "different MoA, toxic 0.0312516722739\n"
     ]
    }
   ],
   "source": [
    "for group in ['all','shared MoA, non-toxic','different MoA, toxic',\n",
    "             'same cell line','same cell line\\nshared MoA, non-toxic','same cell line\\ndifferent MoA, toxic']:\n",
    "    print(group,np.median(results[group]))"
   ]
  },
  {
   "cell_type": "markdown",
   "metadata": {},
   "source": [
    "We can also \"simulate\" MoA identification process, i.e. how well can we identify compounds with shared MoA based on signature similarity. For this we will use consensus signatures for each compunds in our CTRP dataset."
   ]
  },
  {
   "cell_type": "code",
   "execution_count": 226,
   "metadata": {
    "collapsed": true
   },
   "outputs": [],
   "source": [
    "# just for consensus signature calculation\n",
    "LM_GENES=gene_correlations.index\n",
    "def calc_MODZ(data):\n",
    "    \"\"\"calculates MODZ based on the original CMAP/L1000 study\n",
    "    use only lm genes for MODZ calculation! Uses LM_GENES global\n",
    "    variable.\"\"\"\n",
    "    if len(data)==1:\n",
    "        return data\n",
    "    if len(data)==2:\n",
    "        return np.mean(data,0)\n",
    "    else:\n",
    "        CM=scor(data[LM_GENES].T)[0]\n",
    "        fil=CM<0\n",
    "        CM[fil]=0.01\n",
    "        weights=np.sum(CM,1)-1\n",
    "        weights=weights/np.sum(weights)\n",
    "        weights=weights.reshape((-1,1))\n",
    "        return pd.Series(np.dot(data.T,weights).reshape((-1,1)[0]),index=data.columns)"
   ]
  },
  {
   "cell_type": "code",
   "execution_count": 157,
   "metadata": {
    "collapsed": false
   },
   "outputs": [],
   "source": [
    "consensus_signatures=pd.DataFrame(index=list(set(sig_info['pert_id'])),columns=signatures.columns)\n",
    "for cpd in list(set(sig_info['pert_id'])):\n",
    "    indexes=list(sig_info.index[sig_info['pert_id']==cpd])\n",
    "    consensus_signatures.loc[cpd]=calc_MODZ(signatures.loc[indexes]).values"
   ]
  },
  {
   "cell_type": "code",
   "execution_count": 160,
   "metadata": {
    "collapsed": false
   },
   "outputs": [],
   "source": [
    "similarity=pd.DataFrame(scor(consensus_signatures.T)[0],index=consensus_signatures.index,\n",
    "                        columns=consensus_signatures.index)"
   ]
  },
  {
   "cell_type": "code",
   "execution_count": 167,
   "metadata": {
    "collapsed": false
   },
   "outputs": [],
   "source": [
    "shared_moa=shared_moa.loc[similarity.index,similarity.columns]"
   ]
  },
  {
   "cell_type": "code",
   "execution_count": 168,
   "metadata": {
    "collapsed": true
   },
   "outputs": [],
   "source": [
    "y_pr=similarity.values[np.triu_indices(len(similarity),1)]\n",
    "y_tr=shared_moa.values[np.triu_indices(len(similarity),1)]"
   ]
  },
  {
   "cell_type": "code",
   "execution_count": 178,
   "metadata": {
    "collapsed": false
   },
   "outputs": [
    {
     "name": "stdout",
     "output_type": "stream",
     "text": [
      "0.635071428675 0.0657134601888\n"
     ]
    }
   ],
   "source": [
    "fpr,tpr,dummy=ROC(y_tr,y_pr)\n",
    "pre,rec,dummy=PRC(y_tr,y_pr)\n",
    "print (AUC(fpr,tpr),AUC(rec,pre))"
   ]
  },
  {
   "cell_type": "code",
   "execution_count": 231,
   "metadata": {
    "collapsed": true
   },
   "outputs": [],
   "source": [
    "consensus_signatures=pd.DataFrame(index=list(set(sig_info['pert_id'])),columns=signatures.columns)\n",
    "for cpd in list(set(sig_info['pert_id'])):\n",
    "    indexes=list(sig_info.index[sig_info['pert_id']==cpd])\n",
    "    consensus_signatures.loc[cpd]=calc_MODZ(signatures_residuals.loc[indexes]).values\n",
    "similarity=pd.DataFrame(scor(consensus_signatures.T)[0],index=consensus_signatures.index,\n",
    "                        columns=consensus_signatures.index)\n",
    "shared_moa=shared_moa.loc[similarity.index,similarity.columns]\n",
    "y_pr=similarity.values[np.triu_indices(len(similarity),1)]\n",
    "y_tr=shared_moa.values[np.triu_indices(len(similarity),1)]"
   ]
  },
  {
   "cell_type": "code",
   "execution_count": 232,
   "metadata": {
    "collapsed": false,
    "deletable": true,
    "editable": true
   },
   "outputs": [
    {
     "name": "stdout",
     "output_type": "stream",
     "text": [
      "0.630490590338 0.0562855646448\n"
     ]
    }
   ],
   "source": [
    "fpr,tpr,dummy=ROC(y_tr,y_pr)\n",
    "pre,rec,dummy=PRC(y_tr,y_pr)\n",
    "print (AUC(fpr,tpr),AUC(rec,pre))"
   ]
  },
  {
   "cell_type": "code",
   "execution_count": 233,
   "metadata": {
    "collapsed": false
   },
   "outputs": [],
   "source": [
    "genes=gene_correlations.index[700:]\n",
    "LM_GENES=genes\n",
    "consensus_signatures=pd.DataFrame(index=list(set(sig_info['pert_id'])),columns=genes)\n",
    "for cpd in list(set(sig_info['pert_id'])):\n",
    "    indexes=list(sig_info.index[sig_info['pert_id']==cpd])\n",
    "    consensus_signatures.loc[cpd]=calc_MODZ(signatures.loc[indexes,genes]).values\n",
    "similarity=pd.DataFrame(scor(consensus_signatures.T)[0],index=consensus_signatures.index,\n",
    "                        columns=consensus_signatures.index)\n",
    "shared_moa=shared_moa.loc[similarity.index,similarity.columns]\n",
    "y_pr=similarity.values[np.triu_indices(len(similarity),1)]\n",
    "y_tr=shared_moa.values[np.triu_indices(len(similarity),1)]"
   ]
  },
  {
   "cell_type": "code",
   "execution_count": 234,
   "metadata": {
    "collapsed": false
   },
   "outputs": [
    {
     "name": "stdout",
     "output_type": "stream",
     "text": [
      "0.712755544397 0.0946382007184\n"
     ]
    }
   ],
   "source": [
    "fpr,tpr,dummy=ROC(y_tr,y_pr)\n",
    "pre,rec,dummy=PRC(y_tr,y_pr)\n",
    "print (AUC(fpr,tpr),AUC(rec,pre))"
   ]
  },
  {
   "cell_type": "code",
   "execution_count": 235,
   "metadata": {
    "collapsed": false
   },
   "outputs": [
    {
     "data": {
      "text/plain": [
       "(278,)"
      ]
     },
     "execution_count": 235,
     "metadata": {},
     "output_type": "execute_result"
    }
   ],
   "source": [
    "calc_MODZ(signatures.loc[indexes,genes]).shape"
   ]
  },
  {
   "cell_type": "code",
   "execution_count": 239,
   "metadata": {
    "collapsed": false
   },
   "outputs": [
    {
     "data": {
      "text/plain": [
       "[<matplotlib.lines.Line2D at 0x1568265f8>]"
      ]
     },
     "execution_count": 239,
     "metadata": {},
     "output_type": "execute_result"
    },
    {
     "data": {
      "image/png": "[encoded data removed]",
      "text/plain": [
       "<matplotlib.figure.Figure at 0x14b1bb4a8>"
      ]
     },
     "metadata": {},
     "output_type": "display_data"
    }
   ],
   "source": [
    "plt.plot(rec,pre)"
   ]
  },
  {
   "cell_type": "code",
   "execution_count": 237,
   "metadata": {
    "collapsed": false
   },
   "outputs": [
    {
     "data": {
      "text/plain": [
       "0.012832779872797883"
      ]
     },
     "execution_count": 237,
     "metadata": {},
     "output_type": "execute_result"
    }
   ],
   "source": [
    "sum(y_tr)/len(y_tr)"
   ]
  },
  {
   "cell_type": "code",
   "execution_count": null,
   "metadata": {
    "collapsed": true
   },
   "outputs": [],
   "source": []
  }
 ],
 "metadata": {
  "kernelspec": {
   "display_name": "Python 3",
   "language": "python",
   "name": "python3"
  },
  "language_info": {
   "codemirror_mode": {
    "name": "ipython",
    "version": 3
   },
   "file_extension": ".py",
   "mimetype": "text/x-python",
   "name": "python",
   "nbconvert_exporter": "python",
   "pygments_lexer": "ipython3",
   "version": "3.5.2"
  }
 },
 "nbformat": 4,
 "nbformat_minor": 2
}
