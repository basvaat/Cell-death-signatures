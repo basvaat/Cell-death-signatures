{
 "cells": [
  {
   "cell_type": "code",
   "execution_count": 1,
   "metadata": {
    "collapsed": true,
    "deletable": true,
    "editable": true
   },
   "outputs": [],
   "source": [
    "import pandas as pd\n",
    "import numpy as np\n",
    "import pickle\n",
    "from cmapPy.pandasGEXpress.parse import parse\n",
    "\n",
    "from matplotlib import pyplot as plt\n",
    "import seaborn as sns\n",
    "sns.set_style('whitegrid')\n",
    "%matplotlib inline"
   ]
  },
  {
   "cell_type": "markdown",
   "metadata": {
    "deletable": true,
    "editable": true
   },
   "source": [
    "## Predicting cell viability for the whole LINCS-L1000 study\n",
    "Using our previously built models, we will predict cell viaiblity for the whole LINCS-L1000 study."
   ]
  },
  {
   "cell_type": "code",
   "execution_count": 46,
   "metadata": {
    "collapsed": true,
    "deletable": true,
    "editable": true
   },
   "outputs": [],
   "source": [
    "#we load the previously pickled models\n",
    "fin=open('../results/model/final_models/ctrp.pkl','rb')\n",
    "model_ctrp=pickle.load(fin)\n",
    "fin.close()\n",
    "fin=open('../results/model/final_models/achilles.pkl','rb')\n",
    "model_achilles=pickle.load(fin)\n",
    "fin.close()"
   ]
  },
  {
   "cell_type": "code",
   "execution_count": 47,
   "metadata": {
    "collapsed": false,
    "deletable": true,
    "editable": true
   },
   "outputs": [],
   "source": [
    "#we have to use the same order of genes as in our models, so we load this gene order\n",
    "signatures_ctrp=pd.read_table('../results/CTRP/signatures_merged_lm.csv',\n",
    "                            sep=',',header=0,index_col=[0])\n",
    "signatures_achilles=pd.read_table('../results/Achilles/signatures_merged_lm.csv',\n",
    "                            sep=',',header=0,index_col=[0])\n",
    "assert np.sum(signatures_achilles.columns!=signatures_ctrp.columns)==0\n",
    "gene_order=signatures_achilles.columns\n",
    "del signatures_ctrp\n",
    "del signatures_achilles"
   ]
  },
  {
   "cell_type": "code",
   "execution_count": 34,
   "metadata": {
    "collapsed": false,
    "deletable": true,
    "editable": true
   },
   "outputs": [],
   "source": [
    "# let's start with GSE92742\n",
    "sig_info=pd.read_table('../data/LINCS/GSE92742/GSE92742_Broad_LINCS_sig_info.txt',\n",
    "                       sep='\\t',header=0,index_col=[0],low_memory=False)\n",
    "# columns to store predicted values\n",
    "sig_info['Achilles_prediction']=0 \n",
    "sig_info['CTRP_prediction']=0"
   ]
  },
  {
   "cell_type": "code",
   "execution_count": 35,
   "metadata": {
    "collapsed": false,
    "deletable": true,
    "editable": true
   },
   "outputs": [
    {
     "name": "stdout",
     "output_type": "stream",
     "text": [
      "0\n",
      "1\n",
      "2\n",
      "3\n",
      "4\n",
      "5\n",
      "6\n",
      "7\n",
      "8\n",
      "9\n",
      "10\n",
      "11\n",
      "12\n",
      "13\n",
      "14\n",
      "15\n",
      "16\n",
      "17\n",
      "18\n",
      "19\n",
      "20\n",
      "21\n",
      "22\n",
      "23\n",
      "24\n",
      "25\n",
      "26\n",
      "27\n",
      "28\n",
      "29\n",
      "30\n",
      "31\n",
      "32\n",
      "33\n",
      "34\n",
      "35\n",
      "36\n",
      "37\n",
      "38\n",
      "39\n",
      "40\n",
      "41\n",
      "42\n",
      "43\n",
      "44\n",
      "45\n",
      "46\n",
      "47\n"
     ]
    }
   ],
   "source": [
    "#as reading in all ~400,000 signatures would be too memory consuming, we will do it batches\n",
    "for i in range(sig_info.shape[0]//10000+1):\n",
    "    print(i)\n",
    "    a=range(i*10000,(i+1)*10000)\n",
    "    if a[-1]>=sig_info.shape[0]:\n",
    "        a=range(i*10000,sig_info.shape[0])\n",
    "    sig_ids=sig_info.index[a]\n",
    "    signatures=parse('../data/LINCS/GSE92742/GSE92742_Broad_LINCS_Level5_COMPZ.MODZ_n473647x12328.gctx', \n",
    "                          cid=sig_ids,rid=gene_order)\n",
    "    signatures=signatures.data_df.T.loc[sig_ids,gene_order]\n",
    "    sig_info.loc[sig_ids,'Achilles_prediction']=model_achilles.predict(signatures)\n",
    "    sig_info.loc[sig_ids,'CTRP_prediction']=model_ctrp.predict(signatures)\n",
    "sig_info.to_csv('../results/predictions/GSE92742_pred.csv')"
   ]
  },
  {
   "cell_type": "code",
   "execution_count": 48,
   "metadata": {
    "collapsed": false,
    "deletable": true,
    "editable": true
   },
   "outputs": [
    {
     "name": "stdout",
     "output_type": "stream",
     "text": [
      "0\n",
      "1\n",
      "2\n",
      "3\n",
      "4\n",
      "5\n",
      "6\n",
      "7\n",
      "8\n",
      "9\n",
      "10\n",
      "11\n"
     ]
    }
   ],
   "source": [
    "#and continue with GSE70138\n",
    "sig_info=pd.read_table('../data/LINCS/GSE70138/GSE70138_Broad_LINCS_sig_info.txt',\n",
    "                       sep='\\t',header=0,index_col=[0],low_memory=False)\n",
    "# columns to store predicted values\n",
    "sig_info['Achilles_prediction']=0 \n",
    "sig_info['CTRP_prediction']=0\n",
    "for i in range(sig_info.shape[0]//10000+1):\n",
    "    print(i)\n",
    "    a=range(i*10000,(i+1)*10000)\n",
    "    if a[-1]>=sig_info.shape[0]:\n",
    "        a=range(i*10000,sig_info.shape[0])\n",
    "    sig_ids=sig_info.index[a]\n",
    "    signatures=parse('../data/LINCS/GSE70138/GSE70138_Broad_LINCS_Level5_COMPZ_n118050x12328.gctx', \n",
    "                          cid=sig_ids,rid=gene_order)\n",
    "    signatures=signatures.data_df.T.loc[sig_ids,gene_order]\n",
    "    sig_info.loc[sig_ids,'Achilles_prediction']=model_achilles.predict(signatures)\n",
    "    sig_info.loc[sig_ids,'CTRP_prediction']=model_ctrp.predict(signatures)\n",
    "sig_info.to_csv('../results/predictions/GSE70138_pred.csv')"
   ]
  },
  {
   "cell_type": "code",
   "execution_count": 53,
   "metadata": {
    "collapsed": false,
    "deletable": true,
    "editable": true
   },
   "outputs": [],
   "source": [
    "#mergeing GSE70138 and GSE92742\n",
    "gse92742=pd.read_table('../results/predictions/GSE92742_pred.csv',\n",
    "                       sep=',',header=0,index_col=[0],low_memory=False)\n",
    "gse70138=pd.read_table('../results/predictions/GSE70138_pred.csv',\n",
    "                      sep=',',header=0,index_col=[0],low_memory=False)\n",
    "gse92742=gse92742[['pert_id','pert_iname','pert_type','cell_id','pert_idose','pert_itime',\n",
    "                  'Achilles_prediction','CTRP_prediction']]\n",
    "gse70138=gse70138[['pert_id','pert_iname','pert_type','cell_id','pert_idose','pert_itime',\n",
    "                  'Achilles_prediction','CTRP_prediction']]\n",
    "gse92742['pert_idose']=gse92742['pert_idose'].apply(lambda x:x.replace('?','u'))\n",
    "merged=pd.concat([gse92742,gse70138])\n",
    "merged.to_csv('../results/predictions/merged_pred.csv',sep=',')"
   ]
  },
  {
   "cell_type": "markdown",
   "metadata": {
    "collapsed": true,
    "deletable": true,
    "editable": true
   },
   "source": [
    "## Predicting cell viability for NCI60\n",
    "Using our previously built models, we predict cell viaiblities for compounds in NCI60.\n",
    "\n",
    "At first we have to match NCI60 and LINCS instances."
   ]
  },
  {
   "cell_type": "code",
   "execution_count": 12,
   "metadata": {
    "collapsed": true,
    "deletable": true,
    "editable": true
   },
   "outputs": [],
   "source": [
    "fname='CANCER60GI50.LST'"
   ]
  },
  {
   "cell_type": "code",
   "execution_count": 13,
   "metadata": {
    "collapsed": true,
    "deletable": true,
    "editable": true
   },
   "outputs": [],
   "source": [
    "#just some helper function\n",
    "def remove_space(x):\n",
    "    if x[-1]==' ':\n",
    "        return x[:-1]\n",
    "    else:\n",
    "        return x"
   ]
  },
  {
   "cell_type": "code",
   "execution_count": 38,
   "metadata": {
    "collapsed": false,
    "deletable": true,
    "editable": true
   },
   "outputs": [],
   "source": [
    "def match_prediction_with_nci60(fname):\n",
    "    \"\"\"matches NCI60 drug sensitivity data with LINCS-L1000 predictions (and also CTRP data)\"\"\"\n",
    "    #read id matching\n",
    "    fin=open('../data/NCI60/BRD_NSC_match.pkl','rb')\n",
    "    id_match=pickle.load(fin,encoding='latin1')\n",
    "    fin.close()\n",
    "    nscs=[]\n",
    "    for brd in id_match:\n",
    "        nscs+=id_match[brd]\n",
    "    nscs=list(set(nscs))\n",
    "    #match cell lines\n",
    "    cell_match=pd.read_table('../data/NCI60/NCI60_CTRP_cell_matching.csv',sep=',',header=0,index_col=[0])\n",
    "    cell_match['NCI60']=cell_match['NCI60'].apply(remove_space)\n",
    "    fil=~pd.isnull(cell_match['CTRP'])\n",
    "    cell_match=cell_match[fil]\n",
    "    #read the actual NCI60 data\n",
    "    nci60=pd.read_table('../data/NCI60/'+fname, sep=',',header=0,index_col=None)\n",
    "    fil=np.in1d(nci60['NSC'],nscs)\n",
    "    nci60=nci60[fil]\n",
    "    nci60['CELL']=nci60['CELL'].apply(remove_space)\n",
    "    fil=np.in1d(nci60['CELL'],cell_match['NCI60'])\n",
    "    nci60=nci60[fil]\n",
    "    response=nci60.columns[-4]\n",
    "    nci60=nci60.loc[:,['NSC','LCONC','CELL',response]]\n",
    "    #delta is the difference between maximal concentration and effective concentration\n",
    "    nci60['DELTA']=-nci60[response]-nci60['LCONC']\n",
    "    #getting l1000 data\n",
    "    l1000pred=pd.read_table('../results/predictions/merged_pred.csv',sep=',',header=0,index_col=[0],low_memory=False)\n",
    "    fil=l1000pred['pert_itime']=='24 h'\n",
    "    l1000pred=l1000pred[fil]\n",
    "    fil=np.in1d(l1000pred['pert_id'],list(id_match.keys()))\n",
    "    l1000pred=l1000pred[fil]\n",
    "    fil=np.in1d(l1000pred['cell_id'],cell_match['CTRP'])\n",
    "    l1000pred=l1000pred[fil]\n",
    "    cell_match.index=cell_match['CTRP']\n",
    "    cell_match=cell_match['NCI60']\n",
    "    l1000pred['cell_id']=cell_match[l1000pred['cell_id']].values\n",
    "    l1000mins=l1000pred.drop_duplicates(['cell_id','pert_id']).loc[:,['cell_id','pert_id',\n",
    "                                                                          'CTRP_prediction','Achilles_prediction']]\n",
    "    l1000mins.index=range(len(l1000mins.index))\n",
    "    for i in l1000mins.index:\n",
    "            cell,pert=l1000mins.loc[i,['cell_id','pert_id']]\n",
    "            fil=(l1000pred['cell_id']==cell)&(l1000pred['pert_id']==pert)\n",
    "            l1000mins.loc[i,['CTRP_prediction','Achilles_prediction']]=np.min(l1000pred[fil].loc[:,['CTRP_prediction','Achilles_prediction']])\n",
    "    #make reverse ID dict\n",
    "    rev_id_match={}\n",
    "    for l in id_match:\n",
    "        for n in id_match[l]:\n",
    "            try:\n",
    "                rev_id_match[n].append(l)\n",
    "            except KeyError:\n",
    "                rev_id_match[n]=[l]\n",
    "    #match l1000 with nci60\n",
    "    fil=np.in1d(nci60['CELL'],l1000mins['cell_id'])\n",
    "    indexes=nci60.index[fil]\n",
    "    nci60['CTRP_prediction']=np.nan\n",
    "    nci60['Achilles_prediction']=np.nan\n",
    "    for i in indexes:\n",
    "        nsc,cell=nci60.loc[i,['NSC','CELL']]\n",
    "        brd=rev_id_match[nsc]\n",
    "        fil=np.in1d(l1000mins['pert_id'],brd)&(l1000mins['cell_id']==cell)\n",
    "        if sum(fil)>0:\n",
    "            nci60.loc[i,['CTRP_prediction','Achilles_prediction']]=np.mean(l1000mins[fil].loc[:,['CTRP_prediction','Achilles_prediction']])\n",
    "    fil=~pd.isnull(nci60['CTRP_prediction'])\n",
    "    nci60=nci60[fil]\n",
    "    #match with ctrp\n",
    "    ctrp=pd.read_table('../results/CTRP/ctrp_DR.csv',sep=',',header=0,index_col=[0])\n",
    "    fil=np.in1d(ctrp['broad_cpd_id'],list(id_match.keys()))\n",
    "    ctrp=ctrp[fil]\n",
    "    fil=np.in1d(ctrp['ccl_name'],cell_match.index)\n",
    "    ctrp=ctrp[fil]       \n",
    "    ctrp['ccl_name']=cell_match[ctrp['ccl_name']].values\n",
    "    nci60['pred_pv_high_conc']=np.nan\n",
    "    nci60['area_under_curve']=np.nan\n",
    "    for i in nci60.index:\n",
    "        nsc,cell=nci60.loc[i,['NSC','CELL']]\n",
    "        brd=rev_id_match[nsc]\n",
    "        fil=np.in1d(ctrp['broad_cpd_id'],brd)&(ctrp['ccl_name']==cell)\n",
    "        if sum(fil)>0:\n",
    "            nci60.loc[i,['pred_pv_high_conc','area_under_curve']]=np.mean(ctrp[fil].loc[:,['pred_pv_high_conc','area_under_curve']])\n",
    "    nci60.to_csv('../results/NCI60/'+fname[:-4]+'_validation.csv',sep=',')"
   ]
  },
  {
   "cell_type": "code",
   "execution_count": 40,
   "metadata": {
    "collapsed": false,
    "deletable": true,
    "editable": true
   },
   "outputs": [],
   "source": [
    "# we do this for different drug metrics from NCI60\n",
    "for fname in ['CANCER60GI50.LST','CANCER60LC50.LST','CANCER60TGI.LST']:\n",
    "    match_prediction_with_nci60(fname)"
   ]
  },
  {
   "cell_type": "markdown",
   "metadata": {
    "deletable": true,
    "editable": true
   },
   "source": [
    "Now we will select maximal concentration instances for each compound, and select the maximal (less toxic) and minimal (most toxic) cell viability values from them (these are obviously coming from different cell lines). These help us to get a general insight about our predictions."
   ]
  },
  {
   "cell_type": "code",
   "execution_count": 67,
   "metadata": {
    "collapsed": false,
    "deletable": true,
    "editable": true
   },
   "outputs": [],
   "source": [
    "#read predicted values\n",
    "data=pd.read_csv('../results/predictions/merged_pred.csv',sep=',',header=0,index_col=0,low_memory=False)"
   ]
  },
  {
   "cell_type": "code",
   "execution_count": 68,
   "metadata": {
    "collapsed": false,
    "deletable": true,
    "editable": true
   },
   "outputs": [],
   "source": [
    "#filter for compounds and 24 h pertrubation\n",
    "fil=np.in1d(data['pert_type'],['trt_cp','trt_lig']) & (data['pert_itime']=='24 h')\n",
    "data=data[fil]"
   ]
  },
  {
   "cell_type": "code",
   "execution_count": 69,
   "metadata": {
    "collapsed": false,
    "deletable": true,
    "editable": true
   },
   "outputs": [],
   "source": [
    "#just some concentration conversations to be able to select highest concetration\n",
    "fil=data['pert_idose'].apply(lambda x:x.split()[1])=='ng/uL'\n",
    "#measured concentration in ng/uL\n",
    "data_ng=data[fil].copy()\n",
    "#measured concentration in nM / uM\n",
    "data_um=data[~fil].copy()\n",
    "data_um['cc']=data_um['pert_idose'].apply(lambda x:x.split()[0]).astype(float).values\n",
    "data_um['unit']=data_um['pert_idose'].apply(lambda x:x.split()[1]).values\n",
    "indexes=data_um.index[data_um['unit']=='nM']\n",
    "data_um.loc[indexes,'cc']=data_um.loc[indexes,'cc']/1000\n",
    "data_ng['cc']=data_ng['pert_idose'].apply(lambda x:x.split()[0]).astype(float).values"
   ]
  },
  {
   "cell_type": "code",
   "execution_count": 61,
   "metadata": {
    "collapsed": false,
    "deletable": true,
    "editable": true
   },
   "outputs": [],
   "source": [
    "#short ascending based on concentration, and keep first for each perturbation - cell pair - ie highest concentration\n",
    "data_ng=data_ng.sort_values('cc',ascending=False)\n",
    "data_ng=data_ng.drop_duplicates(['pert_iname','cell_id'],keep='first').copy()\n",
    "data_um=data_um.sort_values('cc',ascending=False)\n",
    "data_um=data_um.drop_duplicates(['pert_iname','cell_id'],keep='first').copy()"
   ]
  },
  {
   "cell_type": "code",
   "execution_count": 70,
   "metadata": {
    "collapsed": false
   },
   "outputs": [],
   "source": [
    "#keep only highest concentraion instances\n",
    "for comp in list(set(data_ng['pert_iname'])):\n",
    "    fil1=data_ng['pert_iname']==comp\n",
    "    fil2=data_ng[fil1]['cc']<np.max(data_ng[fil1]['cc'])\n",
    "    data_ng.loc[data_ng.index[fil1][fil2],'cc']=np.nan\n",
    "fil=~pd.isnull(data_ng['cc'])\n",
    "data_ng=data_ng[fil]\n",
    "for comp in list(set(data_um['pert_iname'])):\n",
    "    fil1=data_um['pert_iname']==comp\n",
    "    fil2=data_um[fil1]['cc']<np.max(data_um[fil1]['cc'])\n",
    "    data_um.loc[data_um.index[fil1][fil2],'cc']=np.nan   \n",
    "fil=~pd.isnull(data_um['cc'])\n",
    "data_um=data_um[fil]"
   ]
  },
  {
   "cell_type": "code",
   "execution_count": 76,
   "metadata": {
    "collapsed": false
   },
   "outputs": [],
   "source": [
    "data_um=data_um.groupby(['pert_iname','cell_id']).mean()\n",
    "data_um.reset_index(inplace=True)\n",
    "data_ng=data_ng.groupby(['pert_iname','cell_id']).mean()\n",
    "data_ng.reset_index(inplace=True)"
   ]
  },
  {
   "cell_type": "code",
   "execution_count": 77,
   "metadata": {
    "collapsed": false,
    "deletable": true,
    "editable": true
   },
   "outputs": [],
   "source": [
    "#select lowest and highest cell viaiblity\n",
    "data_ng=data_ng.sort_values('Achilles_prediction',ascending=False)\n",
    "data_ng_max=data_ng.drop_duplicates(['pert_iname'],keep='first').copy()\n",
    "data_ng_min=data_ng.drop_duplicates(['pert_iname'],keep='last').copy()\n",
    "data_ng_min=data_ng_min.sort_values(['pert_iname','cell_id'])\n",
    "data_ng_max=data_ng_max.sort_values(['pert_iname','cell_id'])\n",
    "data_um=data_um.sort_values('Achilles_prediction',ascending=False)\n",
    "data_um_max=data_um.drop_duplicates(['pert_iname'],keep='first').copy()\n",
    "data_um_min=data_um.drop_duplicates(['pert_iname'],keep='last').copy()\n",
    "data_um_min=data_um_min.sort_values(['pert_iname','cell_id'])\n",
    "data_um_max=data_um_max.sort_values(['pert_iname','cell_id'])\n",
    "for data in [data_ng_min,data_ng_max,data_um_min,data_um_max]:\n",
    "    data.index=range(len(data))"
   ]
  },
  {
   "cell_type": "code",
   "execution_count": 78,
   "metadata": {
    "collapsed": false,
    "deletable": true,
    "editable": true
   },
   "outputs": [],
   "source": [
    "#just check everything is fine with ordering\n",
    "assert np.sum(data_um_min['pert_iname']!=data_um_max['pert_iname'])==0\n",
    "assert np.sum(data_ng_min['pert_iname']!=data_ng_max['pert_iname'])==0"
   ]
  },
  {
   "cell_type": "code",
   "execution_count": 79,
   "metadata": {
    "collapsed": false,
    "deletable": true,
    "editable": true
   },
   "outputs": [],
   "source": [
    "results_um=pd.DataFrame(index=data_um_min.index,columns=['pert_iname','cell_max','cell_min','pred_max','pred_min'])\n",
    "results_um['pert_iname']=data_um_min['pert_iname']\n",
    "results_um['cell_max']=data_um_max['cell_id']\n",
    "results_um['cell_min']=data_um_min['cell_id']\n",
    "results_um['pred_max']=data_um_max['Achilles_prediction']\n",
    "results_um['pred_min']=data_um_min['Achilles_prediction']\n",
    "results_ng=pd.DataFrame(index=data_ng_min.index,columns=['pert_iname','cell_max','cell_min','pred_max','pred_min'])\n",
    "results_ng['pert_iname']=data_ng_min['pert_iname']\n",
    "results_ng['cell_max']=data_ng_max['cell_id']\n",
    "results_ng['cell_min']=data_ng_min['cell_id']\n",
    "results_ng['pred_max']=data_ng_max['Achilles_prediction']\n",
    "results_ng['pred_min']=data_ng_min['Achilles_prediction']"
   ]
  },
  {
   "cell_type": "code",
   "execution_count": 80,
   "metadata": {
    "collapsed": true,
    "deletable": true,
    "editable": true
   },
   "outputs": [],
   "source": [
    "results=pd.concat([results_um,results_ng],ignore_index=True)\n",
    "results.to_csv('../results/predictions/predicted_min_max.csv',sep=',')"
   ]
  },
  {
   "cell_type": "markdown",
   "metadata": {
    "deletable": true,
    "editable": true
   },
   "source": [
    "And we select the minimal predicted cell viability for VCAP, PC3 and other cell lines."
   ]
  },
  {
   "cell_type": "code",
   "execution_count": 244,
   "metadata": {
    "collapsed": true,
    "deletable": true,
    "editable": true
   },
   "outputs": [],
   "source": [
    "#read predicted values\n",
    "data=pd.read_csv('../results/predictions/merged_pred.csv',sep=',',header=0,index_col=0,low_memory=False)\n",
    "fil=np.in1d(data['pert_type'],['trt_cp','trt_lig'])\n",
    "data=data[fil]\n",
    "data=data.sort_values('Achilles_prediction')"
   ]
  },
  {
   "cell_type": "code",
   "execution_count": 245,
   "metadata": {
    "collapsed": true,
    "deletable": true,
    "editable": true
   },
   "outputs": [],
   "source": [
    "fil_vc=data['cell_id']=='VCAP'\n",
    "data_vcap=data[fil_vc].copy()\n",
    "data_vcap=data_vcap.drop_duplicates('pert_iname')\n",
    "\n",
    "fil_pc=data['cell_id']=='PC3'\n",
    "data_pc=data[fil_pc].copy()\n",
    "data_pc=data_pc.drop_duplicates('pert_iname')\n",
    "\n",
    "data_other=data[(~fil_pc)&(~fil_vc)].copy()\n",
    "data_other=data_other.drop_duplicates('pert_iname')"
   ]
  },
  {
   "cell_type": "code",
   "execution_count": 246,
   "metadata": {
    "collapsed": false,
    "deletable": true,
    "editable": true
   },
   "outputs": [],
   "source": [
    "#subset and order based on shared pert_inames\n",
    "pert_inames=list(set(data_vcap['pert_iname'])&set(data_pc['pert_iname'])&set(data_other['pert_iname']))\n",
    "\n",
    "fil=np.in1d(data_vcap['pert_iname'],pert_inames)\n",
    "data_vcap=data_vcap[fil]\n",
    "data_vcap=data_vcap.sort_values('pert_iname')\n",
    "\n",
    "fil=np.in1d(data_pc['pert_iname'],pert_inames)\n",
    "data_pc=data_pc[fil]\n",
    "data_pc=data_pc.sort_values('pert_iname')\n",
    "\n",
    "fil=np.in1d(data_other['pert_iname'],pert_inames)\n",
    "data_other=data_other[fil]\n",
    "data_other=data_other.sort_values('pert_iname')"
   ]
  },
  {
   "cell_type": "code",
   "execution_count": 247,
   "metadata": {
    "collapsed": false,
    "deletable": true,
    "editable": true
   },
   "outputs": [],
   "source": [
    "#check everything is right ordered\n",
    "assert np.sum(data_pc['pert_iname'].values!=data_vcap['pert_iname'].values)==0\n",
    "assert np.sum(data_pc['pert_iname'].values!=data_other['pert_iname'].values)==0"
   ]
  },
  {
   "cell_type": "code",
   "execution_count": 248,
   "metadata": {
    "collapsed": true,
    "deletable": true,
    "editable": true
   },
   "outputs": [],
   "source": [
    "results=pd.DataFrame(index=range(len(data_pc)),columns=['pert_iname','VCAP','PC3','Other'])\n",
    "results['pert_iname']=data_pc['pert_iname'].values\n",
    "results['VCAP']=data_vcap['Achilles_prediction'].values\n",
    "results['PC3']=data_pc['Achilles_prediction'].values\n",
    "results['Other']=data_other['Achilles_prediction'].values"
   ]
  },
  {
   "cell_type": "code",
   "execution_count": 249,
   "metadata": {
    "collapsed": true,
    "deletable": true,
    "editable": true
   },
   "outputs": [],
   "source": [
    "results.to_csv('../results/predictions/predicted_prostate.csv',sep=',')"
   ]
  }
 ],
 "metadata": {
  "kernelspec": {
   "display_name": "Python 3",
   "language": "python",
   "name": "python3"
  },
  "language_info": {
   "codemirror_mode": {
    "name": "ipython",
    "version": 3
   },
   "file_extension": ".py",
   "mimetype": "text/x-python",
   "name": "python",
   "nbconvert_exporter": "python",
   "pygments_lexer": "ipython3",
   "version": "3.5.2"
  }
 },
 "nbformat": 4,
 "nbformat_minor": 2
}
