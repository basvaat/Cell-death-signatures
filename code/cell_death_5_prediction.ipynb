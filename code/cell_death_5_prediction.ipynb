{
 "cells": [
  {
   "cell_type": "code",
   "execution_count": 11,
   "metadata": {
    "collapsed": true,
    "deletable": true,
    "editable": true
   },
   "outputs": [],
   "source": [
    "import pandas as pd\n",
    "import numpy as np\n",
    "import pickle\n",
    "from cmapPy.pandasGEXpress.parse import parse\n",
    "\n",
    "from matplotlib import pyplot as plt\n",
    "import seaborn as sns\n",
    "sns.set_style('whitegrid')\n",
    "%matplotlib inline"
   ]
  },
  {
   "cell_type": "markdown",
   "metadata": {
    "deletable": true,
    "editable": true
   },
   "source": [
    "## Predicting cell viability for the whole LINCS-L1000 study\n",
    "Using our previously built models, we will predict cell viaiblity for the whole LINCS-L1000 study."
   ]
  },
  {
   "cell_type": "code",
   "execution_count": 46,
   "metadata": {
    "collapsed": true,
    "deletable": true,
    "editable": true
   },
   "outputs": [],
   "source": [
    "#we load the previously pickled models\n",
    "fin=open('../results/model/final_models/ctrp.pkl','rb')\n",
    "model_ctrp=pickle.load(fin)\n",
    "fin.close()\n",
    "fin=open('../results/model/final_models/achilles.pkl','rb')\n",
    "model_achilles=pickle.load(fin)\n",
    "fin.close()"
   ]
  },
  {
   "cell_type": "code",
   "execution_count": 47,
   "metadata": {
    "collapsed": false,
    "deletable": true,
    "editable": true
   },
   "outputs": [],
   "source": [
    "#we have to use the same order of genes as in our models, so we load this gene order\n",
    "signatures_ctrp=pd.read_table('../results/CTRP/signatures_merged_lm.csv',\n",
    "                            sep=',',header=0,index_col=[0])\n",
    "signatures_achilles=pd.read_table('../results/Achilles/signatures_merged_lm.csv',\n",
    "                            sep=',',header=0,index_col=[0])\n",
    "assert np.sum(signatures_achilles.columns!=signatures_ctrp.columns)==0\n",
    "gene_order=signatures_achilles.columns\n",
    "del signatures_ctrp\n",
    "del signatures_achilles"
   ]
  },
  {
   "cell_type": "code",
   "execution_count": 34,
   "metadata": {
    "collapsed": false,
    "deletable": true,
    "editable": true
   },
   "outputs": [],
   "source": [
    "# let's start with GSE92742\n",
    "sig_info=pd.read_table('../data/LINCS/GSE92742/GSE92742_Broad_LINCS_sig_info.txt',\n",
    "                       sep='\\t',header=0,index_col=[0],low_memory=False)\n",
    "# columns to store predicted values\n",
    "sig_info['Achilles_prediction']=0 \n",
    "sig_info['CTRP_prediction']=0"
   ]
  },
  {
   "cell_type": "code",
   "execution_count": 35,
   "metadata": {
    "collapsed": false,
    "deletable": true,
    "editable": true
   },
   "outputs": [
    {
     "name": "stdout",
     "output_type": "stream",
     "text": [
      "0\n",
      "1\n",
      "2\n",
      "3\n",
      "4\n",
      "5\n",
      "6\n",
      "7\n",
      "8\n",
      "9\n",
      "10\n",
      "11\n",
      "12\n",
      "13\n",
      "14\n",
      "15\n",
      "16\n",
      "17\n",
      "18\n",
      "19\n",
      "20\n",
      "21\n",
      "22\n",
      "23\n",
      "24\n",
      "25\n",
      "26\n",
      "27\n",
      "28\n",
      "29\n",
      "30\n",
      "31\n",
      "32\n",
      "33\n",
      "34\n",
      "35\n",
      "36\n",
      "37\n",
      "38\n",
      "39\n",
      "40\n",
      "41\n",
      "42\n",
      "43\n",
      "44\n",
      "45\n",
      "46\n",
      "47\n"
     ]
    }
   ],
   "source": [
    "#as reading in all ~400,000 signatures would be too memory consuming, we will do it batches\n",
    "for i in range(sig_info.shape[0]//10000+1):\n",
    "    print(i)\n",
    "    a=range(i*10000,(i+1)*10000)\n",
    "    if a[-1]>=sig_info.shape[0]:\n",
    "        a=range(i*10000,sig_info.shape[0])\n",
    "    sig_ids=sig_info.index[a]\n",
    "    signatures=parse('../data/LINCS/GSE92742/GSE92742_Broad_LINCS_Level5_COMPZ.MODZ_n473647x12328.gctx', \n",
    "                          cid=sig_ids,rid=gene_order)\n",
    "    signatures=signatures.data_df.T.loc[sig_ids,gene_order]\n",
    "    sig_info.loc[sig_ids,'Achilles_prediction']=model_achilles.predict(signatures)\n",
    "    sig_info.loc[sig_ids,'CTRP_prediction']=model_ctrp.predict(signatures)\n",
    "sig_info.to_csv('../results/predictions/GSE92742_pred.csv')"
   ]
  },
  {
   "cell_type": "code",
   "execution_count": 48,
   "metadata": {
    "collapsed": false
   },
   "outputs": [
    {
     "name": "stdout",
     "output_type": "stream",
     "text": [
      "0\n",
      "1\n",
      "2\n",
      "3\n",
      "4\n",
      "5\n",
      "6\n",
      "7\n",
      "8\n",
      "9\n",
      "10\n",
      "11\n"
     ]
    }
   ],
   "source": [
    "#and continue with GSE70138\n",
    "sig_info=pd.read_table('../data/LINCS/GSE70138/GSE70138_Broad_LINCS_sig_info.txt',\n",
    "                       sep='\\t',header=0,index_col=[0],low_memory=False)\n",
    "# columns to store predicted values\n",
    "sig_info['Achilles_prediction']=0 \n",
    "sig_info['CTRP_prediction']=0\n",
    "for i in range(sig_info.shape[0]//10000+1):\n",
    "    print(i)\n",
    "    a=range(i*10000,(i+1)*10000)\n",
    "    if a[-1]>=sig_info.shape[0]:\n",
    "        a=range(i*10000,sig_info.shape[0])\n",
    "    sig_ids=sig_info.index[a]\n",
    "    signatures=parse('../data/LINCS/GSE70138/GSE70138_Broad_LINCS_Level5_COMPZ_n118050x12328.gctx', \n",
    "                          cid=sig_ids,rid=gene_order)\n",
    "    signatures=signatures.data_df.T.loc[sig_ids,gene_order]\n",
    "    sig_info.loc[sig_ids,'Achilles_prediction']=model_achilles.predict(signatures)\n",
    "    sig_info.loc[sig_ids,'CTRP_prediction']=model_ctrp.predict(signatures)\n",
    "sig_info.to_csv('../results/predictions/GSE70138_pred.csv')"
   ]
  },
  {
   "cell_type": "code",
   "execution_count": 53,
   "metadata": {
    "collapsed": false
   },
   "outputs": [],
   "source": [
    "#mergeing GSE70138 and GSE92742\n",
    "gse92742=pd.read_table('../results/predictions/GSE92742_pred.csv',\n",
    "                       sep=',',header=0,index_col=[0],low_memory=False)\n",
    "gse70138=pd.read_table('../results/predictions/GSE70138_pred.csv',\n",
    "                      sep=',',header=0,index_col=[0],low_memory=False)\n",
    "gse92742=gse92742[['pert_id','pert_iname','pert_type','cell_id','pert_idose','pert_itime',\n",
    "                  'Achilles_prediction','CTRP_prediction']]\n",
    "gse70138=gse70138[['pert_id','pert_iname','pert_type','cell_id','pert_idose','pert_itime',\n",
    "                  'Achilles_prediction','CTRP_prediction']]\n",
    "gse92742['pert_idose']=gse92742['pert_idose'].apply(lambda x:x.replace('?','u'))\n",
    "merged=pd.concat([gse92742,gse70138])\n",
    "merged.to_csv('../results/predictions/merged_pred.csv',sep=',')"
   ]
  }
 ],
 "metadata": {
  "kernelspec": {
   "display_name": "Python 3",
   "language": "python",
   "name": "python3"
  },
  "language_info": {
   "codemirror_mode": {
    "name": "ipython",
    "version": 3
   },
   "file_extension": ".py",
   "mimetype": "text/x-python",
   "name": "python",
   "nbconvert_exporter": "python",
   "pygments_lexer": "ipython3",
   "version": "3.5.2"
  }
 },
 "nbformat": 4,
 "nbformat_minor": 2
}
