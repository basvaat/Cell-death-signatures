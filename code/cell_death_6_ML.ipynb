{
 "cells": [
  {
   "cell_type": "markdown",
   "metadata": {},
   "source": [
    "### Machine learning based drug sensitivity prediction\n",
    "We will predict drug sensitivity from the GDSC dataset using Random Forest Regression. At first we will create cell and drug specific features."
   ]
  },
  {
   "cell_type": "code",
   "execution_count": 155,
   "metadata": {
    "collapsed": true
   },
   "outputs": [],
   "source": [
    "import pandas as pd\n",
    "import numpy as np\n",
    "from subprocess import call\n",
    "import pickle"
   ]
  },
  {
   "cell_type": "code",
   "execution_count": 63,
   "metadata": {
    "collapsed": false
   },
   "outputs": [],
   "source": [
    "#histology\n",
    "data=pd.read_excel('../data/GDSC/Cell_Lines_Details.xlsx',sep=',',header=0,index_col=[0]).iloc[:-1,:]\n",
    "data['COSMIC identifier']=data['COSMIC identifier'].astype(int).astype(str)\n",
    "data.index=data['COSMIC identifier']\n",
    "features=list(set(data['GDSC\\nTissue descriptor 1'])|set(data['GDSC\\nTissue\\ndescriptor 2']))\n",
    "features=pd.DataFrame(0,index=data.index,columns=features)    \n",
    "for cosmic in features.index:\n",
    "    features.loc[cosmic,data.loc[cosmic,['GDSC\\nTissue descriptor 1','GDSC\\nTissue\\ndescriptor 2']]]=1\n",
    "features.T.to_csv('../data/GDSC/ML/cell_features/histology.csv',sep=',')   "
   ]
  },
  {
   "cell_type": "code",
   "execution_count": 64,
   "metadata": {
    "collapsed": true
   },
   "outputs": [],
   "source": [
    "#progeny features for pathway activity\n",
    "data=pd.read_csv('../data/GDSC/norm_gex.csv',sep=',',header=0,index_col=0)\n",
    "progeny=pd.read_csv('../data/Functional/PROGENy.csv',sep=',',header=0,index_col=0)\n",
    "genes=list(set(data.index)&set(progeny.index))\n",
    "progeny_scores=pd.DataFrame(np.dot(data.T[genes],progeny.loc[genes]),index=data.columns,columns=progeny.columns)\n",
    "progeny_scores.T.to_csv('../data/GDSC/ML/cell_features/progeny.csv',sep=',')"
   ]
  },
  {
   "cell_type": "code",
   "execution_count": 58,
   "metadata": {
    "collapsed": false
   },
   "outputs": [
    {
     "data": {
      "text/plain": [
       "0"
      ]
     },
     "execution_count": 58,
     "metadata": {},
     "output_type": "execute_result"
    }
   ],
   "source": [
    "#dorothea tf activities\n",
    "call(['Rscript','GDSC_TF_activity.R'])"
   ]
  },
  {
   "cell_type": "code",
   "execution_count": 101,
   "metadata": {
    "collapsed": false
   },
   "outputs": [],
   "source": [
    "#merge cell features\n",
    "progeny=pd.read_csv('../data/GDSC/ML/cell_features/progeny.csv',sep=',',header=0,index_col=0)\n",
    "dorothea=pd.read_csv('../data/GDSC/ML/cell_features/dorothea.csv',sep=',',header=0,index_col=0)\n",
    "dorothea.index=pd.Series(dorothea.index).apply(lambda x:x.split(' - ')[0]).values\n",
    "fil=pd.Series(dorothea.index).apply(lambda x:x[-1] in ['A','B']).values\n",
    "dorothea=dorothea[fil]\n",
    "dorothea.index=pd.Series(dorothea.index).apply(lambda x:x[:-2]).values\n",
    "histology=pd.read_csv('../data/GDSC/ML/cell_features/histology.csv',sep=',',header=0,index_col=0)\n",
    "cosmics=list(set(progeny.columns)&set(dorothea.columns)&set(histology.columns))\n",
    "progeny.index='PRO_'+pd.Series(progeny.index).values\n",
    "dorothea.index='TF_'+pd.Series(dorothea.index).values\n",
    "histology.index='HIST_'+pd.Series(histology.index).values\n",
    "progeny=progeny[cosmics]\n",
    "dorothea=dorothea[cosmics]\n",
    "histology=histology[cosmics]\n",
    "features=pd.concat([histology,progeny,dorothea]).T\n",
    "features.to_csv('../data/GDSC/ML/cell_features/cell_features.csv',sep=',')"
   ]
  },
  {
   "cell_type": "code",
   "execution_count": 154,
   "metadata": {
    "collapsed": false
   },
   "outputs": [],
   "source": [
    "#drug target and pathway\n",
    "data=pd.read_excel('../data/GDSC/Screened_Compounds.xlsx')\n",
    "data.index=data['DRUG_ID']\n",
    "targets=[]\n",
    "pathways=[]\n",
    "#correct some bad annotations\n",
    "correct={'HDAC1-10, EGFR, ERBB2':'HDAC1, HDAC2, HDAC3, HDAC6, HDAC8, EGFR, ERBB2',\n",
    "        'HDAC1 ':'HDAC1','HDAC,RAR':'HDAC1, RAR',\n",
    "        'HDAC inhibitor Class I, IIa, IIb, IV':'HDAC1, HDAC2, HDAC3, HDAC6, HDAC8',\n",
    "        'CDK1,CDK2,CDK5,CDK7,CDK9, PKC':'CDK1, CDK2, CDK5, CDK7, CDK9, PKC',\n",
    "        'Antimetabolite (DNA & RNA)':'Antimetabolite',\n",
    "        'CSF1R, KIT,  PDGFRA, PDGFRB':'CSF1R, KIT, PDGFRA, PDGFRB',\n",
    "        'VEGFR, MET, RET, KIT, FLT1, FLT3, FLT4, TIE2,AXL':'VEGFR, MET, RET, KIT, FLT1, FLT3, FLT4, TIE2, AXL'}\n",
    "for i in data.index:\n",
    "    if data.loc[i,'TARGET'] in list(correct.keys()):\n",
    "        data.loc[i,'TARGET']=correct[data.loc[i,'TARGET']]\n",
    "for i in data.index:\n",
    "    targets+=data.loc[i,'TARGET'].split(', ')\n",
    "    pathways.append(data.loc[i,'TARGET_PATHWAY'])\n",
    "targets=list(set(targets))\n",
    "pathways=list(set(pathways))\n",
    "target_feat=pd.DataFrame(0,index=data.index,columns=targets)\n",
    "pathway_feat=pd.DataFrame(0,index=data.index,columns=pathways)\n",
    "for i in data.index:\n",
    "    targets=data.loc[i,'TARGET'].split(', ')\n",
    "    pathway=data.loc[i,'TARGET_PATHWAY']\n",
    "    target_feat.loc[i,targets]=1\n",
    "    pathway_feat.loc[i,pathway]=1\n",
    "del target_feat['others']\n",
    "del target_feat['not defined']\n",
    "del pathway_feat['Other']\n",
    "target_feat.to_csv('../data/GDSC/ML/drug_features/target.csv',sep=',')\n",
    "pathway_feat.to_csv('../data/GDSC/ML/drug_features/pathway.csv',sep=',')"
   ]
  },
  {
   "cell_type": "code",
   "execution_count": 156,
   "metadata": {
    "collapsed": true
   },
   "outputs": [],
   "source": [
    "#signatures\n",
    "fin=open('../data/GDSC/l1000_gdsc_match.pkl','rb')\n",
    "gdsc_l1000_matching=pickle.load(fin,encoding='latin1')\n",
    "fin.close()"
   ]
  },
  {
   "cell_type": "code",
   "execution_count": 158,
   "metadata": {
    "collapsed": false
   },
   "outputs": [
    {
     "data": {
      "text/plain": [
       "150"
      ]
     },
     "execution_count": 158,
     "metadata": {},
     "output_type": "execute_result"
    }
   ],
   "source": [
    "len(gdsc_l1000_matching)"
   ]
  },
  {
   "cell_type": "code",
   "execution_count": null,
   "metadata": {
    "collapsed": true
   },
   "outputs": [],
   "source": []
  }
 ],
 "metadata": {
  "kernelspec": {
   "display_name": "Python 3",
   "language": "python",
   "name": "python3"
  },
  "language_info": {
   "codemirror_mode": {
    "name": "ipython",
    "version": 3
   },
   "file_extension": ".py",
   "mimetype": "text/x-python",
   "name": "python",
   "nbconvert_exporter": "python",
   "pygments_lexer": "ipython3",
   "version": "3.5.2"
  }
 },
 "nbformat": 4,
 "nbformat_minor": 2
}
