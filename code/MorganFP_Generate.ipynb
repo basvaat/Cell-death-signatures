{
 "cells": [
  {
   "cell_type": "code",
   "execution_count": 19,
   "metadata": {},
   "outputs": [],
   "source": [
    "import numpy\n",
    "import csv\n",
    "import glob,re\n",
    "import rdkit\n",
    "import pandas as pd\n",
    "from rdkit import DataStructs\n",
    "from rdkit.Chem import MolFromSmiles\n",
    "from rdkit.Chem import AllChem\n",
    "from rdkit.Chem import PandasTools\n",
    "from rdkit.Chem.Pharm2D import Gobbi_Pharm2D,Generate\n",
    "from rdkit.Chem import Descriptors\n",
    "\n",
    "\n",
    "class Fingerprint:\n",
    "\n",
    "#Initializing objects of Fingerprint class\n",
    "    def __init__(self, Mols):\n",
    "        self.Mols = Mols\n",
    "        self.Mols_converted = self.Molecule_Convert()\n",
    "\n",
    "#Converting molecules to the form suitable for Fingerprint calculations\n",
    "    def Molecule_Convert(self):\n",
    "        Mols_convert=[]\n",
    "        for i in self.Mols:\n",
    "            m=MolFromSmiles(i)\n",
    "            Mols_convert.append(m)\n",
    "        return Mols_convert\n",
    "\n",
    "\n",
    "#Morgan Fingerprints -Explicit bit vectors; nBits should be changed for calculating 512 or 1024 bit fingerprints\n",
    "    def Morgan(self):\n",
    "        fps = [AllChem.GetMorganFingerprintAsBitVect(m,2,nBits=256) for m in self.Mols_converted]\n",
    "        np_fps = []\n",
    "        for fp in fps:\n",
    "            arr = numpy.zeros((1,))\n",
    "            DataStructs.ConvertToNumpyArray(fp, arr)\n",
    "            np_fps.append(arr)\n",
    "        df = pd.DataFrame(np_fps)\n",
    "        return df\n"
   ]
  },
  {
   "cell_type": "code",
   "execution_count": 20,
   "metadata": {},
   "outputs": [
    {
     "name": "stdout",
     "output_type": "stream",
     "text": [
      "Fingerprint file generated\n"
     ]
    }
   ],
   "source": [
    "#Molecules are provided as input and the functions from Fingerprint class \n",
    "#are used for converting the molecules and calculating Morgan fingerprints\n",
    "\n",
    "#Reading Smiles and compound names \n",
    "#A semi colon separated file with smiles in first column and Compound names in second column\n",
    "#Headers should be included\n",
    "data=pd.read_csv('LINCS_PertID_SMILES.csv',sep=\";\")\n",
    "Mols=data[data.columns[0]]\n",
    "Mols_names=data[data.columns[1]]\n",
    "\n",
    "#Calculating Fingerprints and assigning Molecule names to each row\n",
    "F=Fingerprint(Mols)\n",
    "F_Morgan=F.Morgan()\n",
    "F_Morgan['CompoundNames']=Mols_names\n",
    "    \n",
    "#Generating File names and writing fingerprints / PhysChem properties to a csv file\n",
    "FileName_Morgan=\"LINCS_MorganFP_256.csv\"\n",
    "F_Morgan.to_csv(FileName_Morgan,sep=\",\",index=False)\n",
    "print(\"Fingerprint file generated\")"
   ]
  },
  {
   "cell_type": "code",
   "execution_count": null,
   "metadata": {},
   "outputs": [],
   "source": []
  }
 ],
 "metadata": {
  "kernelspec": {
   "display_name": "Python 3",
   "language": "python",
   "name": "python3"
  },
  "language_info": {
   "codemirror_mode": {
    "name": "ipython",
    "version": 3
   },
   "file_extension": ".py",
   "mimetype": "text/x-python",
   "name": "python",
   "nbconvert_exporter": "python",
   "pygments_lexer": "ipython3",
   "version": "3.7.0"
  }
 },
 "nbformat": 4,
 "nbformat_minor": 2
}
