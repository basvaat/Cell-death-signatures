{
 "cells": [
  {
   "cell_type": "markdown",
   "metadata": {
    "deletable": true,
    "editable": true
   },
   "source": [
    "### Machine learning based drug sensitivity prediction\n",
    "We will predict drug sensitivity from the GDSC dataset using Random Forest Regression. At first we will create cell and drug specific features."
   ]
  },
  {
   "cell_type": "code",
   "execution_count": 1,
   "metadata": {
    "collapsed": true,
    "deletable": true,
    "editable": true
   },
   "outputs": [],
   "source": [
    "import pandas as pd\n",
    "import numpy as np\n",
    "\n",
    "from subprocess import call\n",
    "import pickle\n",
    "from cmapPy.pandasGEXpress.parse import parse\n",
    "\n",
    "from sklearn.ensemble import RandomForestRegressor as RFR\n",
    "from scipy.stats import pearsonr as pcor"
   ]
  },
  {
   "cell_type": "code",
   "execution_count": 63,
   "metadata": {
    "collapsed": false,
    "deletable": true,
    "editable": true
   },
   "outputs": [],
   "source": [
    "#histology\n",
    "data=pd.read_excel('../data/GDSC/Cell_Lines_Details.xlsx',sep=',',header=0,index_col=[0]).iloc[:-1,:]\n",
    "data['COSMIC identifier']=data['COSMIC identifier'].astype(int).astype(str)\n",
    "data.index=data['COSMIC identifier']\n",
    "features=list(set(data['GDSC\\nTissue descriptor 1'])|set(data['GDSC\\nTissue\\ndescriptor 2']))\n",
    "features=pd.DataFrame(0,index=data.index,columns=features)    \n",
    "for cosmic in features.index:\n",
    "    features.loc[cosmic,data.loc[cosmic,['GDSC\\nTissue descriptor 1','GDSC\\nTissue\\ndescriptor 2']]]=1\n",
    "features.T.to_csv('../data/GDSC/ML/cell_features/histology.csv',sep=',')   "
   ]
  },
  {
   "cell_type": "code",
   "execution_count": 64,
   "metadata": {
    "collapsed": true,
    "deletable": true,
    "editable": true
   },
   "outputs": [],
   "source": [
    "#progeny features for pathway activity\n",
    "data=pd.read_csv('../data/GDSC/norm_gex.csv',sep=',',header=0,index_col=0)\n",
    "progeny=pd.read_csv('../data/Functional/PROGENy.csv',sep=',',header=0,index_col=0)\n",
    "genes=list(set(data.index)&set(progeny.index))\n",
    "progeny_scores=pd.DataFrame(np.dot(data.T[genes],progeny.loc[genes]),index=data.columns,columns=progeny.columns)\n",
    "progeny_scores.T.to_csv('../data/GDSC/ML/cell_features/progeny.csv',sep=',')"
   ]
  },
  {
   "cell_type": "code",
   "execution_count": 58,
   "metadata": {
    "collapsed": false,
    "deletable": true,
    "editable": true
   },
   "outputs": [
    {
     "data": {
      "text/plain": [
       "0"
      ]
     },
     "execution_count": 58,
     "metadata": {},
     "output_type": "execute_result"
    }
   ],
   "source": [
    "#dorothea tf activities\n",
    "call(['Rscript','GDSC_TF_activity.R'])"
   ]
  },
  {
   "cell_type": "code",
   "execution_count": 101,
   "metadata": {
    "collapsed": false,
    "deletable": true,
    "editable": true
   },
   "outputs": [],
   "source": [
    "#merge cell features\n",
    "progeny=pd.read_csv('../data/GDSC/ML/cell_features/progeny.csv',sep=',',header=0,index_col=0)\n",
    "dorothea=pd.read_csv('../data/GDSC/ML/cell_features/dorothea.csv',sep=',',header=0,index_col=0)\n",
    "dorothea.index=pd.Series(dorothea.index).apply(lambda x:x.split(' - ')[0]).values\n",
    "fil=pd.Series(dorothea.index).apply(lambda x:x[-1] in ['A','B']).values\n",
    "dorothea=dorothea[fil]\n",
    "dorothea.index=pd.Series(dorothea.index).apply(lambda x:x[:-2]).values\n",
    "histology=pd.read_csv('../data/GDSC/ML/cell_features/histology.csv',sep=',',header=0,index_col=0)\n",
    "cosmics=list(set(progeny.columns)&set(dorothea.columns)&set(histology.columns))\n",
    "progeny.index='PRO_'+pd.Series(progeny.index).values\n",
    "dorothea.index='TF_'+pd.Series(dorothea.index).values\n",
    "histology.index='HIST_'+pd.Series(histology.index).values\n",
    "progeny=progeny[cosmics]\n",
    "dorothea=dorothea[cosmics]\n",
    "histology=histology[cosmics]\n",
    "features=pd.concat([histology,progeny,dorothea]).T\n",
    "features.to_csv('../data/GDSC/ML/cell_features/cell_features.csv',sep=',')"
   ]
  },
  {
   "cell_type": "code",
   "execution_count": 154,
   "metadata": {
    "collapsed": false,
    "deletable": true,
    "editable": true
   },
   "outputs": [],
   "source": [
    "#drug target and pathway\n",
    "data=pd.read_excel('../data/GDSC/Screened_Compounds.xlsx')\n",
    "data.index=data['DRUG_ID']\n",
    "targets=[]\n",
    "pathways=[]\n",
    "#correct some bad annotations\n",
    "correct={'HDAC1-10, EGFR, ERBB2':'HDAC1, HDAC2, HDAC3, HDAC6, HDAC8, EGFR, ERBB2',\n",
    "        'HDAC1 ':'HDAC1','HDAC,RAR':'HDAC1, RAR',\n",
    "        'HDAC inhibitor Class I, IIa, IIb, IV':'HDAC1, HDAC2, HDAC3, HDAC6, HDAC8',\n",
    "        'CDK1,CDK2,CDK5,CDK7,CDK9, PKC':'CDK1, CDK2, CDK5, CDK7, CDK9, PKC',\n",
    "        'Antimetabolite (DNA & RNA)':'Antimetabolite',\n",
    "        'CSF1R, KIT,  PDGFRA, PDGFRB':'CSF1R, KIT, PDGFRA, PDGFRB',\n",
    "        'VEGFR, MET, RET, KIT, FLT1, FLT3, FLT4, TIE2,AXL':'VEGFR, MET, RET, KIT, FLT1, FLT3, FLT4, TIE2, AXL'}\n",
    "for i in data.index:\n",
    "    if data.loc[i,'TARGET'] in list(correct.keys()):\n",
    "        data.loc[i,'TARGET']=correct[data.loc[i,'TARGET']]\n",
    "for i in data.index:\n",
    "    targets+=data.loc[i,'TARGET'].split(', ')\n",
    "    pathways.append(data.loc[i,'TARGET_PATHWAY'])\n",
    "targets=list(set(targets))\n",
    "pathways=list(set(pathways))\n",
    "target_feat=pd.DataFrame(0,index=data.index,columns=targets)\n",
    "pathway_feat=pd.DataFrame(0,index=data.index,columns=pathways)\n",
    "for i in data.index:\n",
    "    targets=data.loc[i,'TARGET'].split(', ')\n",
    "    pathway=data.loc[i,'TARGET_PATHWAY']\n",
    "    target_feat.loc[i,targets]=1\n",
    "    pathway_feat.loc[i,pathway]=1\n",
    "del target_feat['others']\n",
    "del target_feat['not defined']\n",
    "del pathway_feat['Other']\n",
    "target_feat.to_csv('../data/GDSC/ML/drug_features/target.csv',sep=',')\n",
    "pathway_feat.to_csv('../data/GDSC/ML/drug_features/pathway.csv',sep=',')"
   ]
  },
  {
   "cell_type": "code",
   "execution_count": 10,
   "metadata": {
    "collapsed": false,
    "deletable": true,
    "editable": true
   },
   "outputs": [],
   "source": [
    "#signatures\n",
    "fin=open('../data/GDSC/l1000_gdsc_match.pkl','rb')\n",
    "gdsc_l1000_matching=pickle.load(fin,encoding='latin1')\n",
    "fin.close()\n",
    "brds=[]\n",
    "for i in gdsc_l1000_matching:\n",
    "        brds+=gdsc_l1000_matching[i]\n",
    "brds=list(set(brds))\n",
    "#select relevant signatures\n",
    "sig_info_gse92742=pd.read_csv('../data/LINCS/GSE92742/GSE92742_Broad_LINCS_sig_info.txt',\n",
    "                                sep='\\t',header=0,index_col=0,low_memory=False)\n",
    "fil=np.in1d(sig_info_gse92742['pert_itime'],['24 h'])\n",
    "sig_info_gse92742=sig_info_gse92742[fil]\n",
    "sig_info_gse70138=pd.read_csv('../data/LINCS/GSE70138/GSE70138_Broad_LINCS_sig_info.txt',\n",
    "                              sep='\\t',header=0,index_col=0,low_memory=False)\n",
    "fil=np.in1d(sig_info_gse70138['pert_itime'],['24 h'])\n",
    "sig_info_gse70138=sig_info_gse70138[fil]\n",
    "fil=np.in1d(sig_info_gse92742['pert_id'],brds)\n",
    "sig_info_gse92742=sig_info_gse92742[fil]\n",
    "fil=np.in1d(sig_info_gse70138['pert_id'],brds)\n",
    "sig_info_gse70138=sig_info_gse70138[fil]\n",
    "sig_ids_gse70138=list(sig_info_gse70138.index)\n",
    "sig_ids_gse92742=list(sig_info_gse92742.index)\n",
    "#read landmark genes   \n",
    "gene_info=pd.read_table('../data/LINCS/GSE92742/GSE92742_Broad_LINCS_gene_info.txt',sep='\\t')\n",
    "fil=gene_info.loc[:,'pr_is_lm']==1\n",
    "gene_ids = list(gene_info.loc[gene_info.index[fil],'pr_gene_id'].astype(str))\n",
    "#read signatures\n",
    "signatures_gse92742=parse('../data/LINCS/GSE92742/GSE92742_Broad_LINCS_Level5_COMPZ.MODZ_n473647x12328.gctx',\n",
    "                          cid=sig_ids_gse92742,rid=gene_ids)\n",
    "signatures_gse92742=signatures_gse92742.data_df.T\n",
    "signatures_gse70138=parse('../data/LINCS/GSE70138/GSE70138_Broad_LINCS_Level5_COMPZ_n118050x12328.gctx',\n",
    "                          cid=sig_ids_gse70138,rid=gene_ids)\n",
    "signatures_gse70138=signatures_gse70138.data_df.T\n",
    "signatures_gse70138.to_csv('../data/GDSC/ML/signatures_gse70138.csv',sep=',')\n",
    "signatures_gse92742.to_csv('../data/GDSC/ML/signatures_gse92742.csv',sep=',')\n",
    "#order everything\n",
    "signatures_gse70138=signatures_gse70138.loc[:,signatures_gse92742.columns]\n",
    "sig_info_gse70138=sig_info_gse70138.loc[:,['pert_id','cell_id','pert_itime']]\n",
    "sig_info_gse92742=sig_info_gse92742.loc[:,['pert_id','cell_id','pert_itime']]\n",
    "signatures=pd.concat([signatures_gse70138,signatures_gse92742])\n",
    "sig_info=pd.concat([sig_info_gse70138,sig_info_gse92742])\n",
    "sig_info=sig_info.loc[signatures.index,:]\n",
    "\n",
    "sig_info.to_csv('../data/GDSC/ML/sig_info.csv',sep=',')\n",
    "signatures.to_csv('../data/GDSC/ML/signatures.csv',sep=',')"
   ]
  },
  {
   "cell_type": "code",
   "execution_count": 18,
   "metadata": {
    "collapsed": false,
    "deletable": true,
    "editable": true
   },
   "outputs": [],
   "source": [
    "LM_GENES=gene_ids\n",
    "from scipy.stats import spearmanr as scor\n",
    "def calc_MODZ(data):\n",
    "    \"\"\"calculates MODZ based on the original CMAP/L1000 study\n",
    "    use only lm genes for MODZ calculation! Uses LM_GENES global\n",
    "    variable.\"\"\"\n",
    "    if len(data)==1:\n",
    "        return data\n",
    "    if len(data)==2:\n",
    "        return np.mean(data,0)\n",
    "    else:\n",
    "        CM=scor(data[LM_GENES].T)[0]\n",
    "        fil=CM<0\n",
    "        CM[fil]=0.01\n",
    "        weights=np.sum(CM,1)-1\n",
    "        weights=weights/np.sum(weights)\n",
    "        weights=weights.reshape((-1,1))\n",
    "        return pd.Series(np.dot(data.T,weights).reshape((-1,1)[0]),index=data.columns)"
   ]
  },
  {
   "cell_type": "code",
   "execution_count": 14,
   "metadata": {
    "collapsed": true,
    "deletable": true,
    "editable": true
   },
   "outputs": [],
   "source": [
    "#calculating consensus signatures\n",
    "sig_info=pd.read_csv('../data/GDSC/ML/sig_info.csv',sep=',',header=0,index_col=0)\n",
    "signatures=pd.read_csv('../data/GDSC/ML/signatures.csv',sep=',',header=0,index_col=0)\n",
    "assert np.sum(sig_info.index!=signatures.index)==0\n",
    "features=pd.DataFrame(index=list(gdsc_l1000_matching.keys()),columns=signatures.columns)\n",
    "for gdsc_drug in features.index:\n",
    "    brds=gdsc_l1000_matching[gdsc_drug]\n",
    "    fil=np.in1d(sig_info['pert_id'],brds)\n",
    "    indexes=sig_info.index[fil]\n",
    "    features.loc[gdsc_drug]=calc_MODZ(signatures.loc[indexes])\n",
    "features.to_csv('../data/GDSC/ML/drug_features/signatures.csv',sep=',')"
   ]
  },
  {
   "cell_type": "code",
   "execution_count": 32,
   "metadata": {
    "collapsed": false,
    "deletable": true,
    "editable": true
   },
   "outputs": [],
   "source": [
    "#PCA and cor matrix\n",
    "from sklearn.decomposition import PCA\n",
    "model=PCA(40)\n",
    "features_pca=pd.DataFrame(model.fit_transform(features),index=features.index,columns=range(40))\n",
    "features_sim=pd.DataFrame(scor(features.T)[0],index=features.index,columns=features.index)\n",
    "features_pca.to_csv('../data/GDSC/ML/drug_features/signatures_pca.csv',sep=',')\n",
    "features_sim.to_csv('../data/GDSC/ML/drug_features/signatures_sim.csv',sep=',')"
   ]
  },
  {
   "cell_type": "code",
   "execution_count": 103,
   "metadata": {
    "collapsed": false,
    "deletable": true,
    "editable": true
   },
   "outputs": [],
   "source": [
    "#fingerprints\n",
    "fingerprints=pd.read_table('../data/Chemical/LINCS_PertID_SMILES_MorganFP_256bits.csv',\n",
    "                       sep=',',header=0,index_col=[0])\n",
    "fingerprints.index=fingerprints['CompoundNames']\n",
    "del fingerprints['CompoundNames']\n",
    "fingerprints=fingerprints.astype(int)\n",
    "fin=open('../data/GDSC/l1000_gdsc_match.pkl','rb')\n",
    "gdsc_l1000_matching=pickle.load(fin,encoding='latin1')\n",
    "fin.close()\n",
    "brds=[]\n",
    "for i in gdsc_l1000_matching:\n",
    "        brds+=gdsc_l1000_matching[i]\n",
    "brds=list(set(brds)&set(fingerprints.index))\n",
    "fingerprints=fingerprints.loc[brds]\n",
    "features=pd.DataFrame(index=gdsc_l1000_matching.keys(),columns=fingerprints.columns)\n",
    "for drug in gdsc_l1000_matching.keys():\n",
    "    brd=gdsc_l1000_matching[drug][0]\n",
    "    features.loc[drug]=fingerprints.loc[brd]\n",
    "features.to_csv('../data/GDSC/ML/drug_features/fingerprints.csv',sep=',')\n",
    "features=features.astype(bool)\n",
    "features_sim=pd.DataFrame(index=features.index,columns=features.index)\n",
    "for drug in features_sim.index:\n",
    "    features_sim.loc[drug]=np.sum(features.loc[drug]&features,1)/np.sum(features.loc[drug]|features,1)\n",
    "features_sim.to_csv('../data/GDSC/ML/drug_features/fingerprints_sim.csv',sep=',')"
   ]
  },
  {
   "cell_type": "code",
   "execution_count": 169,
   "metadata": {
    "collapsed": false,
    "deletable": true,
    "editable": true
   },
   "outputs": [],
   "source": [
    "#drug response\n",
    "data=pd.read_excel('../data/GDSC/v17.3_fitted_dose_response.xlsx')"
   ]
  },
  {
   "cell_type": "code",
   "execution_count": 170,
   "metadata": {
    "collapsed": false,
    "deletable": true,
    "editable": true
   },
   "outputs": [],
   "source": [
    "cell_feat=pd.read_csv('../data/GDSC/ML/cell_features/cell_features.csv',sep=',',\n",
    "                     header=0,index_col=0)"
   ]
  },
  {
   "cell_type": "code",
   "execution_count": 171,
   "metadata": {
    "collapsed": true,
    "deletable": true,
    "editable": true
   },
   "outputs": [],
   "source": [
    "target=pd.read_csv('../data/GDSC/ML/drug_features/target.csv',sep=',',header=0,\n",
    "                  index_col=0)\n",
    "pathway=pd.read_csv('../data/GDSC/ML/drug_features/pathway.csv',sep=',',header=0,index_col=0)\n",
    "signatures=pd.read_csv('../data/GDSC/ML/drug_features/signatures.csv',sep=',',header=0,index_col=0)\n",
    "singatures_pca=pd.read_csv('../data/GDSC/ML/drug_features/signatures_pca.csv',sep=',',header=0,index_col=0)\n",
    "singatures_sim=pd.read_csv('../data/GDSC/ML/drug_features/signatures_sim.csv',sep=',',header=0,index_col=0)\n",
    "fingerprints=pd.read_csv('../data/GDSC/ML/drug_features/fingerprints.csv',sep=',',header=0,index_col=0)\n",
    "fingerprints_sim=pd.read_csv('../data/GDSC/ML/drug_features/fingerprints_sim.csv',sep=',',header=0,index_col=0)"
   ]
  },
  {
   "cell_type": "code",
   "execution_count": 172,
   "metadata": {
    "collapsed": false,
    "deletable": true,
    "editable": true
   },
   "outputs": [],
   "source": [
    "cosmics=list(set(data['COSMIC_ID'])&set(cell_feat.index))\n",
    "drug_ids=list(set(data['DRUG_ID'])&set(target.index)&set(pathway.index)&set(fingerprints.index)&set(signatures.index))"
   ]
  },
  {
   "cell_type": "code",
   "execution_count": 173,
   "metadata": {
    "collapsed": false,
    "deletable": true,
    "editable": true
   },
   "outputs": [],
   "source": [
    "fil=np.in1d(data['DRUG_ID'],drug_ids)&np.in1d(data['COSMIC_ID'],cosmics)\n",
    "data=data[fil]\n",
    "data_auc=data[['DRUG_ID','COSMIC_ID','AUC']]\n",
    "data_ic50=data[['DRUG_ID','COSMIC_ID','LN_IC50']]\n",
    "data_auc.columns=['DRUG_ID','COSMIC_ID','RESPONSE']\n",
    "data_ic50.columns=['DRUG_ID','COSMIC_ID','RESPONSE']\n",
    "data_auc.to_csv('../data/GDSC/ML/response/response_auc.csv',sep=',')\n",
    "data_ic50.to_csv('../data/GDSC/ML/response/response_ic50.csv',sep=',')"
   ]
  },
  {
   "cell_type": "code",
   "execution_count": 174,
   "metadata": {
    "collapsed": false,
    "deletable": true,
    "editable": true
   },
   "outputs": [],
   "source": [
    "cell_feat.loc[cosmics].to_csv('../data/GDSC/ML/cell_features/cell_features.csv',sep=',')\n",
    "target.loc[drug_ids].to_csv('../data/GDSC/ML/drug_features/target.csv',sep=',')\n",
    "pathway.loc[drug_ids].to_csv('../data/GDSC/ML/drug_features/pathway.csv',sep=',')\n",
    "signatures.loc[drug_ids].to_csv('../data/GDSC/ML/drug_features/signatures.csv',sep=',')\n",
    "singatures_pca.loc[drug_ids].to_csv('../data/GDSC/ML/drug_features/signatures_pca.csv',sep=',')\n",
    "singatures_sim.loc[drug_ids].to_csv('../data/GDSC/ML/drug_features/signatures_sim.csv',sep=',')\n",
    "fingerprints.loc[drug_ids].to_csv('../data/GDSC/ML/drug_features/fingerprints.csv',sep=',')\n",
    "fingerprints_sim.loc[drug_ids].to_csv('../data/GDSC/ML/drug_features/fingerprints_sim.csv',sep=',')\n"
   ]
  },
  {
   "cell_type": "markdown",
   "metadata": {
    "deletable": true,
    "editable": true
   },
   "source": [
    "Now we can start the predction."
   ]
  },
  {
   "cell_type": "code",
   "execution_count": 175,
   "metadata": {
    "collapsed": true,
    "deletable": true,
    "editable": true
   },
   "outputs": [],
   "source": [
    "def read_data(drug_feature_type='target',response_type='auc'):\n",
    "    response=pd.read_csv('../data/GDSC/ML/response/response_%s.csv' % response_type,sep=',',header=0,index_col=0)\n",
    "    cell_feat=pd.read_csv('../data/GDSC/ML/cell_features/cell_features.csv',sep=',',header=0,index_col=0)\n",
    "    drug_feat=pd.read_csv('../data/GDSC/ML/drug_features/%s.csv' % drug_feature_type,sep=',',header=0,index_col=0)\n",
    "    cell_feat=cell_feat.loc[response['COSMIC_ID'].values]\n",
    "    cell_feat.index=response.index\n",
    "    drug_feat=drug_feat.loc[response['DRUG_ID'].values]\n",
    "    drug_feat.index=response.index\n",
    "    features=pd.concat([cell_feat,drug_feat],1)\n",
    "    return response,features"
   ]
  },
  {
   "cell_type": "code",
   "execution_count": 176,
   "metadata": {
    "collapsed": true,
    "deletable": true,
    "editable": true
   },
   "outputs": [],
   "source": [
    "TARGET_MATRIX=pd.read_csv('../data/GDSC/ML/drug_features/target.csv',sep=',',header=0,\n",
    "                  index_col=0)\n",
    "def make_split(data,s,split_type='random'):\n",
    "    np.random.seed(s)\n",
    "    drugs=list(set(data.loc[:,'DRUG_ID']))\n",
    "    if split_type=='random':\n",
    "        drugs_tr=np.random.choice(drugs,int(len(drugs)/2),False)\n",
    "        fil=np.in1d(data.loc[:,'DRUG_ID'],drugs_tr)\n",
    "        tr=data.index[fil]\n",
    "        ts=data.index[~fil]\n",
    "    elif split_type=='same_target':\n",
    "        tr_drugs=[]\n",
    "        ts_drugs=[]\n",
    "        while len(drugs)>0:\n",
    "            drug=np.random.choice(drugs,1)[0]\n",
    "            fil=TARGET_MATRIX.loc[drug,:]==1\n",
    "            targets_round=list(TARGET_MATRIX.columns[fil])\n",
    "            fil=np.sum(TARGET_MATRIX.loc[:,targets_round],1)>0\n",
    "            drugs_round=list(set(TARGET_MATRIX.index[fil])&set(drugs))\n",
    "            if len(drugs_round)>1:\n",
    "                drugs_round_tr=list(np.random.choice(drugs_round,int(len(drugs_round)/2),False))\n",
    "                drugs_round_ts=list(set(drugs_round)-set(drugs_round_tr))\n",
    "                tr_drugs+=drugs_round_tr\n",
    "                ts_drugs+=drugs_round_ts\n",
    "            else:\n",
    "                tr_drugs+=drugs_round\n",
    "            drugs=list(set(drugs)-set(drugs_round))\n",
    "        fil=np.in1d(data.loc[:,'DRUG_ID'],tr_drugs)\n",
    "        tr=data.index[fil]\n",
    "        ts=data.index[~fil]\n",
    "    elif split_type=='diff_target':\n",
    "        tr_drugs=[]\n",
    "        l=len(drugs)\n",
    "        while len(drugs)>l/2:\n",
    "            drug=np.random.choice(drugs,1)[0]\n",
    "            fil=TARGET_MATRIX.loc[drug,:]==1\n",
    "            targets_round=list(TARGET_MATRIX.columns[fil])\n",
    "            targets_round_prev=[]\n",
    "            while set(targets_round)!=set(targets_round_prev):\n",
    "                targets_round_prev=targets_round[::]\n",
    "                fil=np.sum(TARGET_MATRIX.loc[:,targets_round],1)>0\n",
    "                drugs_round=list(set(TARGET_MATRIX.index[fil])&set(drugs))\n",
    "                fil=np.sum(TARGET_MATRIX.loc[drugs_round,:],0)>0\n",
    "                targets_round=TARGET_MATRIX.columns[fil]\n",
    "            tr_drugs+=drugs_round\n",
    "            drugs=list(set(drugs)-set(drugs_round))\n",
    "        fil=np.in1d(data.loc[:,'DRUG_ID'],tr_drugs)\n",
    "        tr=data.index[fil]\n",
    "        ts=data.index[~fil]\n",
    "    return tr,ts"
   ]
  },
  {
   "cell_type": "code",
   "execution_count": 177,
   "metadata": {
    "collapsed": true,
    "deletable": true,
    "editable": true
   },
   "outputs": [],
   "source": [
    "def make_prediction(response,features,tr,ts):\n",
    "    model=RFR(n_estimators=50,n_jobs=11)\n",
    "    model.fit(features.loc[tr,:],response.loc[tr,'RESPONSE'])\n",
    "    results=response.loc[ts,:].copy()\n",
    "    y_pr=model.predict(features.loc[ts,:])\n",
    "    results['Predicted']=y_pr\n",
    "    return results"
   ]
  },
  {
   "cell_type": "code",
   "execution_count": 231,
   "metadata": {
    "collapsed": false,
    "deletable": true,
    "editable": true
   },
   "outputs": [
    {
     "name": "stdout",
     "output_type": "stream",
     "text": [
      "random target 0.472204734219 0.412156358878\n",
      "random pathway 0.333446264452 0.395757030069\n",
      "random fingerprints 0.235288938269 0.388158851678\n",
      "random fingerprints_sim 0.457833915742 0.410212817378\n",
      "random signatures_pca 0.556443298478 0.382209129066\n",
      "random signatures_sim 0.453401503881 0.389723876593\n",
      "same_target target 0.614074077636 0.470444210724\n",
      "same_target pathway 0.557011874928 0.472560708842\n",
      "same_target fingerprints 0.193678072803 0.380082422058\n",
      "same_target fingerprints_sim 0.20762474886 0.419347263335\n",
      "same_target signatures_pca 0.552093921308 0.39703378354\n",
      "same_target signatures_sim 0.480424867998 0.412495558792\n",
      "diff_target target 0.203392307531 0.417014795846\n",
      "diff_target pathway 0.27057253416 0.410258632343\n",
      "diff_target fingerprints 0.167917537525 0.417956297545\n",
      "diff_target fingerprints_sim -0.00496247679401 0.395272783966\n",
      "diff_target signatures_pca 0.395599773684 0.389644723629\n",
      "diff_target signatures_sim 0.426905114335 0.375029364524\n"
     ]
    }
   ],
   "source": [
    "for resp in ['auc','ic50']:    \n",
    "    for split in ['random','same_target','diff_target']:\n",
    "        for df in ['target','pathway','fingerprints','signatures_pca']:\n",
    "            data,features=read_data(df,response_type=resp)\n",
    "            for s in range(20):\n",
    "                tr,ts=make_split(data,s,split)\n",
    "                results=make_prediction(data,features,tr,ts)\n",
    "                rname='_'.join([resp,split,df,str(s)])\n",
    "                results.to_csv('../results/GDSC/%s.csv' % rname,sep=',')"
   ]
  }
 ],
 "metadata": {
  "kernelspec": {
   "display_name": "Python 3",
   "language": "python",
   "name": "python3"
  },
  "language_info": {
   "codemirror_mode": {
    "name": "ipython",
    "version": 3
   },
   "file_extension": ".py",
   "mimetype": "text/x-python",
   "name": "python",
   "nbconvert_exporter": "python",
   "pygments_lexer": "ipython3",
   "version": "3.5.2"
  }
 },
 "nbformat": 4,
 "nbformat_minor": 2
}
